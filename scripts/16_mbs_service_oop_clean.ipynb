{
 "cells": [
  {
   "cell_type": "markdown",
   "metadata": {},
   "source": [
    "# MBS Out of Pocket Cost Per Service By State & Year Dataset"
   ]
  },
  {
   "cell_type": "markdown",
   "metadata": {},
   "source": [
    "Cleaning and transforming dataset prior to combining with master dataset"
   ]
  },
  {
   "cell_type": "code",
   "execution_count": 130,
   "metadata": {},
   "outputs": [],
   "source": [
    "import pandas as pd\n",
    "import os"
   ]
  },
  {
   "cell_type": "markdown",
   "metadata": {},
   "source": [
    "## Import Dataset"
   ]
  },
  {
   "cell_type": "code",
   "execution_count": 131,
   "metadata": {},
   "outputs": [
    {
     "name": "stdout",
     "output_type": "stream",
     "text": [
      "<class 'pandas.core.frame.DataFrame'>\n",
      "RangeIndex: 1815 entries, 0 to 1814\n",
      "Data columns (total 4 columns):\n",
      " #   Column                                                                  Non-Null Count  Dtype \n",
      "---  ------                                                                  --------------  ----- \n",
      " 0   State                                                                   1815 non-null   object\n",
      " 1   Financial Year                                                          1815 non-null   object\n",
      " 2   Broad Type of Service                                                   1815 non-null   object\n",
      " 3    Avg Patient Contribution Per Service: Out of Hospital Patient Billed   1815 non-null   object\n",
      "dtypes: object(4)\n",
      "memory usage: 56.8+ KB\n"
     ]
    }
   ],
   "source": [
    "path = r\"/Users/patel/Documents/CF-Data Anaylst Course/portfolio_projects/mbs_analysis/datasets/\"\n",
    "\n",
    "df_oop_service = pd.read_csv(\n",
    "    os.path.join(path, \"original_datasets/mbs_data/state_year_oop_cost.csv\")\n",
    ")\n",
    "df_oop_service.info()"
   ]
  },
  {
   "cell_type": "markdown",
   "metadata": {},
   "source": [
    "## Cleaning Dataset"
   ]
  },
  {
   "cell_type": "markdown",
   "metadata": {},
   "source": [
    "### Renaming Columns"
   ]
  },
  {
   "cell_type": "code",
   "execution_count": 132,
   "metadata": {},
   "outputs": [
    {
     "data": {
      "text/html": [
       "<div>\n",
       "<style scoped>\n",
       "    .dataframe tbody tr th:only-of-type {\n",
       "        vertical-align: middle;\n",
       "    }\n",
       "\n",
       "    .dataframe tbody tr th {\n",
       "        vertical-align: top;\n",
       "    }\n",
       "\n",
       "    .dataframe thead th {\n",
       "        text-align: right;\n",
       "    }\n",
       "</style>\n",
       "<table border=\"1\" class=\"dataframe\">\n",
       "  <thead>\n",
       "    <tr style=\"text-align: right;\">\n",
       "      <th></th>\n",
       "      <th>State</th>\n",
       "      <th>Year</th>\n",
       "      <th>Service</th>\n",
       "      <th>Patient_OOP_per_service</th>\n",
       "    </tr>\n",
       "  </thead>\n",
       "  <tbody>\n",
       "    <tr>\n",
       "      <th>0</th>\n",
       "      <td>Australia</td>\n",
       "      <td>2022-23</td>\n",
       "      <td>Total Medicare</td>\n",
       "      <td>74.28</td>\n",
       "    </tr>\n",
       "    <tr>\n",
       "      <th>1</th>\n",
       "      <td>NSW</td>\n",
       "      <td>2022-23</td>\n",
       "      <td>Total Medicare</td>\n",
       "      <td>81.37</td>\n",
       "    </tr>\n",
       "    <tr>\n",
       "      <th>2</th>\n",
       "      <td>Vic</td>\n",
       "      <td>2022-23</td>\n",
       "      <td>Total Medicare</td>\n",
       "      <td>74.64</td>\n",
       "    </tr>\n",
       "    <tr>\n",
       "      <th>3</th>\n",
       "      <td>Qld</td>\n",
       "      <td>2022-23</td>\n",
       "      <td>Total Medicare</td>\n",
       "      <td>71.12</td>\n",
       "    </tr>\n",
       "    <tr>\n",
       "      <th>4</th>\n",
       "      <td>SA</td>\n",
       "      <td>2022-23</td>\n",
       "      <td>Total Medicare</td>\n",
       "      <td>61.95</td>\n",
       "    </tr>\n",
       "    <tr>\n",
       "      <th>...</th>\n",
       "      <td>...</td>\n",
       "      <td>...</td>\n",
       "      <td>...</td>\n",
       "      <td>...</td>\n",
       "    </tr>\n",
       "    <tr>\n",
       "      <th>1810</th>\n",
       "      <td>WA</td>\n",
       "      <td>2009-10</td>\n",
       "      <td>Other MBS Services</td>\n",
       "      <td>55.37</td>\n",
       "    </tr>\n",
       "    <tr>\n",
       "      <th>1811</th>\n",
       "      <td>Tas</td>\n",
       "      <td>2009-10</td>\n",
       "      <td>Other MBS Services</td>\n",
       "      <td>50.16</td>\n",
       "    </tr>\n",
       "    <tr>\n",
       "      <th>1812</th>\n",
       "      <td>NT</td>\n",
       "      <td>2009-10</td>\n",
       "      <td>Other MBS Services</td>\n",
       "      <td>137.70</td>\n",
       "    </tr>\n",
       "    <tr>\n",
       "      <th>1813</th>\n",
       "      <td>ACT</td>\n",
       "      <td>2009-10</td>\n",
       "      <td>Other MBS Services</td>\n",
       "      <td>91.29</td>\n",
       "    </tr>\n",
       "    <tr>\n",
       "      <th>1814</th>\n",
       "      <td>Unk</td>\n",
       "      <td>2009-10</td>\n",
       "      <td>Other MBS Services</td>\n",
       "      <td>20.19</td>\n",
       "    </tr>\n",
       "  </tbody>\n",
       "</table>\n",
       "<p>1815 rows × 4 columns</p>\n",
       "</div>"
      ],
      "text/plain": [
       "          State     Year             Service Patient_OOP_per_service\n",
       "0     Australia  2022-23      Total Medicare                  74.28 \n",
       "1           NSW  2022-23      Total Medicare                  81.37 \n",
       "2           Vic  2022-23      Total Medicare                  74.64 \n",
       "3           Qld  2022-23      Total Medicare                  71.12 \n",
       "4            SA  2022-23      Total Medicare                  61.95 \n",
       "...         ...      ...                 ...                     ...\n",
       "1810         WA  2009-10  Other MBS Services                  55.37 \n",
       "1811        Tas  2009-10  Other MBS Services                  50.16 \n",
       "1812         NT  2009-10  Other MBS Services                 137.70 \n",
       "1813        ACT  2009-10  Other MBS Services                  91.29 \n",
       "1814        Unk  2009-10  Other MBS Services                  20.19 \n",
       "\n",
       "[1815 rows x 4 columns]"
      ]
     },
     "execution_count": 132,
     "metadata": {},
     "output_type": "execute_result"
    }
   ],
   "source": [
    "# Renaming columns\n",
    "df_oop_service.rename(\n",
    "    columns={\n",
    "        \"Financial Year\": \"Year\",\n",
    "        \"Broad Type of Service\": \"Service\",\n",
    "        \" Avg Patient Contribution Per Service: Out of Hospital Patient Billed \": \"Patient_OOP_per_service\",\n",
    "    },\n",
    "    inplace=True,\n",
    ")\n",
    "df_oop_service"
   ]
  },
  {
   "cell_type": "markdown",
   "metadata": {},
   "source": [
    "### Subseting to Extract 2014-2022 Dataset"
   ]
  },
  {
   "cell_type": "code",
   "execution_count": 133,
   "metadata": {},
   "outputs": [
    {
     "data": {
      "text/plain": [
       "array(['2022-23', '2021-22', '2020-21', '2019-20', '2018-19', '2017-18',\n",
       "       '2016-17', '2015-16', '2014-15', '2013-14', '2012-13', '2011-12',\n",
       "       '2010-11', '2009-10'], dtype=object)"
      ]
     },
     "execution_count": 133,
     "metadata": {},
     "output_type": "execute_result"
    }
   ],
   "source": [
    "df_oop_service[\"Year\"].unique()"
   ]
  },
  {
   "cell_type": "code",
   "execution_count": 134,
   "metadata": {},
   "outputs": [
    {
     "data": {
      "text/plain": [
       "array(['Total Medicare', 'Total GP Non-Referred Attendances',\n",
       "       'Practice Nurse', 'Other Allied Health', 'Specialist Attendances',\n",
       "       'Obstetrics', 'Anaesthetics', 'Total Pathology',\n",
       "       'Diagnostic Imaging', 'Total Operations', 'Optometry',\n",
       "       'Radiotherapy and Therapeutic Nuclear Medicine',\n",
       "       'Other MBS Services'], dtype=object)"
      ]
     },
     "execution_count": 134,
     "metadata": {},
     "output_type": "execute_result"
    }
   ],
   "source": [
    "df_oop_service[\"Service\"].unique()"
   ]
  },
  {
   "cell_type": "code",
   "execution_count": 135,
   "metadata": {},
   "outputs": [
    {
     "data": {
      "text/html": [
       "<div>\n",
       "<style scoped>\n",
       "    .dataframe tbody tr th:only-of-type {\n",
       "        vertical-align: middle;\n",
       "    }\n",
       "\n",
       "    .dataframe tbody tr th {\n",
       "        vertical-align: top;\n",
       "    }\n",
       "\n",
       "    .dataframe thead th {\n",
       "        text-align: right;\n",
       "    }\n",
       "</style>\n",
       "<table border=\"1\" class=\"dataframe\">\n",
       "  <thead>\n",
       "    <tr style=\"text-align: right;\">\n",
       "      <th></th>\n",
       "      <th>State</th>\n",
       "      <th>Year</th>\n",
       "      <th>Service</th>\n",
       "      <th>Patient_OOP_per_service</th>\n",
       "    </tr>\n",
       "  </thead>\n",
       "  <tbody>\n",
       "    <tr>\n",
       "      <th>141</th>\n",
       "      <td>NSW</td>\n",
       "      <td>2021-22</td>\n",
       "      <td>Total GP Non-Referred Attendances</td>\n",
       "      <td>41.29</td>\n",
       "    </tr>\n",
       "    <tr>\n",
       "      <th>142</th>\n",
       "      <td>Vic</td>\n",
       "      <td>2021-22</td>\n",
       "      <td>Total GP Non-Referred Attendances</td>\n",
       "      <td>43.05</td>\n",
       "    </tr>\n",
       "    <tr>\n",
       "      <th>143</th>\n",
       "      <td>Qld</td>\n",
       "      <td>2021-22</td>\n",
       "      <td>Total GP Non-Referred Attendances</td>\n",
       "      <td>43.18</td>\n",
       "    </tr>\n",
       "    <tr>\n",
       "      <th>144</th>\n",
       "      <td>SA</td>\n",
       "      <td>2021-22</td>\n",
       "      <td>Total GP Non-Referred Attendances</td>\n",
       "      <td>35.77</td>\n",
       "    </tr>\n",
       "    <tr>\n",
       "      <th>145</th>\n",
       "      <td>WA</td>\n",
       "      <td>2021-22</td>\n",
       "      <td>Total GP Non-Referred Attendances</td>\n",
       "      <td>42.65</td>\n",
       "    </tr>\n",
       "    <tr>\n",
       "      <th>...</th>\n",
       "      <td>...</td>\n",
       "      <td>...</td>\n",
       "      <td>...</td>\n",
       "      <td>...</td>\n",
       "    </tr>\n",
       "    <tr>\n",
       "      <th>1251</th>\n",
       "      <td>SA</td>\n",
       "      <td>2013-14</td>\n",
       "      <td>Diagnostic Imaging</td>\n",
       "      <td>86.53</td>\n",
       "    </tr>\n",
       "    <tr>\n",
       "      <th>1252</th>\n",
       "      <td>WA</td>\n",
       "      <td>2013-14</td>\n",
       "      <td>Diagnostic Imaging</td>\n",
       "      <td>103.68</td>\n",
       "    </tr>\n",
       "    <tr>\n",
       "      <th>1253</th>\n",
       "      <td>Tas</td>\n",
       "      <td>2013-14</td>\n",
       "      <td>Diagnostic Imaging</td>\n",
       "      <td>92.99</td>\n",
       "    </tr>\n",
       "    <tr>\n",
       "      <th>1254</th>\n",
       "      <td>NT</td>\n",
       "      <td>2013-14</td>\n",
       "      <td>Diagnostic Imaging</td>\n",
       "      <td>105.32</td>\n",
       "    </tr>\n",
       "    <tr>\n",
       "      <th>1255</th>\n",
       "      <td>ACT</td>\n",
       "      <td>2013-14</td>\n",
       "      <td>Diagnostic Imaging</td>\n",
       "      <td>107.76</td>\n",
       "    </tr>\n",
       "  </tbody>\n",
       "</table>\n",
       "<p>360 rows × 4 columns</p>\n",
       "</div>"
      ],
      "text/plain": [
       "     State     Year                            Service Patient_OOP_per_service\n",
       "141    NSW  2021-22  Total GP Non-Referred Attendances                  41.29 \n",
       "142    Vic  2021-22  Total GP Non-Referred Attendances                  43.05 \n",
       "143    Qld  2021-22  Total GP Non-Referred Attendances                  43.18 \n",
       "144     SA  2021-22  Total GP Non-Referred Attendances                  35.77 \n",
       "145     WA  2021-22  Total GP Non-Referred Attendances                  42.65 \n",
       "...    ...      ...                                ...                     ...\n",
       "1251    SA  2013-14                 Diagnostic Imaging                  86.53 \n",
       "1252    WA  2013-14                 Diagnostic Imaging                 103.68 \n",
       "1253   Tas  2013-14                 Diagnostic Imaging                  92.99 \n",
       "1254    NT  2013-14                 Diagnostic Imaging                 105.32 \n",
       "1255   ACT  2013-14                 Diagnostic Imaging                 107.76 \n",
       "\n",
       "[360 rows x 4 columns]"
      ]
     },
     "execution_count": 135,
     "metadata": {},
     "output_type": "execute_result"
    }
   ],
   "source": [
    "df_oop_service_subset = df_oop_service[\n",
    "    (\n",
    "        df_oop_service[\"Year\"].isin(\n",
    "            [\n",
    "                \"2021-22\",\n",
    "                \"2020-21\",\n",
    "                \"2019-20\",\n",
    "                \"2018-19\",\n",
    "                \"2017-18\",\n",
    "                \"2016-17\",\n",
    "                \"2015-16\",\n",
    "                \"2014-15\",\n",
    "                \"2013-14\",\n",
    "            ]\n",
    "        )\n",
    "    )\n",
    "    & df_oop_service[\"Service\"].isin(\n",
    "        [\n",
    "            \"Total GP Non-Referred Attendances\",\n",
    "            \"Practice Nurse\",\n",
    "            \"Other Allied Health\",\n",
    "            \"Specialist Attendances\",\n",
    "            \"Diagnostic Imaging\",\n",
    "        ]\n",
    "    )\n",
    "    & df_oop_service[\"State\"].isin(\n",
    "        [\"NSW\", \"Vic\", \"Qld\", \"SA\", \"WA\", \"Tas\", \"NT\", \"ACT\"]\n",
    "    )\n",
    "].copy()\n",
    "df_oop_service_subset"
   ]
  },
  {
   "cell_type": "code",
   "execution_count": 136,
   "metadata": {},
   "outputs": [
    {
     "data": {
      "text/plain": [
       "array(['Total GP Non-Referred Attendances', 'Practice Nurse',\n",
       "       'Other Allied Health', 'Specialist Attendances',\n",
       "       'Diagnostic Imaging'], dtype=object)"
      ]
     },
     "execution_count": 136,
     "metadata": {},
     "output_type": "execute_result"
    }
   ],
   "source": [
    "df_oop_service_subset[\"Service\"].unique()"
   ]
  },
  {
   "cell_type": "code",
   "execution_count": 137,
   "metadata": {},
   "outputs": [
    {
     "data": {
      "text/plain": [
       "array(['NSW', 'Vic', 'Qld', 'SA', 'WA', 'Tas', 'NT', 'ACT'], dtype=object)"
      ]
     },
     "execution_count": 137,
     "metadata": {},
     "output_type": "execute_result"
    }
   ],
   "source": [
    "df_oop_service_subset[\"State\"].unique()"
   ]
  },
  {
   "cell_type": "code",
   "execution_count": 138,
   "metadata": {},
   "outputs": [
    {
     "data": {
      "text/plain": [
       "array(['2021-22', '2020-21', '2019-20', '2018-19', '2017-18', '2016-17',\n",
       "       '2015-16', '2014-15', '2013-14'], dtype=object)"
      ]
     },
     "execution_count": 138,
     "metadata": {},
     "output_type": "execute_result"
    }
   ],
   "source": [
    "df_oop_service_subset[\"Year\"].unique()"
   ]
  },
  {
   "cell_type": "markdown",
   "metadata": {},
   "source": [
    "### Standardisation of Values"
   ]
  },
  {
   "cell_type": "markdown",
   "metadata": {},
   "source": [
    "#### Year"
   ]
  },
  {
   "cell_type": "code",
   "execution_count": 139,
   "metadata": {},
   "outputs": [],
   "source": [
    "year_replacement = {\n",
    "    \"2021-22\": \"2022\",\n",
    "    \"2020-21\": \"2021\",\n",
    "    \"2019-20\": \"2020\",\n",
    "    \"2018-19\": \"2019\",\n",
    "    \"2017-18\": \"2018\",\n",
    "    \"2016-17\": \"2017\",\n",
    "    \"2015-16\": \"2016\",\n",
    "    \"2014-15\": \"2015\",\n",
    "    \"2013-14\": \"2014\",\n",
    "}\n",
    "\n",
    "df_oop_service_subset[\"Year\"] = df_oop_service_subset[\"Year\"].replace(year_replacement)"
   ]
  },
  {
   "cell_type": "code",
   "execution_count": 140,
   "metadata": {},
   "outputs": [
    {
     "data": {
      "text/plain": [
       "array(['2022', '2021', '2020', '2019', '2018', '2017', '2016', '2015',\n",
       "       '2014'], dtype=object)"
      ]
     },
     "execution_count": 140,
     "metadata": {},
     "output_type": "execute_result"
    }
   ],
   "source": [
    "df_oop_service_subset[\"Year\"].unique()"
   ]
  },
  {
   "cell_type": "markdown",
   "metadata": {},
   "source": [
    "#### Service Names"
   ]
  },
  {
   "cell_type": "code",
   "execution_count": 141,
   "metadata": {},
   "outputs": [],
   "source": [
    "service_name_replacement = {\n",
    "    \"Total GP Non-Referred Attendances\": \"GP attendances (total)\",\n",
    "    \"Practice Nurse\": \"Nursing and Aboriginal Health Workers (total)\",\n",
    "    \"Other Allied Health\": \"Allied Health attendances (total)\",\n",
    "    \"Specialist Attendances\": \"Specialist attendances (total)\",\n",
    "    \"Diagnostic Imaging\": \"Diagnostic Imaging (total)\",\n",
    "}\n",
    "df_oop_service_subset[\"Service\"] = df_oop_service_subset[\"Service\"].replace(\n",
    "    service_name_replacement\n",
    ")"
   ]
  },
  {
   "cell_type": "code",
   "execution_count": 142,
   "metadata": {},
   "outputs": [
    {
     "data": {
      "text/plain": [
       "array(['GP attendances (total)',\n",
       "       'Nursing and Aboriginal Health Workers (total)',\n",
       "       'Allied Health attendances (total)',\n",
       "       'Specialist attendances (total)', 'Diagnostic Imaging (total)'],\n",
       "      dtype=object)"
      ]
     },
     "execution_count": 142,
     "metadata": {},
     "output_type": "execute_result"
    }
   ],
   "source": [
    "df_oop_service_subset[\"Service\"].unique()"
   ]
  },
  {
   "cell_type": "markdown",
   "metadata": {},
   "source": [
    "#### Updating Data Types"
   ]
  },
  {
   "cell_type": "code",
   "execution_count": 143,
   "metadata": {},
   "outputs": [],
   "source": [
    "df_oop_service_subset[\"Year\"] = df_oop_service_subset[\"Year\"].astype(\"int\")"
   ]
  },
  {
   "cell_type": "code",
   "execution_count": 144,
   "metadata": {},
   "outputs": [],
   "source": [
    "df_oop_service_subset[\"Patient_OOP_per_service\"] = df_oop_service_subset[\n",
    "    \"Patient_OOP_per_service\"\n",
    "].astype(\"float\")"
   ]
  },
  {
   "cell_type": "code",
   "execution_count": 145,
   "metadata": {},
   "outputs": [
    {
     "name": "stdout",
     "output_type": "stream",
     "text": [
      "<class 'pandas.core.frame.DataFrame'>\n",
      "Int64Index: 360 entries, 141 to 1255\n",
      "Data columns (total 4 columns):\n",
      " #   Column                   Non-Null Count  Dtype  \n",
      "---  ------                   --------------  -----  \n",
      " 0   State                    360 non-null    object \n",
      " 1   Year                     360 non-null    int64  \n",
      " 2   Service                  360 non-null    object \n",
      " 3   Patient_OOP_per_service  360 non-null    float64\n",
      "dtypes: float64(1), int64(1), object(2)\n",
      "memory usage: 14.1+ KB\n"
     ]
    }
   ],
   "source": [
    "df_oop_service_subset.info()"
   ]
  },
  {
   "cell_type": "markdown",
   "metadata": {},
   "source": [
    "## Export to Pickle & CSV Files"
   ]
  },
  {
   "cell_type": "code",
   "execution_count": 146,
   "metadata": {},
   "outputs": [],
   "source": [
    "# exporting MBS-Census-State-Year-Service Level 1 (No demographic Data)\n",
    "df_oop_service_subset.to_csv(\n",
    "    os.path.join(\n",
    "        path, \"clean_datasets/cleaned_csv/mbs_oop_service_state_year_clean.csv\"\n",
    "    )\n",
    ")"
   ]
  },
  {
   "cell_type": "code",
   "execution_count": 148,
   "metadata": {},
   "outputs": [],
   "source": [
    "df_oop_service_subset.to_pickle(\n",
    "    os.path.join(path, \"clean_datasets/mbs_data/mbs_oop_service_state_year_clean.pkl\")\n",
    ")"
   ]
  }
 ],
 "metadata": {
  "kernelspec": {
   "display_name": "base",
   "language": "python",
   "name": "python3"
  },
  "language_info": {
   "codemirror_mode": {
    "name": "ipython",
    "version": 3
   },
   "file_extension": ".py",
   "mimetype": "text/x-python",
   "name": "python",
   "nbconvert_exporter": "python",
   "pygments_lexer": "ipython3",
   "version": "3.11.5"
  }
 },
 "nbformat": 4,
 "nbformat_minor": 2
}
