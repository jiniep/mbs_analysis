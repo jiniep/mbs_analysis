{
 "cells": [
  {
   "cell_type": "markdown",
   "metadata": {},
   "source": [
    "# Explore Census MBS Combined Dataset (Non-Pivot)"
   ]
  },
  {
   "cell_type": "code",
   "execution_count": 14,
   "metadata": {},
   "outputs": [],
   "source": [
    "import pandas as pd\n",
    "import numpy as np\n",
    "import seaborn as sns\n",
    "import matplotlib as mp\n",
    "import os"
   ]
  },
  {
   "cell_type": "markdown",
   "metadata": {},
   "source": [
    "## Import Dataset (Non Pivot)"
   ]
  },
  {
   "cell_type": "code",
   "execution_count": 15,
   "metadata": {},
   "outputs": [
    {
     "name": "stdout",
     "output_type": "stream",
     "text": [
      "<class 'pandas.core.frame.DataFrame'>\n",
      "Int64Index: 229569 entries, 0 to 229568\n",
      "Data columns (total 50 columns):\n",
      " #   Column                         Non-Null Count   Dtype  \n",
      "---  ------                         --------------   -----  \n",
      " 0   Year                           229569 non-null  int64  \n",
      " 1   StateTerritory                 229569 non-null  object \n",
      " 2   GeographicCode                 229569 non-null  object \n",
      " 3   GeographicAreaName             229569 non-null  object \n",
      " 4   GeographicGroup                229569 non-null  object \n",
      " 5   ServiceLevel                   229569 non-null  object \n",
      " 6   Service                        229569 non-null  object \n",
      " 7   DemographicGroup               229569 non-null  object \n",
      " 8   MBS_per_100                    229569 non-null  float64\n",
      " 9   No_of_patients                 229569 non-null  Int32  \n",
      " 10  No_of_services                 229569 non-null  Int64  \n",
      " 11  %_People_had_service           229569 non-null  float64\n",
      " 12  Services_100_people            229569 non-null  float64\n",
      " 13  Total_mbs_paid_$               229569 non-null  float64\n",
      " 14  Total_provider_fees_$          229569 non-null  float64\n",
      " 15  ERP                            229569 non-null  Int64  \n",
      " 16  key_x                          229569 non-null  object \n",
      " 17  Out_of_Pocket                  229569 non-null  float64\n",
      " 18  Out_of_pocket_cost_%           229569 non-null  float64\n",
      " 19  Out_of_pocket_cost_per_person  229569 non-null  float64\n",
      " 20  No_of_service_per_person       229569 non-null  float64\n",
      " 21  Patient_ERP_Flag               229569 non-null  bool   \n",
      " 22  negative_income                229569 non-null  int64  \n",
      " 23  no_income                      229569 non-null  int64  \n",
      " 24  not_stated                     229569 non-null  int64  \n",
      " 25  not_applicable                 229569 non-null  int64  \n",
      " 26  average_income_$5200           229569 non-null  int64  \n",
      " 27  average_income_$13000          229569 non-null  int64  \n",
      " 28  average_income_$18200          229569 non-null  int64  \n",
      " 29  average_income_$26000          229569 non-null  int64  \n",
      " 30  average_income_$36400          229569 non-null  int64  \n",
      " 31  average_income_$46800          229569 non-null  int64  \n",
      " 32  average_income_$58500          229569 non-null  int64  \n",
      " 33  average_income_$71500          229569 non-null  int64  \n",
      " 34  average_income_$91000          229569 non-null  int64  \n",
      " 35  average_income_$130000         229569 non-null  int64  \n",
      " 36  average_income_$169000+        229569 non-null  int64  \n",
      " 37  Population_demographic         229569 non-null  object \n",
      " 38  Population                     229569 non-null  int64  \n",
      " 39  %_out_of_pocket_by_$5200       229569 non-null  float64\n",
      " 40  %_out_of_pocket_by_$13000      229569 non-null  float64\n",
      " 41  %_out_of_pocket_by_$18200      229569 non-null  float64\n",
      " 42  %_out_of_pocket_by_$26000      229569 non-null  float64\n",
      " 43  %_out_of_pocket_by_$36400      229569 non-null  float64\n",
      " 44  %_out_of_pocket_by_$46800      229569 non-null  float64\n",
      " 45  %_out_of_pocket_by_$58500      229569 non-null  float64\n",
      " 46  %_out_of_pocket_by_$71500      229569 non-null  float64\n",
      " 47  %_out_of_pocket_by_$91000      229569 non-null  float64\n",
      " 48  %_out_of_pocket_by_$130000     229569 non-null  float64\n",
      " 49  %_out_of_pocket_by_$169000+    229569 non-null  float64\n",
      "dtypes: Int32(1), Int64(2), bool(1), float64(20), int64(17), object(9)\n",
      "memory usage: 87.6+ MB\n"
     ]
    }
   ],
   "source": [
    "# import the census and assign to a dataframe\n",
    "\n",
    "# setup path to original dataset\n",
    "path = r\"/Users/patel/Documents/CF-Data Anaylst Course/portfolio_projects/mbs_analysis/datasets/\"\n",
    "df_mbs_census = pd.read_pickle(\n",
    "    os.path.join(path, \"clean_datasets/2014_22_mbs_cenus_combined_no_pivot.pkl\")\n",
    ")\n",
    "df_mbs_census.info()"
   ]
  },
  {
   "cell_type": "markdown",
   "metadata": {},
   "source": [
    "## EDA for Service Level 1 Dataset"
   ]
  },
  {
   "cell_type": "markdown",
   "metadata": {},
   "source": [
    "### Extract Service Level 1 Data"
   ]
  },
  {
   "cell_type": "code",
   "execution_count": 16,
   "metadata": {},
   "outputs": [
    {
     "data": {
      "text/plain": [
       "array(['Allied Health attendances (total)', 'Diagnostic Imaging (total)',\n",
       "       'GP attendances (total)',\n",
       "       'Nursing and Aboriginal Health Workers (total)',\n",
       "       'Specialist attendances (total)'], dtype=object)"
      ]
     },
     "execution_count": 16,
     "metadata": {},
     "output_type": "execute_result"
    }
   ],
   "source": [
    "df_mbs_census_s1 = df_mbs_census[df_mbs_census[\"ServiceLevel\"] == \"Level 1\"]\n",
    "df_mbs_census_s1[\"Service\"].unique()"
   ]
  },
  {
   "cell_type": "code",
   "execution_count": 17,
   "metadata": {},
   "outputs": [],
   "source": [
    "df_mbs_census_s1.to_csv(\n",
    "    (os.path.join(path, \"clean_datasets/cleaned_csv/2014-22_combined_service_1.csv\"))\n",
    ")"
   ]
  }
 ],
 "metadata": {
  "kernelspec": {
   "display_name": "base",
   "language": "python",
   "name": "python3"
  },
  "language_info": {
   "codemirror_mode": {
    "name": "ipython",
    "version": 3
   },
   "file_extension": ".py",
   "mimetype": "text/x-python",
   "name": "python",
   "nbconvert_exporter": "python",
   "pygments_lexer": "ipython3",
   "version": "3.11.5"
  }
 },
 "nbformat": 4,
 "nbformat_minor": 2
}
