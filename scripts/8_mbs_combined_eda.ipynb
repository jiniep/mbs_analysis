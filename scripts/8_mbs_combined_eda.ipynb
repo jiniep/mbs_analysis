{
 "cells": [
  {
   "cell_type": "markdown",
   "metadata": {},
   "source": [
    "# MBS Combined 2014-2022: Exporative Analysis"
   ]
  },
  {
   "cell_type": "code",
   "execution_count": 83,
   "metadata": {},
   "outputs": [],
   "source": [
    "# import libraries\n",
    "import pandas as pd\n",
    "import numpy as np\n",
    "import os"
   ]
  },
  {
   "cell_type": "markdown",
   "metadata": {},
   "source": [
    "## Import MBS Combined Dataset"
   ]
  },
  {
   "cell_type": "code",
   "execution_count": 84,
   "metadata": {},
   "outputs": [
    {
     "name": "stdout",
     "output_type": "stream",
     "text": [
      "<class 'pandas.core.frame.DataFrame'>\n",
      "RangeIndex: 258535 entries, 0 to 258534\n",
      "Data columns (total 16 columns):\n",
      " #   Column                                        Non-Null Count   Dtype  \n",
      "---  ------                                        --------------   -----  \n",
      " 0   Year                                          258535 non-null  int64  \n",
      " 1   StateTerritory                                258535 non-null  object \n",
      " 2   GeographicCode                                258535 non-null  object \n",
      " 3   GeographicAreaName                            258535 non-null  object \n",
      " 4   GeographicGroup                               258535 non-null  object \n",
      " 5   ServiceLevel                                  258535 non-null  object \n",
      " 6   Service                                       258535 non-null  object \n",
      " 7   DemographicGroup                              258535 non-null  object \n",
      " 8   Medicare benefits per 100 people ($)          234301 non-null  float64\n",
      " 9   No. of patients                               234301 non-null  Int32  \n",
      " 10  No. of services                               234301 non-null  Int64  \n",
      " 11  Percentage of people who had the service (%)  234301 non-null  float64\n",
      " 12  Services per 100 people                       234301 non-null  float64\n",
      " 13  Total Medicare benefits paid ($)              234301 non-null  float64\n",
      " 14  Total provider fees ($)                       234301 non-null  float64\n",
      " 15  Estimated resident population                 258505 non-null  Int64  \n",
      "dtypes: Int32(1), Int64(2), float64(5), int64(1), object(7)\n",
      "memory usage: 31.3+ MB\n"
     ]
    }
   ],
   "source": [
    "# import the transformed mbs file and assign to a dataframe\n",
    "\n",
    "# setup path to original dataset\n",
    "path = r\"/Users/patel/Documents/CF-Data Anaylst Course/portfolio_projects/mbs_analysis/datasets/\"\n",
    "\n",
    "df_mbs_2014_23 = pd.read_pickle(\n",
    "    os.path.join(path, \"clean_datasets/mbs_data/2014-22_phc_combined_mbs.pkl\")\n",
    ")\n",
    "df_mbs_2014_23.info(10)"
   ]
  },
  {
   "cell_type": "markdown",
   "metadata": {},
   "source": [
    "## Descriptive Statistical Analysis"
   ]
  },
  {
   "cell_type": "code",
   "execution_count": 85,
   "metadata": {},
   "outputs": [
    {
     "data": {
      "text/html": [
       "<div>\n",
       "<style scoped>\n",
       "    .dataframe tbody tr th:only-of-type {\n",
       "        vertical-align: middle;\n",
       "    }\n",
       "\n",
       "    .dataframe tbody tr th {\n",
       "        vertical-align: top;\n",
       "    }\n",
       "\n",
       "    .dataframe thead th {\n",
       "        text-align: right;\n",
       "    }\n",
       "</style>\n",
       "<table border=\"1\" class=\"dataframe\">\n",
       "  <thead>\n",
       "    <tr style=\"text-align: right;\">\n",
       "      <th></th>\n",
       "      <th>Year</th>\n",
       "      <th>Medicare benefits per 100 people ($)</th>\n",
       "      <th>No. of patients</th>\n",
       "      <th>No. of services</th>\n",
       "      <th>Percentage of people who had the service (%)</th>\n",
       "      <th>Services per 100 people</th>\n",
       "      <th>Total Medicare benefits paid ($)</th>\n",
       "      <th>Total provider fees ($)</th>\n",
       "      <th>Estimated resident population</th>\n",
       "    </tr>\n",
       "  </thead>\n",
       "  <tbody>\n",
       "    <tr>\n",
       "      <th>count</th>\n",
       "      <td>258535.000000</td>\n",
       "      <td>234301.000000</td>\n",
       "      <td>234301.0</td>\n",
       "      <td>234301.0</td>\n",
       "      <td>234301.000000</td>\n",
       "      <td>234301.00000</td>\n",
       "      <td>2.343010e+05</td>\n",
       "      <td>2.343010e+05</td>\n",
       "      <td>258505.0</td>\n",
       "    </tr>\n",
       "    <tr>\n",
       "      <th>mean</th>\n",
       "      <td>2018.002162</td>\n",
       "      <td>6546.570367</td>\n",
       "      <td>21725.315317</td>\n",
       "      <td>93415.819766</td>\n",
       "      <td>23.257384</td>\n",
       "      <td>104.48140</td>\n",
       "      <td>5.642181e+06</td>\n",
       "      <td>6.530087e+06</td>\n",
       "      <td>126692.421748</td>\n",
       "    </tr>\n",
       "    <tr>\n",
       "      <th>std</th>\n",
       "      <td>2.583762</td>\n",
       "      <td>11229.591164</td>\n",
       "      <td>228847.398569</td>\n",
       "      <td>1353282.511084</td>\n",
       "      <td>28.371166</td>\n",
       "      <td>208.22682</td>\n",
       "      <td>6.963072e+07</td>\n",
       "      <td>7.848583e+07</td>\n",
       "      <td>835320.657884</td>\n",
       "    </tr>\n",
       "    <tr>\n",
       "      <th>min</th>\n",
       "      <td>2014.000000</td>\n",
       "      <td>0.000000</td>\n",
       "      <td>0.0</td>\n",
       "      <td>-102.0</td>\n",
       "      <td>0.000000</td>\n",
       "      <td>-0.34000</td>\n",
       "      <td>0.000000e+00</td>\n",
       "      <td>0.000000e+00</td>\n",
       "      <td>0.0</td>\n",
       "    </tr>\n",
       "    <tr>\n",
       "      <th>25%</th>\n",
       "      <td>2016.000000</td>\n",
       "      <td>97.000000</td>\n",
       "      <td>521.0</td>\n",
       "      <td>1063.0</td>\n",
       "      <td>1.110000</td>\n",
       "      <td>2.17000</td>\n",
       "      <td>4.743900e+04</td>\n",
       "      <td>5.389700e+04</td>\n",
       "      <td>20080.0</td>\n",
       "    </tr>\n",
       "    <tr>\n",
       "      <th>50%</th>\n",
       "      <td>2018.000000</td>\n",
       "      <td>1146.110000</td>\n",
       "      <td>3290.0</td>\n",
       "      <td>7721.0</td>\n",
       "      <td>8.990000</td>\n",
       "      <td>19.43000</td>\n",
       "      <td>5.376540e+05</td>\n",
       "      <td>6.216280e+05</td>\n",
       "      <td>43450.0</td>\n",
       "    </tr>\n",
       "    <tr>\n",
       "      <th>75%</th>\n",
       "      <td>2020.000000</td>\n",
       "      <td>7662.810000</td>\n",
       "      <td>11101.0</td>\n",
       "      <td>30794.0</td>\n",
       "      <td>35.700000</td>\n",
       "      <td>91.07000</td>\n",
       "      <td>2.486454e+06</td>\n",
       "      <td>3.009783e+06</td>\n",
       "      <td>77425.0</td>\n",
       "    </tr>\n",
       "    <tr>\n",
       "      <th>max</th>\n",
       "      <td>2022.000000</td>\n",
       "      <td>110280.550000</td>\n",
       "      <td>23099650.0</td>\n",
       "      <td>188694030.0</td>\n",
       "      <td>100.000000</td>\n",
       "      <td>2041.20000</td>\n",
       "      <td>9.082284e+09</td>\n",
       "      <td>1.000562e+10</td>\n",
       "      <td>25697298.0</td>\n",
       "    </tr>\n",
       "  </tbody>\n",
       "</table>\n",
       "</div>"
      ],
      "text/plain": [
       "                Year  Medicare benefits per 100 people ($)  No. of patients  \\\n",
       "count  258535.000000                         234301.000000         234301.0   \n",
       "mean     2018.002162                           6546.570367     21725.315317   \n",
       "std         2.583762                          11229.591164    228847.398569   \n",
       "min      2014.000000                              0.000000              0.0   \n",
       "25%      2016.000000                             97.000000            521.0   \n",
       "50%      2018.000000                           1146.110000           3290.0   \n",
       "75%      2020.000000                           7662.810000          11101.0   \n",
       "max      2022.000000                         110280.550000       23099650.0   \n",
       "\n",
       "       No. of services  Percentage of people who had the service (%)  \\\n",
       "count         234301.0                                 234301.000000   \n",
       "mean      93415.819766                                     23.257384   \n",
       "std     1353282.511084                                     28.371166   \n",
       "min             -102.0                                      0.000000   \n",
       "25%             1063.0                                      1.110000   \n",
       "50%             7721.0                                      8.990000   \n",
       "75%            30794.0                                     35.700000   \n",
       "max        188694030.0                                    100.000000   \n",
       "\n",
       "       Services per 100 people  Total Medicare benefits paid ($)  \\\n",
       "count             234301.00000                      2.343010e+05   \n",
       "mean                 104.48140                      5.642181e+06   \n",
       "std                  208.22682                      6.963072e+07   \n",
       "min                   -0.34000                      0.000000e+00   \n",
       "25%                    2.17000                      4.743900e+04   \n",
       "50%                   19.43000                      5.376540e+05   \n",
       "75%                   91.07000                      2.486454e+06   \n",
       "max                 2041.20000                      9.082284e+09   \n",
       "\n",
       "       Total provider fees ($)  Estimated resident population  \n",
       "count             2.343010e+05                       258505.0  \n",
       "mean              6.530087e+06                  126692.421748  \n",
       "std               7.848583e+07                  835320.657884  \n",
       "min               0.000000e+00                            0.0  \n",
       "25%               5.389700e+04                        20080.0  \n",
       "50%               6.216280e+05                        43450.0  \n",
       "75%               3.009783e+06                        77425.0  \n",
       "max               1.000562e+10                     25697298.0  "
      ]
     },
     "execution_count": 85,
     "metadata": {},
     "output_type": "execute_result"
    }
   ],
   "source": [
    "df_mbs_2014_23.describe()"
   ]
  },
  {
   "cell_type": "markdown",
   "metadata": {},
   "source": [
    "1. 10% of values are missing in each numeric column except Year and ERD. These are not published values due to suppression. Will not be populated\n",
    "2. No of Services has - 102 as minimum. Investigation required\n",
    "3. Services per 100 people has negative value\n",
    "4. Check number of SA areas that have 0 residents"
   ]
  },
  {
   "cell_type": "markdown",
   "metadata": {},
   "source": [
    "### Address Negative Value"
   ]
  },
  {
   "cell_type": "code",
   "execution_count": 86,
   "metadata": {},
   "outputs": [
    {
     "data": {
      "text/html": [
       "<div>\n",
       "<style scoped>\n",
       "    .dataframe tbody tr th:only-of-type {\n",
       "        vertical-align: middle;\n",
       "    }\n",
       "\n",
       "    .dataframe tbody tr th {\n",
       "        vertical-align: top;\n",
       "    }\n",
       "\n",
       "    .dataframe thead th {\n",
       "        text-align: right;\n",
       "    }\n",
       "</style>\n",
       "<table border=\"1\" class=\"dataframe\">\n",
       "  <thead>\n",
       "    <tr style=\"text-align: right;\">\n",
       "      <th></th>\n",
       "      <th>Year</th>\n",
       "      <th>StateTerritory</th>\n",
       "      <th>GeographicCode</th>\n",
       "      <th>GeographicAreaName</th>\n",
       "      <th>GeographicGroup</th>\n",
       "      <th>ServiceLevel</th>\n",
       "      <th>Service</th>\n",
       "      <th>DemographicGroup</th>\n",
       "      <th>Medicare benefits per 100 people ($)</th>\n",
       "      <th>No. of patients</th>\n",
       "      <th>No. of services</th>\n",
       "      <th>Percentage of people who had the service (%)</th>\n",
       "      <th>Services per 100 people</th>\n",
       "      <th>Total Medicare benefits paid ($)</th>\n",
       "      <th>Total provider fees ($)</th>\n",
       "      <th>Estimated resident population</th>\n",
       "    </tr>\n",
       "  </thead>\n",
       "  <tbody>\n",
       "    <tr>\n",
       "      <th>159089</th>\n",
       "      <td>2019</td>\n",
       "      <td>Qld</td>\n",
       "      <td>31502</td>\n",
       "      <td>Outback - North</td>\n",
       "      <td>Remote (incl. very remote)</td>\n",
       "      <td>Level 3</td>\n",
       "      <td>GP Multidisciplinary Case Conference</td>\n",
       "      <td>All persons</td>\n",
       "      <td>5.0</td>\n",
       "      <td>183</td>\n",
       "      <td>-102</td>\n",
       "      <td>0.61</td>\n",
       "      <td>-0.34</td>\n",
       "      <td>1548.0</td>\n",
       "      <td>1586.0</td>\n",
       "      <td>30139</td>\n",
       "    </tr>\n",
       "  </tbody>\n",
       "</table>\n",
       "</div>"
      ],
      "text/plain": [
       "        Year StateTerritory GeographicCode GeographicAreaName  \\\n",
       "159089  2019            Qld          31502    Outback - North   \n",
       "\n",
       "                   GeographicGroup ServiceLevel  \\\n",
       "159089  Remote (incl. very remote)      Level 3   \n",
       "\n",
       "                                     Service DemographicGroup  \\\n",
       "159089  GP Multidisciplinary Case Conference      All persons   \n",
       "\n",
       "        Medicare benefits per 100 people ($)  No. of patients  \\\n",
       "159089                                   5.0              183   \n",
       "\n",
       "        No. of services  Percentage of people who had the service (%)  \\\n",
       "159089             -102                                          0.61   \n",
       "\n",
       "        Services per 100 people  Total Medicare benefits paid ($)  \\\n",
       "159089                    -0.34                            1548.0   \n",
       "\n",
       "        Total provider fees ($)  Estimated resident population  \n",
       "159089                   1586.0                          30139  "
      ]
     },
     "execution_count": 86,
     "metadata": {},
     "output_type": "execute_result"
    }
   ],
   "source": [
    "df_mbs_2014_23[df_mbs_2014_23[\"No. of services\"] < 0]"
   ]
  },
  {
   "cell_type": "markdown",
   "metadata": {},
   "source": [
    "Original data is with -ve value. No explanation from source the reason for -ve 'no of services' and 'services per 100 people'. \n",
    "\n",
    "Assumption made that thi is an error. Since there were patients recorded, setting it to be positive."
   ]
  },
  {
   "cell_type": "code",
   "execution_count": 87,
   "metadata": {},
   "outputs": [
    {
     "data": {
      "text/plain": [
       "Year                                                                            2019\n",
       "StateTerritory                                                                   Qld\n",
       "GeographicCode                                                                 31502\n",
       "GeographicAreaName                                                   Outback - North\n",
       "GeographicGroup                                           Remote (incl. very remote)\n",
       "ServiceLevel                                                                 Level 3\n",
       "Service                                         GP Multidisciplinary Case Conference\n",
       "DemographicGroup                                                         All persons\n",
       "Medicare benefits per 100 people ($)                                             5.0\n",
       "No. of patients                                                                  183\n",
       "No. of services                                                                  102\n",
       "Percentage of people who had the service (%)                                    0.61\n",
       "Services per 100 people                                                         0.34\n",
       "Total Medicare benefits paid ($)                                              1548.0\n",
       "Total provider fees ($)                                                       1586.0\n",
       "Estimated resident population                                                  30139\n",
       "Name: 159089, dtype: object"
      ]
     },
     "execution_count": 87,
     "metadata": {},
     "output_type": "execute_result"
    }
   ],
   "source": [
    "df_mbs_2014_23.loc[159089, \"No. of services\"] = abs(\n",
    "    df_mbs_2014_23.loc[159089, \"No. of services\"]\n",
    ")\n",
    "df_mbs_2014_23.loc[159089, \"Services per 100 people\"] = abs(\n",
    "    df_mbs_2014_23.loc[159089, \"Services per 100 people\"]\n",
    ")\n",
    "df_mbs_2014_23.loc[159089]"
   ]
  },
  {
   "cell_type": "markdown",
   "metadata": {},
   "source": [
    "#### Estimated Resident Population 0 Investigation"
   ]
  },
  {
   "cell_type": "code",
   "execution_count": 88,
   "metadata": {},
   "outputs": [
    {
     "data": {
      "text/plain": [
       "(314, 16)"
      ]
     },
     "execution_count": 88,
     "metadata": {},
     "output_type": "execute_result"
    }
   ],
   "source": [
    "zero_erp = df_mbs_2014_23[df_mbs_2014_23[\"Estimated resident population\"] == 0]\n",
    "zero_erp.shape"
   ]
  },
  {
   "cell_type": "code",
   "execution_count": 89,
   "metadata": {},
   "outputs": [
    {
     "data": {
      "text/plain": [
       "StateTerritory     GeographicCode  GeographicAreaName         \n",
       "Other Territories  90104           Norfolk Island                 249\n",
       "NSW                12402           Blue Mountains - South          45\n",
       "                   10702           Illawarra Catchment Reserve     20\n",
       "dtype: int64"
      ]
     },
     "execution_count": 89,
     "metadata": {},
     "output_type": "execute_result"
    }
   ],
   "source": [
    "zero_erp[[\"StateTerritory\", \"GeographicCode\", \"GeographicAreaName\"]].value_counts(\n",
    "    dropna=False\n",
    ")"
   ]
  },
  {
   "cell_type": "markdown",
   "metadata": {},
   "source": [
    "From previous investigation we know Blue Mountains and Illawarra Catchment Reserve have no population."
   ]
  },
  {
   "cell_type": "code",
   "execution_count": 90,
   "metadata": {},
   "outputs": [
    {
     "data": {
      "text/plain": [
       "Remote (incl. very remote)    249\n",
       "Name: GeographicGroup, dtype: int64"
      ]
     },
     "execution_count": 90,
     "metadata": {},
     "output_type": "execute_result"
    }
   ],
   "source": [
    "# investigating Norfolk Island\n",
    "zero_erp[zero_erp[\"GeographicCode\"] == \"90104\"][\"GeographicGroup\"].value_counts(\n",
    "    dropna=False\n",
    ")"
   ]
  },
  {
   "cell_type": "code",
   "execution_count": 91,
   "metadata": {},
   "outputs": [],
   "source": [
    "norfolk_data = df_mbs_2014_23[(df_mbs_2014_23[\"GeographicCode\"] == \"90104\")]"
   ]
  },
  {
   "cell_type": "markdown",
   "metadata": {},
   "source": [
    "Norfolk Island data has small population. Due to this data was either suppressed or services were not used. Suspect the data collection from Norfolk also occurred after 2016 census. "
   ]
  },
  {
   "cell_type": "code",
   "execution_count": 92,
   "metadata": {},
   "outputs": [],
   "source": [
    "df_mbs_2014_23.dtypes.to_clipboard()"
   ]
  },
  {
   "cell_type": "code",
   "execution_count": 103,
   "metadata": {},
   "outputs": [
    {
     "data": {
      "text/plain": [
       "(258535, 16)"
      ]
     },
     "execution_count": 103,
     "metadata": {},
     "output_type": "execute_result"
    }
   ],
   "source": [
    "df_mbs_2014_23.shape"
   ]
  },
  {
   "cell_type": "code",
   "execution_count": 98,
   "metadata": {},
   "outputs": [],
   "source": [
    "df_mbs_2014_23.to_pickle(\n",
    "    os.path.join(path, \"clean_datasets/mbs_data/2014-22_phc_complete_mbs.pkl\")\n",
    ")"
   ]
  }
 ],
 "metadata": {
  "kernelspec": {
   "display_name": "base",
   "language": "python",
   "name": "python3"
  },
  "language_info": {
   "codemirror_mode": {
    "name": "ipython",
    "version": 3
   },
   "file_extension": ".py",
   "mimetype": "text/x-python",
   "name": "python",
   "nbconvert_exporter": "python",
   "pygments_lexer": "ipython3",
   "version": "3.11.5"
  }
 },
 "nbformat": 4,
 "nbformat_minor": 2
}
