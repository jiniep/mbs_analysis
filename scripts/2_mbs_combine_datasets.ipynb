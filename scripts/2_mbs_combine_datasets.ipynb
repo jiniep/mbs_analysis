{
 "cells": [
  {
   "cell_type": "markdown",
   "metadata": {},
   "source": [
    "# Combine ERP & MBS Datasets\n",
    "\n",
    "Estimated Resident Population data is missing from 2013-19 and 2019-21 datasets. The script checks and cleans respective SA3 datasets and is combined with corresponding MBS data. "
   ]
  },
  {
   "cell_type": "code",
   "execution_count": 807,
   "metadata": {},
   "outputs": [],
   "source": [
    "# import libraries\n",
    "import pandas as pd\n",
    "import numpy as np\n",
    "import os"
   ]
  },
  {
   "cell_type": "markdown",
   "metadata": {},
   "source": [
    "## 1.Load and Combine 2013-19 MBS and ERP dataset"
   ]
  },
  {
   "cell_type": "markdown",
   "metadata": {},
   "source": [
    "#### 1.1 Import MBS and SA3 ERP files"
   ]
  },
  {
   "cell_type": "code",
   "execution_count": 808,
   "metadata": {},
   "outputs": [
    {
     "name": "stderr",
     "output_type": "stream",
     "text": [
      "/var/folders/6w/mdyngzzd2_z7brmk404qky_m0000gs/T/ipykernel_64789/3060543461.py:6: DtypeWarning: Columns (4) have mixed types. Specify dtype option on import or set low_memory=False.\n",
      "  df_mbs_201319 = pd.read_csv(\n"
     ]
    },
    {
     "data": {
      "text/html": [
       "<div>\n",
       "<style scoped>\n",
       "    .dataframe tbody tr th:only-of-type {\n",
       "        vertical-align: middle;\n",
       "    }\n",
       "\n",
       "    .dataframe tbody tr th {\n",
       "        vertical-align: top;\n",
       "    }\n",
       "\n",
       "    .dataframe thead th {\n",
       "        text-align: right;\n",
       "    }\n",
       "</style>\n",
       "<table border=\"1\" class=\"dataframe\">\n",
       "  <thead>\n",
       "    <tr style=\"text-align: right;\">\n",
       "      <th></th>\n",
       "      <th>Year</th>\n",
       "      <th>StateTerritory</th>\n",
       "      <th>GeographicUnit</th>\n",
       "      <th>GeographicCode</th>\n",
       "      <th>GeographicAreaName</th>\n",
       "      <th>GeographicGroup</th>\n",
       "      <th>ServiceLevel</th>\n",
       "      <th>Service</th>\n",
       "      <th>DemographicGroup</th>\n",
       "      <th>Medicare benefits per 100 people ($)</th>\n",
       "      <th>No. of patients</th>\n",
       "      <th>No. of services</th>\n",
       "      <th>Percentage of people who had the service (%)</th>\n",
       "      <th>Services per 100 people</th>\n",
       "      <th>Total Medicare benefits paid ($)</th>\n",
       "      <th>Total provider fees ($)</th>\n",
       "    </tr>\n",
       "  </thead>\n",
       "  <tbody>\n",
       "    <tr>\n",
       "      <th>0</th>\n",
       "      <td>2013-14</td>\n",
       "      <td>ACT</td>\n",
       "      <td>SA3</td>\n",
       "      <td>80101</td>\n",
       "      <td>Belconnen</td>\n",
       "      <td>Major cities - medium SES</td>\n",
       "      <td>Level 1</td>\n",
       "      <td>Allied Health attendances (total)</td>\n",
       "      <td>0-24</td>\n",
       "      <td>2576.0</td>\n",
       "      <td>5624.0</td>\n",
       "      <td>10879.0</td>\n",
       "      <td>17.27</td>\n",
       "      <td>33.41</td>\n",
       "      <td>838549.0</td>\n",
       "      <td>1026474.0</td>\n",
       "    </tr>\n",
       "    <tr>\n",
       "      <th>1</th>\n",
       "      <td>2013-14</td>\n",
       "      <td>ACT</td>\n",
       "      <td>SA3</td>\n",
       "      <td>80101</td>\n",
       "      <td>Belconnen</td>\n",
       "      <td>Major cities - medium SES</td>\n",
       "      <td>Level 1</td>\n",
       "      <td>Allied Health attendances (total)</td>\n",
       "      <td>25-44</td>\n",
       "      <td>4004.0</td>\n",
       "      <td>7714.0</td>\n",
       "      <td>15870.0</td>\n",
       "      <td>24.75</td>\n",
       "      <td>50.93</td>\n",
       "      <td>1247656.0</td>\n",
       "      <td>1600846.0</td>\n",
       "    </tr>\n",
       "    <tr>\n",
       "      <th>2</th>\n",
       "      <td>2013-14</td>\n",
       "      <td>ACT</td>\n",
       "      <td>SA3</td>\n",
       "      <td>80101</td>\n",
       "      <td>Belconnen</td>\n",
       "      <td>Major cities - medium SES</td>\n",
       "      <td>Level 1</td>\n",
       "      <td>Allied Health attendances (total)</td>\n",
       "      <td>45-64</td>\n",
       "      <td>4672.0</td>\n",
       "      <td>8998.0</td>\n",
       "      <td>15754.0</td>\n",
       "      <td>41.32</td>\n",
       "      <td>72.35</td>\n",
       "      <td>1017264.0</td>\n",
       "      <td>1197133.0</td>\n",
       "    </tr>\n",
       "    <tr>\n",
       "      <th>3</th>\n",
       "      <td>2013-14</td>\n",
       "      <td>ACT</td>\n",
       "      <td>SA3</td>\n",
       "      <td>80101</td>\n",
       "      <td>Belconnen</td>\n",
       "      <td>Major cities - medium SES</td>\n",
       "      <td>Level 1</td>\n",
       "      <td>Allied Health attendances (total)</td>\n",
       "      <td>65+</td>\n",
       "      <td>5819.0</td>\n",
       "      <td>6397.0</td>\n",
       "      <td>12316.0</td>\n",
       "      <td>55.07</td>\n",
       "      <td>106.01</td>\n",
       "      <td>675946.0</td>\n",
       "      <td>761837.0</td>\n",
       "    </tr>\n",
       "    <tr>\n",
       "      <th>4</th>\n",
       "      <td>2013-14</td>\n",
       "      <td>ACT</td>\n",
       "      <td>SA3</td>\n",
       "      <td>80101</td>\n",
       "      <td>Belconnen</td>\n",
       "      <td>Major cities - medium SES</td>\n",
       "      <td>Level 1</td>\n",
       "      <td>Allied Health attendances (total)</td>\n",
       "      <td>All persons</td>\n",
       "      <td>3892.0</td>\n",
       "      <td>28733.0</td>\n",
       "      <td>54818.0</td>\n",
       "      <td>29.59</td>\n",
       "      <td>56.45</td>\n",
       "      <td>3779415.0</td>\n",
       "      <td>4586290.0</td>\n",
       "    </tr>\n",
       "    <tr>\n",
       "      <th>5</th>\n",
       "      <td>2013-14</td>\n",
       "      <td>ACT</td>\n",
       "      <td>SA3</td>\n",
       "      <td>80101</td>\n",
       "      <td>Belconnen</td>\n",
       "      <td>Major cities - medium SES</td>\n",
       "      <td>Level 1</td>\n",
       "      <td>Allied Health attendances (total)</td>\n",
       "      <td>Females</td>\n",
       "      <td>4902.0</td>\n",
       "      <td>17048.0</td>\n",
       "      <td>34198.0</td>\n",
       "      <td>34.9</td>\n",
       "      <td>70.01</td>\n",
       "      <td>2394671.0</td>\n",
       "      <td>2929743.0</td>\n",
       "    </tr>\n",
       "    <tr>\n",
       "      <th>6</th>\n",
       "      <td>2013-14</td>\n",
       "      <td>ACT</td>\n",
       "      <td>SA3</td>\n",
       "      <td>80101</td>\n",
       "      <td>Belconnen</td>\n",
       "      <td>Major cities - medium SES</td>\n",
       "      <td>Level 1</td>\n",
       "      <td>Allied Health attendances (total)</td>\n",
       "      <td>Males</td>\n",
       "      <td>2869.0</td>\n",
       "      <td>11685.0</td>\n",
       "      <td>20620.0</td>\n",
       "      <td>24.21</td>\n",
       "      <td>42.72</td>\n",
       "      <td>1384744.0</td>\n",
       "      <td>1656547.0</td>\n",
       "    </tr>\n",
       "    <tr>\n",
       "      <th>7</th>\n",
       "      <td>2013-14</td>\n",
       "      <td>ACT</td>\n",
       "      <td>SA3</td>\n",
       "      <td>80101</td>\n",
       "      <td>Belconnen</td>\n",
       "      <td>Major cities - medium SES</td>\n",
       "      <td>Level 1</td>\n",
       "      <td>Diagnostic Imaging (total)</td>\n",
       "      <td>0-24</td>\n",
       "      <td>2513.0</td>\n",
       "      <td>5594.0</td>\n",
       "      <td>8984.0</td>\n",
       "      <td>17.18</td>\n",
       "      <td>27.59</td>\n",
       "      <td>818149.0</td>\n",
       "      <td>1051718.0</td>\n",
       "    </tr>\n",
       "    <tr>\n",
       "      <th>8</th>\n",
       "      <td>2013-14</td>\n",
       "      <td>ACT</td>\n",
       "      <td>SA3</td>\n",
       "      <td>80101</td>\n",
       "      <td>Belconnen</td>\n",
       "      <td>Major cities - medium SES</td>\n",
       "      <td>Level 1</td>\n",
       "      <td>Diagnostic Imaging (total)</td>\n",
       "      <td>25-44</td>\n",
       "      <td>6904.0</td>\n",
       "      <td>9500.0</td>\n",
       "      <td>19275.0</td>\n",
       "      <td>30.48</td>\n",
       "      <td>61.85</td>\n",
       "      <td>2151589.0</td>\n",
       "      <td>3173663.0</td>\n",
       "    </tr>\n",
       "    <tr>\n",
       "      <th>9</th>\n",
       "      <td>2013-14</td>\n",
       "      <td>ACT</td>\n",
       "      <td>SA3</td>\n",
       "      <td>80101</td>\n",
       "      <td>Belconnen</td>\n",
       "      <td>Major cities - medium SES</td>\n",
       "      <td>Level 1</td>\n",
       "      <td>Diagnostic Imaging (total)</td>\n",
       "      <td>45-64</td>\n",
       "      <td>11869.0</td>\n",
       "      <td>8389.0</td>\n",
       "      <td>19105.0</td>\n",
       "      <td>38.53</td>\n",
       "      <td>87.74</td>\n",
       "      <td>2584397.0</td>\n",
       "      <td>3601039.0</td>\n",
       "    </tr>\n",
       "  </tbody>\n",
       "</table>\n",
       "</div>"
      ],
      "text/plain": [
       "      Year StateTerritory GeographicUnit GeographicCode GeographicAreaName  \\\n",
       "0  2013-14            ACT            SA3          80101          Belconnen   \n",
       "1  2013-14            ACT            SA3          80101          Belconnen   \n",
       "2  2013-14            ACT            SA3          80101          Belconnen   \n",
       "3  2013-14            ACT            SA3          80101          Belconnen   \n",
       "4  2013-14            ACT            SA3          80101          Belconnen   \n",
       "5  2013-14            ACT            SA3          80101          Belconnen   \n",
       "6  2013-14            ACT            SA3          80101          Belconnen   \n",
       "7  2013-14            ACT            SA3          80101          Belconnen   \n",
       "8  2013-14            ACT            SA3          80101          Belconnen   \n",
       "9  2013-14            ACT            SA3          80101          Belconnen   \n",
       "\n",
       "             GeographicGroup ServiceLevel                            Service  \\\n",
       "0  Major cities - medium SES      Level 1  Allied Health attendances (total)   \n",
       "1  Major cities - medium SES      Level 1  Allied Health attendances (total)   \n",
       "2  Major cities - medium SES      Level 1  Allied Health attendances (total)   \n",
       "3  Major cities - medium SES      Level 1  Allied Health attendances (total)   \n",
       "4  Major cities - medium SES      Level 1  Allied Health attendances (total)   \n",
       "5  Major cities - medium SES      Level 1  Allied Health attendances (total)   \n",
       "6  Major cities - medium SES      Level 1  Allied Health attendances (total)   \n",
       "7  Major cities - medium SES      Level 1         Diagnostic Imaging (total)   \n",
       "8  Major cities - medium SES      Level 1         Diagnostic Imaging (total)   \n",
       "9  Major cities - medium SES      Level 1         Diagnostic Imaging (total)   \n",
       "\n",
       "  DemographicGroup Medicare benefits per 100 people ($) No. of patients  \\\n",
       "0             0-24                               2576.0          5624.0   \n",
       "1            25-44                               4004.0          7714.0   \n",
       "2            45-64                               4672.0          8998.0   \n",
       "3              65+                               5819.0          6397.0   \n",
       "4      All persons                               3892.0         28733.0   \n",
       "5          Females                               4902.0         17048.0   \n",
       "6            Males                               2869.0         11685.0   \n",
       "7             0-24                               2513.0          5594.0   \n",
       "8            25-44                               6904.0          9500.0   \n",
       "9            45-64                              11869.0          8389.0   \n",
       "\n",
       "  No. of services Percentage of people who had the service (%)  \\\n",
       "0         10879.0                                        17.27   \n",
       "1         15870.0                                        24.75   \n",
       "2         15754.0                                        41.32   \n",
       "3         12316.0                                        55.07   \n",
       "4         54818.0                                        29.59   \n",
       "5         34198.0                                         34.9   \n",
       "6         20620.0                                        24.21   \n",
       "7          8984.0                                        17.18   \n",
       "8         19275.0                                        30.48   \n",
       "9         19105.0                                        38.53   \n",
       "\n",
       "  Services per 100 people Total Medicare benefits paid ($)  \\\n",
       "0                   33.41                         838549.0   \n",
       "1                   50.93                        1247656.0   \n",
       "2                   72.35                        1017264.0   \n",
       "3                  106.01                         675946.0   \n",
       "4                   56.45                        3779415.0   \n",
       "5                   70.01                        2394671.0   \n",
       "6                   42.72                        1384744.0   \n",
       "7                   27.59                         818149.0   \n",
       "8                   61.85                        2151589.0   \n",
       "9                   87.74                        2584397.0   \n",
       "\n",
       "  Total provider fees ($)  \n",
       "0               1026474.0  \n",
       "1               1600846.0  \n",
       "2               1197133.0  \n",
       "3                761837.0  \n",
       "4               4586290.0  \n",
       "5               2929743.0  \n",
       "6               1656547.0  \n",
       "7               1051718.0  \n",
       "8               3173663.0  \n",
       "9               3601039.0  "
      ]
     },
     "execution_count": 808,
     "metadata": {},
     "output_type": "execute_result"
    }
   ],
   "source": [
    "# import the transformed mbs file and assign to a dataframe\n",
    "\n",
    "# setup path to original dataset\n",
    "path = r\"/Users/patel/Documents/CF-Data Anaylst Course/portfolio_projects/mbs_analysis/datasets/\"\n",
    "\n",
    "df_mbs_201319 = pd.read_csv(\n",
    "    os.path.join(path, \"clean_datasets/mbs_data/2013-19_phc_mbs.csv\"),\n",
    "    encoding=\"ISO-8859-1\",\n",
    "    index_col=[0],\n",
    ")\n",
    "df_mbs_201319.head(10)"
   ]
  },
  {
   "cell_type": "code",
   "execution_count": 809,
   "metadata": {},
   "outputs": [
    {
     "name": "stdout",
     "output_type": "stream",
     "text": [
      "<class 'pandas.core.frame.DataFrame'>\n",
      "Int64Index: 172308 entries, 0 to 172307\n",
      "Data columns (total 16 columns):\n",
      " #   Column                                        Non-Null Count   Dtype \n",
      "---  ------                                        --------------   ----- \n",
      " 0   Year                                          172308 non-null  object\n",
      " 1   StateTerritory                                172308 non-null  object\n",
      " 2   GeographicUnit                                172308 non-null  object\n",
      " 3   GeographicCode                                172308 non-null  object\n",
      " 4   GeographicAreaName                            172308 non-null  object\n",
      " 5   GeographicGroup                               172308 non-null  object\n",
      " 6   ServiceLevel                                  172308 non-null  object\n",
      " 7   Service                                       172308 non-null  object\n",
      " 8   DemographicGroup                              172308 non-null  object\n",
      " 9   Medicare benefits per 100 people ($)          172308 non-null  object\n",
      " 10  No. of patients                               172308 non-null  object\n",
      " 11  No. of services                               172308 non-null  object\n",
      " 12  Percentage of people who had the service (%)  172308 non-null  object\n",
      " 13  Services per 100 people                       172308 non-null  object\n",
      " 14  Total Medicare benefits paid ($)              172308 non-null  object\n",
      " 15  Total provider fees ($)                       172308 non-null  object\n",
      "dtypes: object(16)\n",
      "memory usage: 22.3+ MB\n"
     ]
    }
   ],
   "source": [
    "df_mbs_201319.info()"
   ]
  },
  {
   "cell_type": "code",
   "execution_count": 810,
   "metadata": {},
   "outputs": [
    {
     "data": {
      "text/plain": [
       "Year                                            False\n",
       "StateTerritory                                  False\n",
       "GeographicUnit                                  False\n",
       "GeographicCode                                   True\n",
       "GeographicAreaName                              False\n",
       "GeographicGroup                                 False\n",
       "ServiceLevel                                    False\n",
       "Service                                         False\n",
       "DemographicGroup                                False\n",
       "Medicare benefits per 100 people ($)            False\n",
       "No. of patients                                 False\n",
       "No. of services                                 False\n",
       "Percentage of people who had the service (%)    False\n",
       "Services per 100 people                         False\n",
       "Total Medicare benefits paid ($)                False\n",
       "Total provider fees ($)                         False\n",
       "dtype: bool"
      ]
     },
     "execution_count": 810,
     "metadata": {},
     "output_type": "execute_result"
    }
   ],
   "source": [
    "mixed_type_columns = df_mbs_201319.applymap(type).nunique() > 1\n",
    "mixed_type_columns"
   ]
  },
  {
   "cell_type": "markdown",
   "metadata": {},
   "source": [
    "##### 1.1.1 Enforcing Type on Dimension Values"
   ]
  },
  {
   "cell_type": "code",
   "execution_count": 811,
   "metadata": {},
   "outputs": [],
   "source": [
    "# casting to columns to string fo consinstency when joining with SA3\n",
    "df_mbs_201319[\"Year\"] = df_mbs_201319[\"Year\"].astype(\"str\")\n",
    "df_mbs_201319[\"GeographicCode\"] = df_mbs_201319[\"GeographicCode\"].astype(\"str\")\n",
    "df_mbs_201319[\"DemographicGroup\"] = df_mbs_201319[\"DemographicGroup\"].astype(\"str\")\n",
    "\n",
    "df_mbs_201319[\"StateTerritory\"] = df_mbs_201319[\"StateTerritory\"].astype(\"str\")\n",
    "df_mbs_201319[\"GeographicAreaName\"] = df_mbs_201319[\"GeographicAreaName\"].astype(\"str\")\n",
    "df_mbs_201319[\"ServiceLevel\"] = df_mbs_201319[\"ServiceLevel\"].astype(\"str\")\n",
    "df_mbs_201319[\"Service\"] = df_mbs_201319[\"Service\"].astype(\"str\")"
   ]
  },
  {
   "cell_type": "code",
   "execution_count": 812,
   "metadata": {},
   "outputs": [
    {
     "data": {
      "text/html": [
       "<div>\n",
       "<style scoped>\n",
       "    .dataframe tbody tr th:only-of-type {\n",
       "        vertical-align: middle;\n",
       "    }\n",
       "\n",
       "    .dataframe tbody tr th {\n",
       "        vertical-align: top;\n",
       "    }\n",
       "\n",
       "    .dataframe thead th {\n",
       "        text-align: right;\n",
       "    }\n",
       "</style>\n",
       "<table border=\"1\" class=\"dataframe\">\n",
       "  <thead>\n",
       "    <tr style=\"text-align: right;\">\n",
       "      <th></th>\n",
       "      <th>Year</th>\n",
       "      <th>GeographicCode</th>\n",
       "      <th>DemographicGroup</th>\n",
       "      <th>EstimatedResidentPopulation</th>\n",
       "    </tr>\n",
       "  </thead>\n",
       "  <tbody>\n",
       "    <tr>\n",
       "      <th>0</th>\n",
       "      <td>2013-14</td>\n",
       "      <td>001NAT</td>\n",
       "      <td>0-14</td>\n",
       "      <td>4377926</td>\n",
       "    </tr>\n",
       "    <tr>\n",
       "      <th>1</th>\n",
       "      <td>2013-14</td>\n",
       "      <td>001NAT</td>\n",
       "      <td>0-24</td>\n",
       "      <td>7489910</td>\n",
       "    </tr>\n",
       "    <tr>\n",
       "      <th>2</th>\n",
       "      <td>2013-14</td>\n",
       "      <td>001NAT</td>\n",
       "      <td>0-64</td>\n",
       "      <td>19797751</td>\n",
       "    </tr>\n",
       "    <tr>\n",
       "      <th>3</th>\n",
       "      <td>2013-14</td>\n",
       "      <td>001NAT</td>\n",
       "      <td>15-24</td>\n",
       "      <td>3111984</td>\n",
       "    </tr>\n",
       "    <tr>\n",
       "      <th>4</th>\n",
       "      <td>2013-14</td>\n",
       "      <td>001NAT</td>\n",
       "      <td>25-44</td>\n",
       "      <td>6596790</td>\n",
       "    </tr>\n",
       "  </tbody>\n",
       "</table>\n",
       "</div>"
      ],
      "text/plain": [
       "      Year GeographicCode DemographicGroup  EstimatedResidentPopulation\n",
       "0  2013-14         001NAT             0-14                      4377926\n",
       "1  2013-14         001NAT             0-24                      7489910\n",
       "2  2013-14         001NAT             0-64                     19797751\n",
       "3  2013-14         001NAT            15-24                      3111984\n",
       "4  2013-14         001NAT            25-44                      6596790"
      ]
     },
     "execution_count": 812,
     "metadata": {},
     "output_type": "execute_result"
    }
   ],
   "source": [
    "# import sa3 file containing estimated resident population for 2013-19\n",
    "\n",
    "# import relevant columns for merging purposes\n",
    "filter_cols = [\n",
    "    \"Year\",\n",
    "    \"GeographicCode\",\n",
    "    \"DemographicGroup\",\n",
    "    \"EstimatedResidentPopulation\",\n",
    "]\n",
    "df_sa3_erp_1319 = pd.read_csv(\n",
    "    os.path.join(path, \"original_datasets/mbs_data/phc-mbs-2013-2019/SA3_ERP_CSV.csv\"),\n",
    "    usecols=filter_cols,\n",
    "    encoding=\"ISO-8859-1\",\n",
    "    index_col=None,\n",
    ")\n",
    "df_sa3_erp_1319.head(5)"
   ]
  },
  {
   "cell_type": "code",
   "execution_count": 813,
   "metadata": {},
   "outputs": [],
   "source": [
    "# casting to columns to string fo consinstency when joining with SA3\n",
    "df_sa3_erp_1319[\"Year\"] = df_sa3_erp_1319[\"Year\"].astype(\"str\")\n",
    "df_sa3_erp_1319[\"GeographicCode\"] = df_sa3_erp_1319[\"GeographicCode\"].astype(\"str\")\n",
    "df_sa3_erp_1319[\"DemographicGroup\"] = df_sa3_erp_1319[\"DemographicGroup\"].astype(\"str\")"
   ]
  },
  {
   "cell_type": "markdown",
   "metadata": {},
   "source": [
    "#### 1.2 Compare SA3 geographical area list in mbs and sa3 datasets"
   ]
  },
  {
   "cell_type": "code",
   "execution_count": 814,
   "metadata": {},
   "outputs": [
    {
     "data": {
      "text/plain": [
       "Year                               6\n",
       "GeographicCode                   347\n",
       "DemographicGroup                  10\n",
       "EstimatedResidentPopulation    17390\n",
       "dtype: int64"
      ]
     },
     "execution_count": 814,
     "metadata": {},
     "output_type": "execute_result"
    }
   ],
   "source": [
    "# checking number of unique GeographicCode values. Expected 347\n",
    "df_sa3_erp_1319.nunique()"
   ]
  },
  {
   "cell_type": "markdown",
   "metadata": {},
   "source": [
    "347 unique SA3 values. Expected the same or less in the mbs data file."
   ]
  },
  {
   "cell_type": "code",
   "execution_count": 815,
   "metadata": {},
   "outputs": [
    {
     "data": {
      "text/plain": [
       "Year                                                 6\n",
       "StateTerritory                                      10\n",
       "GeographicUnit                                       1\n",
       "GeographicCode                                     346\n",
       "GeographicAreaName                                 346\n",
       "GeographicGroup                                      7\n",
       "ServiceLevel                                         3\n",
       "Service                                             53\n",
       "DemographicGroup                                     7\n",
       "Medicare benefits per 100 people ($)             29547\n",
       "No. of patients                                  35793\n",
       "No. of services                                  58679\n",
       "Percentage of people who had the service (%)      9802\n",
       "Services per 100 people                          33996\n",
       "Total Medicare benefits paid ($)                137047\n",
       "Total provider fees ($)                         138572\n",
       "dtype: int64"
      ]
     },
     "execution_count": 815,
     "metadata": {},
     "output_type": "execute_result"
    }
   ],
   "source": [
    "df_mbs_201319.nunique()"
   ]
  },
  {
   "cell_type": "code",
   "execution_count": 816,
   "metadata": {},
   "outputs": [
    {
     "data": {
      "text/plain": [
       "array(['001NAT'], dtype=object)"
      ]
     },
     "execution_count": 816,
     "metadata": {},
     "output_type": "execute_result"
    }
   ],
   "source": [
    "# using outer merge to find any different GeographicCodes between mbs and sa3 dataset\n",
    "diff_df = pd.merge(\n",
    "    df_mbs_201319[[\"GeographicCode\"]],\n",
    "    df_sa3_erp_1319[[\"GeographicCode\"]],\n",
    "    how=\"outer\",\n",
    "    indicator=True,\n",
    ").query('_merge != \"both\"')\n",
    "diff_df[\"GeographicCode\"].unique()"
   ]
  },
  {
   "cell_type": "markdown",
   "metadata": {},
   "source": [
    "001NAT is in SA3 dataset but not in MBS. Investigated the original file, Worksheet SA3 has no GeographicCode 001NAT"
   ]
  },
  {
   "cell_type": "markdown",
   "metadata": {},
   "source": [
    "##### 1.2.1 Check Estimated Resident Population Consistency"
   ]
  },
  {
   "cell_type": "code",
   "execution_count": 817,
   "metadata": {},
   "outputs": [
    {
     "data": {
      "text/plain": [
       "dtype('int64')"
      ]
     },
     "execution_count": 817,
     "metadata": {},
     "output_type": "execute_result"
    }
   ],
   "source": [
    "df_sa3_erp_1319[\"EstimatedResidentPopulation\"].value_counts(dropna=False)\n",
    "df_sa3_erp_1319[\"EstimatedResidentPopulation\"].dtype"
   ]
  },
  {
   "cell_type": "markdown",
   "metadata": {},
   "source": [
    "#### 1.3 Combine SA3 and MBS datasets"
   ]
  },
  {
   "cell_type": "code",
   "execution_count": 818,
   "metadata": {},
   "outputs": [
    {
     "name": "stdout",
     "output_type": "stream",
     "text": [
      "<class 'pandas.core.frame.DataFrame'>\n",
      "Int64Index: 172308 entries, 0 to 172307\n",
      "Data columns (total 18 columns):\n",
      " #   Column                                        Non-Null Count   Dtype   \n",
      "---  ------                                        --------------   -----   \n",
      " 0   Year                                          172308 non-null  object  \n",
      " 1   StateTerritory                                172308 non-null  object  \n",
      " 2   GeographicUnit                                172308 non-null  object  \n",
      " 3   GeographicCode                                172308 non-null  object  \n",
      " 4   GeographicAreaName                            172308 non-null  object  \n",
      " 5   GeographicGroup                               172308 non-null  object  \n",
      " 6   ServiceLevel                                  172308 non-null  object  \n",
      " 7   Service                                       172308 non-null  object  \n",
      " 8   DemographicGroup                              172308 non-null  object  \n",
      " 9   Medicare benefits per 100 people ($)          172308 non-null  object  \n",
      " 10  No. of patients                               172308 non-null  object  \n",
      " 11  No. of services                               172308 non-null  object  \n",
      " 12  Percentage of people who had the service (%)  172308 non-null  object  \n",
      " 13  Services per 100 people                       172308 non-null  object  \n",
      " 14  Total Medicare benefits paid ($)              172308 non-null  object  \n",
      " 15  Total provider fees ($)                       172308 non-null  object  \n",
      " 16  EstimatedResidentPopulation                   172308 non-null  int64   \n",
      " 17  _merge                                        172308 non-null  category\n",
      "dtypes: category(1), int64(1), object(16)\n",
      "memory usage: 23.8+ MB\n"
     ]
    }
   ],
   "source": [
    "# left merge mbs data with SA3 to retrieve corresponding ERP\n",
    "df_mbs_201319_sa3_combined = df_mbs_201319.merge(\n",
    "    df_sa3_erp_1319,\n",
    "    how=\"left\",\n",
    "    on=[\"Year\", \"GeographicCode\", \"DemographicGroup\"],\n",
    "    indicator=True,\n",
    ")\n",
    "df_mbs_201319_sa3_combined.info()"
   ]
  },
  {
   "cell_type": "code",
   "execution_count": 819,
   "metadata": {},
   "outputs": [
    {
     "data": {
      "text/plain": [
       "both          172308\n",
       "left_only          0\n",
       "right_only         0\n",
       "Name: _merge, dtype: int64"
      ]
     },
     "execution_count": 819,
     "metadata": {},
     "output_type": "execute_result"
    }
   ],
   "source": [
    "df_mbs_201319_sa3_combined[\"_merge\"].value_counts()"
   ]
  },
  {
   "cell_type": "code",
   "execution_count": 820,
   "metadata": {},
   "outputs": [
    {
     "data": {
      "text/html": [
       "<div>\n",
       "<style scoped>\n",
       "    .dataframe tbody tr th:only-of-type {\n",
       "        vertical-align: middle;\n",
       "    }\n",
       "\n",
       "    .dataframe tbody tr th {\n",
       "        vertical-align: top;\n",
       "    }\n",
       "\n",
       "    .dataframe thead th {\n",
       "        text-align: right;\n",
       "    }\n",
       "</style>\n",
       "<table border=\"1\" class=\"dataframe\">\n",
       "  <thead>\n",
       "    <tr style=\"text-align: right;\">\n",
       "      <th></th>\n",
       "      <th>Year</th>\n",
       "      <th>StateTerritory</th>\n",
       "      <th>GeographicUnit</th>\n",
       "      <th>GeographicCode</th>\n",
       "      <th>GeographicAreaName</th>\n",
       "      <th>GeographicGroup</th>\n",
       "      <th>ServiceLevel</th>\n",
       "      <th>Service</th>\n",
       "      <th>DemographicGroup</th>\n",
       "      <th>Medicare benefits per 100 people ($)</th>\n",
       "      <th>No. of patients</th>\n",
       "      <th>No. of services</th>\n",
       "      <th>Percentage of people who had the service (%)</th>\n",
       "      <th>Services per 100 people</th>\n",
       "      <th>Total Medicare benefits paid ($)</th>\n",
       "      <th>Total provider fees ($)</th>\n",
       "      <th>EstimatedResidentPopulation</th>\n",
       "      <th>_merge</th>\n",
       "    </tr>\n",
       "  </thead>\n",
       "  <tbody>\n",
       "    <tr>\n",
       "      <th>0</th>\n",
       "      <td>2013-14</td>\n",
       "      <td>ACT</td>\n",
       "      <td>SA3</td>\n",
       "      <td>80101</td>\n",
       "      <td>Belconnen</td>\n",
       "      <td>Major cities - medium SES</td>\n",
       "      <td>Level 1</td>\n",
       "      <td>Allied Health attendances (total)</td>\n",
       "      <td>0-24</td>\n",
       "      <td>2576.0</td>\n",
       "      <td>5624.0</td>\n",
       "      <td>10879.0</td>\n",
       "      <td>17.27</td>\n",
       "      <td>33.41</td>\n",
       "      <td>838549.0</td>\n",
       "      <td>1026474.0</td>\n",
       "      <td>32558</td>\n",
       "      <td>both</td>\n",
       "    </tr>\n",
       "    <tr>\n",
       "      <th>1</th>\n",
       "      <td>2013-14</td>\n",
       "      <td>ACT</td>\n",
       "      <td>SA3</td>\n",
       "      <td>80101</td>\n",
       "      <td>Belconnen</td>\n",
       "      <td>Major cities - medium SES</td>\n",
       "      <td>Level 1</td>\n",
       "      <td>Allied Health attendances (total)</td>\n",
       "      <td>25-44</td>\n",
       "      <td>4004.0</td>\n",
       "      <td>7714.0</td>\n",
       "      <td>15870.0</td>\n",
       "      <td>24.75</td>\n",
       "      <td>50.93</td>\n",
       "      <td>1247656.0</td>\n",
       "      <td>1600846.0</td>\n",
       "      <td>31163</td>\n",
       "      <td>both</td>\n",
       "    </tr>\n",
       "    <tr>\n",
       "      <th>2</th>\n",
       "      <td>2013-14</td>\n",
       "      <td>ACT</td>\n",
       "      <td>SA3</td>\n",
       "      <td>80101</td>\n",
       "      <td>Belconnen</td>\n",
       "      <td>Major cities - medium SES</td>\n",
       "      <td>Level 1</td>\n",
       "      <td>Allied Health attendances (total)</td>\n",
       "      <td>45-64</td>\n",
       "      <td>4672.0</td>\n",
       "      <td>8998.0</td>\n",
       "      <td>15754.0</td>\n",
       "      <td>41.32</td>\n",
       "      <td>72.35</td>\n",
       "      <td>1017264.0</td>\n",
       "      <td>1197133.0</td>\n",
       "      <td>21774</td>\n",
       "      <td>both</td>\n",
       "    </tr>\n",
       "    <tr>\n",
       "      <th>3</th>\n",
       "      <td>2013-14</td>\n",
       "      <td>ACT</td>\n",
       "      <td>SA3</td>\n",
       "      <td>80101</td>\n",
       "      <td>Belconnen</td>\n",
       "      <td>Major cities - medium SES</td>\n",
       "      <td>Level 1</td>\n",
       "      <td>Allied Health attendances (total)</td>\n",
       "      <td>65+</td>\n",
       "      <td>5819.0</td>\n",
       "      <td>6397.0</td>\n",
       "      <td>12316.0</td>\n",
       "      <td>55.07</td>\n",
       "      <td>106.01</td>\n",
       "      <td>675946.0</td>\n",
       "      <td>761837.0</td>\n",
       "      <td>11617</td>\n",
       "      <td>both</td>\n",
       "    </tr>\n",
       "    <tr>\n",
       "      <th>4</th>\n",
       "      <td>2013-14</td>\n",
       "      <td>ACT</td>\n",
       "      <td>SA3</td>\n",
       "      <td>80101</td>\n",
       "      <td>Belconnen</td>\n",
       "      <td>Major cities - medium SES</td>\n",
       "      <td>Level 1</td>\n",
       "      <td>Allied Health attendances (total)</td>\n",
       "      <td>All persons</td>\n",
       "      <td>3892.0</td>\n",
       "      <td>28733.0</td>\n",
       "      <td>54818.0</td>\n",
       "      <td>29.59</td>\n",
       "      <td>56.45</td>\n",
       "      <td>3779415.0</td>\n",
       "      <td>4586290.0</td>\n",
       "      <td>97112</td>\n",
       "      <td>both</td>\n",
       "    </tr>\n",
       "  </tbody>\n",
       "</table>\n",
       "</div>"
      ],
      "text/plain": [
       "      Year StateTerritory GeographicUnit GeographicCode GeographicAreaName  \\\n",
       "0  2013-14            ACT            SA3          80101          Belconnen   \n",
       "1  2013-14            ACT            SA3          80101          Belconnen   \n",
       "2  2013-14            ACT            SA3          80101          Belconnen   \n",
       "3  2013-14            ACT            SA3          80101          Belconnen   \n",
       "4  2013-14            ACT            SA3          80101          Belconnen   \n",
       "\n",
       "             GeographicGroup ServiceLevel                            Service  \\\n",
       "0  Major cities - medium SES      Level 1  Allied Health attendances (total)   \n",
       "1  Major cities - medium SES      Level 1  Allied Health attendances (total)   \n",
       "2  Major cities - medium SES      Level 1  Allied Health attendances (total)   \n",
       "3  Major cities - medium SES      Level 1  Allied Health attendances (total)   \n",
       "4  Major cities - medium SES      Level 1  Allied Health attendances (total)   \n",
       "\n",
       "  DemographicGroup Medicare benefits per 100 people ($) No. of patients  \\\n",
       "0             0-24                               2576.0          5624.0   \n",
       "1            25-44                               4004.0          7714.0   \n",
       "2            45-64                               4672.0          8998.0   \n",
       "3              65+                               5819.0          6397.0   \n",
       "4      All persons                               3892.0         28733.0   \n",
       "\n",
       "  No. of services Percentage of people who had the service (%)  \\\n",
       "0         10879.0                                        17.27   \n",
       "1         15870.0                                        24.75   \n",
       "2         15754.0                                        41.32   \n",
       "3         12316.0                                        55.07   \n",
       "4         54818.0                                        29.59   \n",
       "\n",
       "  Services per 100 people Total Medicare benefits paid ($)  \\\n",
       "0                   33.41                         838549.0   \n",
       "1                   50.93                        1247656.0   \n",
       "2                   72.35                        1017264.0   \n",
       "3                  106.01                         675946.0   \n",
       "4                   56.45                        3779415.0   \n",
       "\n",
       "  Total provider fees ($)  EstimatedResidentPopulation _merge  \n",
       "0               1026474.0                        32558   both  \n",
       "1               1600846.0                        31163   both  \n",
       "2               1197133.0                        21774   both  \n",
       "3                761837.0                        11617   both  \n",
       "4               4586290.0                        97112   both  "
      ]
     },
     "execution_count": 820,
     "metadata": {},
     "output_type": "execute_result"
    }
   ],
   "source": [
    "df_mbs_201319_sa3_combined.head()"
   ]
  },
  {
   "cell_type": "code",
   "execution_count": 821,
   "metadata": {},
   "outputs": [
    {
     "name": "stdout",
     "output_type": "stream",
     "text": [
      "<class 'pandas.core.frame.DataFrame'>\n",
      "Int64Index: 172308 entries, 0 to 172307\n",
      "Data columns (total 17 columns):\n",
      " #   Column                                        Non-Null Count   Dtype \n",
      "---  ------                                        --------------   ----- \n",
      " 0   Year                                          172308 non-null  object\n",
      " 1   StateTerritory                                172308 non-null  object\n",
      " 2   GeographicUnit                                172308 non-null  object\n",
      " 3   GeographicCode                                172308 non-null  object\n",
      " 4   GeographicAreaName                            172308 non-null  object\n",
      " 5   GeographicGroup                               172308 non-null  object\n",
      " 6   ServiceLevel                                  172308 non-null  object\n",
      " 7   Service                                       172308 non-null  object\n",
      " 8   DemographicGroup                              172308 non-null  object\n",
      " 9   Medicare benefits per 100 people ($)          172308 non-null  object\n",
      " 10  No. of patients                               172308 non-null  object\n",
      " 11  No. of services                               172308 non-null  object\n",
      " 12  Percentage of people who had the service (%)  172308 non-null  object\n",
      " 13  Services per 100 people                       172308 non-null  object\n",
      " 14  Total Medicare benefits paid ($)              172308 non-null  object\n",
      " 15  Total provider fees ($)                       172308 non-null  object\n",
      " 16  Estimated resident population                 172308 non-null  int64 \n",
      "dtypes: int64(1), object(16)\n",
      "memory usage: 23.7+ MB\n"
     ]
    }
   ],
   "source": [
    "# renaming columns for consistency and dropping the _merge column\n",
    "df_mbs_201319_sa3_combined.rename(\n",
    "    columns={\"EstimatedResidentPopulation\": \"Estimated resident population\"},\n",
    "    inplace=True,\n",
    ")\n",
    "df_mbs_201319_sa3_combined.drop([\"_merge\"], axis=1, inplace=True)\n",
    "df_mbs_201319_sa3_combined.info()"
   ]
  },
  {
   "cell_type": "markdown",
   "metadata": {},
   "source": [
    "## 2.Load and Combine 2019-21 MBS and ERP dataset"
   ]
  },
  {
   "cell_type": "markdown",
   "metadata": {},
   "source": [
    "#### 2.1 Import MBS and SA3 ERP files"
   ]
  },
  {
   "cell_type": "code",
   "execution_count": 822,
   "metadata": {},
   "outputs": [
    {
     "data": {
      "text/html": [
       "<div>\n",
       "<style scoped>\n",
       "    .dataframe tbody tr th:only-of-type {\n",
       "        vertical-align: middle;\n",
       "    }\n",
       "\n",
       "    .dataframe tbody tr th {\n",
       "        vertical-align: top;\n",
       "    }\n",
       "\n",
       "    .dataframe thead th {\n",
       "        text-align: right;\n",
       "    }\n",
       "</style>\n",
       "<table border=\"1\" class=\"dataframe\">\n",
       "  <thead>\n",
       "    <tr style=\"text-align: right;\">\n",
       "      <th></th>\n",
       "      <th>Year</th>\n",
       "      <th>StateTerritory</th>\n",
       "      <th>GeographicUnit</th>\n",
       "      <th>GeographicCode</th>\n",
       "      <th>GeographicAreaName</th>\n",
       "      <th>GeographicGroup</th>\n",
       "      <th>ServiceLevel</th>\n",
       "      <th>Service</th>\n",
       "      <th>DemographicGroup</th>\n",
       "      <th>Medicare benefits per 100 people ($)</th>\n",
       "      <th>No. of patients</th>\n",
       "      <th>No. of services</th>\n",
       "      <th>Percentage of people who had the service (%)</th>\n",
       "      <th>Services per 100 people</th>\n",
       "      <th>Total Medicare benefits paid ($)</th>\n",
       "      <th>Total provider fees ($)</th>\n",
       "    </tr>\n",
       "  </thead>\n",
       "  <tbody>\n",
       "    <tr>\n",
       "      <th>0</th>\n",
       "      <td>2019-20</td>\n",
       "      <td>ACT</td>\n",
       "      <td>SA3</td>\n",
       "      <td>80101</td>\n",
       "      <td>Belconnen</td>\n",
       "      <td>Major cities - medium SES</td>\n",
       "      <td>Level 1</td>\n",
       "      <td>Allied Health attendances (total)</td>\n",
       "      <td>0-24</td>\n",
       "      <td>3275.33</td>\n",
       "      <td>6314</td>\n",
       "      <td>14134</td>\n",
       "      <td>18.89</td>\n",
       "      <td>42.29</td>\n",
       "      <td>1094649</td>\n",
       "      <td>1612037</td>\n",
       "    </tr>\n",
       "    <tr>\n",
       "      <th>1</th>\n",
       "      <td>2019-20</td>\n",
       "      <td>ACT</td>\n",
       "      <td>SA3</td>\n",
       "      <td>80101</td>\n",
       "      <td>Belconnen</td>\n",
       "      <td>Major cities - medium SES</td>\n",
       "      <td>Level 1</td>\n",
       "      <td>Allied Health attendances (total)</td>\n",
       "      <td>25-44</td>\n",
       "      <td>5036.77</td>\n",
       "      <td>8464</td>\n",
       "      <td>19537</td>\n",
       "      <td>27.12</td>\n",
       "      <td>62.6</td>\n",
       "      <td>1571825</td>\n",
       "      <td>2307710</td>\n",
       "    </tr>\n",
       "    <tr>\n",
       "      <th>2</th>\n",
       "      <td>2019-20</td>\n",
       "      <td>ACT</td>\n",
       "      <td>SA3</td>\n",
       "      <td>80101</td>\n",
       "      <td>Belconnen</td>\n",
       "      <td>Major cities - medium SES</td>\n",
       "      <td>Level 1</td>\n",
       "      <td>Allied Health attendances (total)</td>\n",
       "      <td>45-64</td>\n",
       "      <td>5641.12</td>\n",
       "      <td>9429</td>\n",
       "      <td>18660</td>\n",
       "      <td>43.35</td>\n",
       "      <td>85.8</td>\n",
       "      <td>1226832</td>\n",
       "      <td>1605423</td>\n",
       "    </tr>\n",
       "    <tr>\n",
       "      <th>3</th>\n",
       "      <td>2019-20</td>\n",
       "      <td>ACT</td>\n",
       "      <td>SA3</td>\n",
       "      <td>80101</td>\n",
       "      <td>Belconnen</td>\n",
       "      <td>Major cities - medium SES</td>\n",
       "      <td>Level 1</td>\n",
       "      <td>Allied Health attendances (total)</td>\n",
       "      <td>65+</td>\n",
       "      <td>7827.74</td>\n",
       "      <td>8973</td>\n",
       "      <td>19925</td>\n",
       "      <td>61.57</td>\n",
       "      <td>136.71</td>\n",
       "      <td>1140815</td>\n",
       "      <td>1421204</td>\n",
       "    </tr>\n",
       "    <tr>\n",
       "      <th>4</th>\n",
       "      <td>2019-20</td>\n",
       "      <td>ACT</td>\n",
       "      <td>SA3</td>\n",
       "      <td>80101</td>\n",
       "      <td>Belconnen</td>\n",
       "      <td>Major cities - medium SES</td>\n",
       "      <td>Level 1</td>\n",
       "      <td>Allied Health attendances (total)</td>\n",
       "      <td>All persons</td>\n",
       "      <td>4986.75</td>\n",
       "      <td>33180</td>\n",
       "      <td>72256</td>\n",
       "      <td>32.87</td>\n",
       "      <td>71.58</td>\n",
       "      <td>5034121</td>\n",
       "      <td>6946375</td>\n",
       "    </tr>\n",
       "    <tr>\n",
       "      <th>5</th>\n",
       "      <td>2019-20</td>\n",
       "      <td>ACT</td>\n",
       "      <td>SA3</td>\n",
       "      <td>80101</td>\n",
       "      <td>Belconnen</td>\n",
       "      <td>Major cities - medium SES</td>\n",
       "      <td>Level 1</td>\n",
       "      <td>Allied Health attendances (total)</td>\n",
       "      <td>F</td>\n",
       "      <td>6301.48</td>\n",
       "      <td>19402</td>\n",
       "      <td>44961</td>\n",
       "      <td>38.09</td>\n",
       "      <td>88.26</td>\n",
       "      <td>3210165</td>\n",
       "      <td>4451648</td>\n",
       "    </tr>\n",
       "    <tr>\n",
       "      <th>6</th>\n",
       "      <td>2019-20</td>\n",
       "      <td>ACT</td>\n",
       "      <td>SA3</td>\n",
       "      <td>80101</td>\n",
       "      <td>Belconnen</td>\n",
       "      <td>Major cities - medium SES</td>\n",
       "      <td>Level 1</td>\n",
       "      <td>Allied Health attendances (total)</td>\n",
       "      <td>M</td>\n",
       "      <td>3647.4</td>\n",
       "      <td>13777</td>\n",
       "      <td>27294</td>\n",
       "      <td>27.55</td>\n",
       "      <td>54.58</td>\n",
       "      <td>1823956</td>\n",
       "      <td>2494728</td>\n",
       "    </tr>\n",
       "    <tr>\n",
       "      <th>7</th>\n",
       "      <td>2019-20</td>\n",
       "      <td>ACT</td>\n",
       "      <td>SA3</td>\n",
       "      <td>80101</td>\n",
       "      <td>Belconnen</td>\n",
       "      <td>Major cities - medium SES</td>\n",
       "      <td>Level 1</td>\n",
       "      <td>Diagnostic Imaging (total)</td>\n",
       "      <td>0-24</td>\n",
       "      <td>2845.68</td>\n",
       "      <td>5308</td>\n",
       "      <td>8972</td>\n",
       "      <td>15.88</td>\n",
       "      <td>26.85</td>\n",
       "      <td>951054</td>\n",
       "      <td>1151880</td>\n",
       "    </tr>\n",
       "    <tr>\n",
       "      <th>8</th>\n",
       "      <td>2019-20</td>\n",
       "      <td>ACT</td>\n",
       "      <td>SA3</td>\n",
       "      <td>80101</td>\n",
       "      <td>Belconnen</td>\n",
       "      <td>Major cities - medium SES</td>\n",
       "      <td>Level 1</td>\n",
       "      <td>Diagnostic Imaging (total)</td>\n",
       "      <td>25-44</td>\n",
       "      <td>8754.3</td>\n",
       "      <td>9702</td>\n",
       "      <td>21175</td>\n",
       "      <td>31.09</td>\n",
       "      <td>67.85</td>\n",
       "      <td>2731955</td>\n",
       "      <td>3711186</td>\n",
       "    </tr>\n",
       "    <tr>\n",
       "      <th>9</th>\n",
       "      <td>2019-20</td>\n",
       "      <td>ACT</td>\n",
       "      <td>SA3</td>\n",
       "      <td>80101</td>\n",
       "      <td>Belconnen</td>\n",
       "      <td>Major cities - medium SES</td>\n",
       "      <td>Level 1</td>\n",
       "      <td>Diagnostic Imaging (total)</td>\n",
       "      <td>45-64</td>\n",
       "      <td>15762.76</td>\n",
       "      <td>8726</td>\n",
       "      <td>21008</td>\n",
       "      <td>40.12</td>\n",
       "      <td>96.6</td>\n",
       "      <td>3428086</td>\n",
       "      <td>4376262</td>\n",
       "    </tr>\n",
       "  </tbody>\n",
       "</table>\n",
       "</div>"
      ],
      "text/plain": [
       "      Year StateTerritory GeographicUnit GeographicCode GeographicAreaName  \\\n",
       "0  2019-20            ACT            SA3          80101          Belconnen   \n",
       "1  2019-20            ACT            SA3          80101          Belconnen   \n",
       "2  2019-20            ACT            SA3          80101          Belconnen   \n",
       "3  2019-20            ACT            SA3          80101          Belconnen   \n",
       "4  2019-20            ACT            SA3          80101          Belconnen   \n",
       "5  2019-20            ACT            SA3          80101          Belconnen   \n",
       "6  2019-20            ACT            SA3          80101          Belconnen   \n",
       "7  2019-20            ACT            SA3          80101          Belconnen   \n",
       "8  2019-20            ACT            SA3          80101          Belconnen   \n",
       "9  2019-20            ACT            SA3          80101          Belconnen   \n",
       "\n",
       "             GeographicGroup ServiceLevel                            Service  \\\n",
       "0  Major cities - medium SES      Level 1  Allied Health attendances (total)   \n",
       "1  Major cities - medium SES      Level 1  Allied Health attendances (total)   \n",
       "2  Major cities - medium SES      Level 1  Allied Health attendances (total)   \n",
       "3  Major cities - medium SES      Level 1  Allied Health attendances (total)   \n",
       "4  Major cities - medium SES      Level 1  Allied Health attendances (total)   \n",
       "5  Major cities - medium SES      Level 1  Allied Health attendances (total)   \n",
       "6  Major cities - medium SES      Level 1  Allied Health attendances (total)   \n",
       "7  Major cities - medium SES      Level 1         Diagnostic Imaging (total)   \n",
       "8  Major cities - medium SES      Level 1         Diagnostic Imaging (total)   \n",
       "9  Major cities - medium SES      Level 1         Diagnostic Imaging (total)   \n",
       "\n",
       "  DemographicGroup Medicare benefits per 100 people ($) No. of patients  \\\n",
       "0             0-24                              3275.33            6314   \n",
       "1            25-44                              5036.77            8464   \n",
       "2            45-64                              5641.12            9429   \n",
       "3              65+                              7827.74            8973   \n",
       "4      All persons                              4986.75           33180   \n",
       "5                F                              6301.48           19402   \n",
       "6                M                               3647.4           13777   \n",
       "7             0-24                              2845.68            5308   \n",
       "8            25-44                               8754.3            9702   \n",
       "9            45-64                             15762.76            8726   \n",
       "\n",
       "  No. of services Percentage of people who had the service (%)  \\\n",
       "0           14134                                        18.89   \n",
       "1           19537                                        27.12   \n",
       "2           18660                                        43.35   \n",
       "3           19925                                        61.57   \n",
       "4           72256                                        32.87   \n",
       "5           44961                                        38.09   \n",
       "6           27294                                        27.55   \n",
       "7            8972                                        15.88   \n",
       "8           21175                                        31.09   \n",
       "9           21008                                        40.12   \n",
       "\n",
       "  Services per 100 people Total Medicare benefits paid ($)  \\\n",
       "0                   42.29                          1094649   \n",
       "1                    62.6                          1571825   \n",
       "2                    85.8                          1226832   \n",
       "3                  136.71                          1140815   \n",
       "4                   71.58                          5034121   \n",
       "5                   88.26                          3210165   \n",
       "6                   54.58                          1823956   \n",
       "7                   26.85                           951054   \n",
       "8                   67.85                          2731955   \n",
       "9                    96.6                          3428086   \n",
       "\n",
       "  Total provider fees ($)  \n",
       "0                 1612037  \n",
       "1                 2307710  \n",
       "2                 1605423  \n",
       "3                 1421204  \n",
       "4                 6946375  \n",
       "5                 4451648  \n",
       "6                 2494728  \n",
       "7                 1151880  \n",
       "8                 3711186  \n",
       "9                 4376262  "
      ]
     },
     "execution_count": 822,
     "metadata": {},
     "output_type": "execute_result"
    }
   ],
   "source": [
    "# import the transformed mbs file and assign to a dataframe\n",
    "\n",
    "df_mbs_201921 = pd.read_csv(\n",
    "    os.path.join(path, \"clean_datasets/mbs_data/2019-21_phc_mbs.csv\"),\n",
    "    encoding=\"ISO-8859-1\",\n",
    "    index_col=[0],\n",
    ")\n",
    "df_mbs_201921.head(10)"
   ]
  },
  {
   "cell_type": "code",
   "execution_count": 823,
   "metadata": {},
   "outputs": [
    {
     "name": "stdout",
     "output_type": "stream",
     "text": [
      "<class 'pandas.core.frame.DataFrame'>\n",
      "Int64Index: 57263 entries, 0 to 57262\n",
      "Data columns (total 16 columns):\n",
      " #   Column                                        Non-Null Count  Dtype \n",
      "---  ------                                        --------------  ----- \n",
      " 0   Year                                          57263 non-null  object\n",
      " 1   StateTerritory                                57263 non-null  object\n",
      " 2   GeographicUnit                                57263 non-null  object\n",
      " 3   GeographicCode                                57263 non-null  object\n",
      " 4   GeographicAreaName                            57263 non-null  object\n",
      " 5   GeographicGroup                               57263 non-null  object\n",
      " 6   ServiceLevel                                  57263 non-null  object\n",
      " 7   Service                                       57263 non-null  object\n",
      " 8   DemographicGroup                              57263 non-null  object\n",
      " 9   Medicare benefits per 100 people ($)          57263 non-null  object\n",
      " 10  No. of patients                               57263 non-null  object\n",
      " 11  No. of services                               57263 non-null  object\n",
      " 12  Percentage of people who had the service (%)  57263 non-null  object\n",
      " 13  Services per 100 people                       57263 non-null  object\n",
      " 14  Total Medicare benefits paid ($)              57263 non-null  object\n",
      " 15  Total provider fees ($)                       57263 non-null  object\n",
      "dtypes: object(16)\n",
      "memory usage: 7.4+ MB\n"
     ]
    }
   ],
   "source": [
    "df_mbs_201921.info()"
   ]
  },
  {
   "cell_type": "code",
   "execution_count": 824,
   "metadata": {},
   "outputs": [
    {
     "data": {
      "text/plain": [
       "Year                                            False\n",
       "StateTerritory                                  False\n",
       "GeographicUnit                                  False\n",
       "GeographicCode                                  False\n",
       "GeographicAreaName                              False\n",
       "GeographicGroup                                 False\n",
       "ServiceLevel                                    False\n",
       "Service                                         False\n",
       "DemographicGroup                                False\n",
       "Medicare benefits per 100 people ($)            False\n",
       "No. of patients                                 False\n",
       "No. of services                                 False\n",
       "Percentage of people who had the service (%)    False\n",
       "Services per 100 people                         False\n",
       "Total Medicare benefits paid ($)                False\n",
       "Total provider fees ($)                         False\n",
       "dtype: bool"
      ]
     },
     "execution_count": 824,
     "metadata": {},
     "output_type": "execute_result"
    }
   ],
   "source": [
    "# checking for mixed type colmmns\n",
    "mixed_type_columns = df_mbs_201319.applymap(type).nunique() > 1\n",
    "mixed_type_columns"
   ]
  },
  {
   "cell_type": "markdown",
   "metadata": {},
   "source": [
    "##### 2.1.1 Enforcing Type on Dimension Values"
   ]
  },
  {
   "cell_type": "code",
   "execution_count": 825,
   "metadata": {},
   "outputs": [],
   "source": [
    "# casting to columns to string fo consinstency when joining with SA3\n",
    "df_mbs_201921[\"Year\"] = df_mbs_201921[\"Year\"].astype(\"str\")\n",
    "df_mbs_201921[\"GeographicCode\"] = df_mbs_201921[\"GeographicCode\"].astype(\"str\")\n",
    "df_mbs_201921[\"DemographicGroup\"] = df_mbs_201921[\"DemographicGroup\"].astype(\"str\")\n",
    "df_mbs_201921[\"StateTerritory\"] = df_mbs_201921[\"StateTerritory\"].astype(\"str\")\n",
    "df_mbs_201921[\"GeographicAreaName\"] = df_mbs_201921[\"GeographicAreaName\"].astype(\"str\")\n",
    "df_mbs_201921[\"ServiceLevel\"] = df_mbs_201921[\"ServiceLevel\"].astype(\"str\")\n",
    "df_mbs_201921[\"Service\"] = df_mbs_201921[\"Service\"].astype(\"str\")"
   ]
  },
  {
   "cell_type": "code",
   "execution_count": 826,
   "metadata": {},
   "outputs": [
    {
     "data": {
      "text/html": [
       "<div>\n",
       "<style scoped>\n",
       "    .dataframe tbody tr th:only-of-type {\n",
       "        vertical-align: middle;\n",
       "    }\n",
       "\n",
       "    .dataframe tbody tr th {\n",
       "        vertical-align: top;\n",
       "    }\n",
       "\n",
       "    .dataframe thead th {\n",
       "        text-align: right;\n",
       "    }\n",
       "</style>\n",
       "<table border=\"1\" class=\"dataframe\">\n",
       "  <thead>\n",
       "    <tr style=\"text-align: right;\">\n",
       "      <th></th>\n",
       "      <th>Year</th>\n",
       "      <th>GeographicCode</th>\n",
       "      <th>DemographicGroup</th>\n",
       "      <th>EstimatedResidentPopulation</th>\n",
       "    </tr>\n",
       "  </thead>\n",
       "  <tbody>\n",
       "    <tr>\n",
       "      <th>4839</th>\n",
       "      <td>2020-21</td>\n",
       "      <td>90104</td>\n",
       "      <td>45-64</td>\n",
       "      <td>574</td>\n",
       "    </tr>\n",
       "    <tr>\n",
       "      <th>4840</th>\n",
       "      <td>2020-21</td>\n",
       "      <td>90104</td>\n",
       "      <td>65+</td>\n",
       "      <td>482</td>\n",
       "    </tr>\n",
       "    <tr>\n",
       "      <th>4841</th>\n",
       "      <td>2020-21</td>\n",
       "      <td>90104</td>\n",
       "      <td>All persons</td>\n",
       "      <td>1734</td>\n",
       "    </tr>\n",
       "    <tr>\n",
       "      <th>4842</th>\n",
       "      <td>2020-21</td>\n",
       "      <td>90104</td>\n",
       "      <td>F</td>\n",
       "      <td>901</td>\n",
       "    </tr>\n",
       "    <tr>\n",
       "      <th>4843</th>\n",
       "      <td>2020-21</td>\n",
       "      <td>90104</td>\n",
       "      <td>M</td>\n",
       "      <td>833</td>\n",
       "    </tr>\n",
       "  </tbody>\n",
       "</table>\n",
       "</div>"
      ],
      "text/plain": [
       "         Year GeographicCode DemographicGroup EstimatedResidentPopulation\n",
       "4839  2020-21          90104            45-64                         574\n",
       "4840  2020-21          90104              65+                         482\n",
       "4841  2020-21          90104      All persons                        1734\n",
       "4842  2020-21          90104                F                         901\n",
       "4843  2020-21          90104                M                         833"
      ]
     },
     "execution_count": 826,
     "metadata": {},
     "output_type": "execute_result"
    }
   ],
   "source": [
    "# import sa3 file containing estimated resident population for 2019-21\n",
    "\n",
    "# import relevant columns for merging purposes\n",
    "filter_cols = [\n",
    "    \"Year\",\n",
    "    \"GeographicCode\",\n",
    "    \"DemographicGroup\",\n",
    "    \"EstimatedResidentPopulation\",\n",
    "]\n",
    "df_sa3_erp_1921 = pd.read_csv(\n",
    "    os.path.join(\n",
    "        path, \"original_datasets/mbs_data/phc-mbs-2019-2021/SA3_ERP_CSV_1920_2021.csv\"\n",
    "    ),\n",
    "    usecols=filter_cols,\n",
    "    encoding=\"ISO-8859-1\",\n",
    "    index_col=None,\n",
    ")\n",
    "df_sa3_erp_1921.tail(5)"
   ]
  },
  {
   "cell_type": "code",
   "execution_count": 827,
   "metadata": {},
   "outputs": [],
   "source": [
    "# casting to columns to string fo consinstency when joining with SA3\n",
    "df_sa3_erp_1921[\"Year\"] = df_sa3_erp_1921[\"Year\"].astype(\"str\")\n",
    "df_sa3_erp_1921[\"GeographicCode\"] = df_sa3_erp_1921[\"GeographicCode\"].astype(\"str\")\n",
    "df_sa3_erp_1921[\"DemographicGroup\"] = df_sa3_erp_1921[\"DemographicGroup\"].astype(\"str\")"
   ]
  },
  {
   "cell_type": "markdown",
   "metadata": {},
   "source": [
    "#### 2.2 Compare SA3 geographical area list in mbs and sa3 datasets"
   ]
  },
  {
   "cell_type": "code",
   "execution_count": 828,
   "metadata": {},
   "outputs": [
    {
     "data": {
      "text/plain": [
       "Year                              2\n",
       "GeographicCode                  346\n",
       "DemographicGroup                  7\n",
       "EstimatedResidentPopulation    4642\n",
       "dtype: int64"
      ]
     },
     "execution_count": 828,
     "metadata": {},
     "output_type": "execute_result"
    }
   ],
   "source": [
    "df_sa3_erp_1921.nunique()"
   ]
  },
  {
   "cell_type": "markdown",
   "metadata": {},
   "source": [
    "346 unique SA3 values. Expected the same for mbs data file."
   ]
  },
  {
   "cell_type": "code",
   "execution_count": 829,
   "metadata": {},
   "outputs": [
    {
     "data": {
      "text/plain": [
       "Year                                                2\n",
       "StateTerritory                                     11\n",
       "GeographicUnit                                      2\n",
       "GeographicCode                                    346\n",
       "GeographicAreaName                                346\n",
       "GeographicGroup                                     8\n",
       "ServiceLevel                                        3\n",
       "Service                                            53\n",
       "DemographicGroup                                    7\n",
       "Medicare benefits per 100 people ($)            45311\n",
       "No. of patients                                 21132\n",
       "No. of services                                 29779\n",
       "Percentage of people who had the service (%)     8618\n",
       "Services per 100 people                         19058\n",
       "Total Medicare benefits paid ($)                51273\n",
       "Total provider fees ($)                         51548\n",
       "dtype: int64"
      ]
     },
     "execution_count": 829,
     "metadata": {},
     "output_type": "execute_result"
    }
   ],
   "source": [
    "df_mbs_201921.nunique()"
   ]
  },
  {
   "cell_type": "code",
   "execution_count": 830,
   "metadata": {},
   "outputs": [
    {
     "data": {
      "text/html": [
       "<div>\n",
       "<style scoped>\n",
       "    .dataframe tbody tr th:only-of-type {\n",
       "        vertical-align: middle;\n",
       "    }\n",
       "\n",
       "    .dataframe tbody tr th {\n",
       "        vertical-align: top;\n",
       "    }\n",
       "\n",
       "    .dataframe thead th {\n",
       "        text-align: right;\n",
       "    }\n",
       "</style>\n",
       "<table border=\"1\" class=\"dataframe\">\n",
       "  <thead>\n",
       "    <tr style=\"text-align: right;\">\n",
       "      <th></th>\n",
       "      <th>GeographicCode</th>\n",
       "      <th>_merge</th>\n",
       "    </tr>\n",
       "  </thead>\n",
       "  <tbody>\n",
       "  </tbody>\n",
       "</table>\n",
       "</div>"
      ],
      "text/plain": [
       "Empty DataFrame\n",
       "Columns: [GeographicCode, _merge]\n",
       "Index: []"
      ]
     },
     "execution_count": 830,
     "metadata": {},
     "output_type": "execute_result"
    }
   ],
   "source": [
    "diff_df = pd.merge(\n",
    "    df_mbs_201921[[\"GeographicCode\"]],\n",
    "    df_sa3_erp_1921[[\"GeographicCode\"]],\n",
    "    how=\"outer\",\n",
    "    indicator=True,\n",
    ").query('_merge != \"both\"')\n",
    "diff_df"
   ]
  },
  {
   "cell_type": "markdown",
   "metadata": {},
   "source": [
    "##### 2.2.1 Check Estimated Resident Population Consistency"
   ]
  },
  {
   "cell_type": "code",
   "execution_count": 831,
   "metadata": {},
   "outputs": [
    {
     "data": {
      "text/plain": [
       ".        4\n",
       "6939     4\n",
       "11365    3\n",
       "6985     3\n",
       "121      3\n",
       "        ..\n",
       "23469    1\n",
       "20352    1\n",
       "90960    1\n",
       "47137    1\n",
       "833      1\n",
       "Name: EstimatedResidentPopulation, Length: 4642, dtype: int64"
      ]
     },
     "execution_count": 831,
     "metadata": {},
     "output_type": "execute_result"
    }
   ],
   "source": [
    "df_sa3_erp_1921[\"EstimatedResidentPopulation\"].value_counts(dropna=False)"
   ]
  },
  {
   "cell_type": "markdown",
   "metadata": {},
   "source": [
    "Found SA3 had 4 records that were suppressed by using fullstop (.). Updating to np.nan so can be converted to int64"
   ]
  },
  {
   "cell_type": "code",
   "execution_count": 832,
   "metadata": {},
   "outputs": [],
   "source": [
    "df_sa3_erp_1921[\"EstimatedResidentPopulation\"] = pd.to_numeric(\n",
    "    df_sa3_erp_1921[\"EstimatedResidentPopulation\"], errors=\"coerce\"\n",
    ")"
   ]
  },
  {
   "cell_type": "code",
   "execution_count": 833,
   "metadata": {},
   "outputs": [],
   "source": [
    "df_sa3_erp_1921[\"EstimatedResidentPopulation\"] = df_sa3_erp_1921[\n",
    "    \"EstimatedResidentPopulation\"\n",
    "].astype(\"Int64\")"
   ]
  },
  {
   "cell_type": "code",
   "execution_count": 834,
   "metadata": {},
   "outputs": [
    {
     "name": "stdout",
     "output_type": "stream",
     "text": [
      "<class 'pandas.core.frame.DataFrame'>\n",
      "RangeIndex: 4844 entries, 0 to 4843\n",
      "Data columns (total 4 columns):\n",
      " #   Column                       Non-Null Count  Dtype \n",
      "---  ------                       --------------  ----- \n",
      " 0   Year                         4844 non-null   object\n",
      " 1   GeographicCode               4844 non-null   object\n",
      " 2   DemographicGroup             4844 non-null   object\n",
      " 3   EstimatedResidentPopulation  4840 non-null   Int64 \n",
      "dtypes: Int64(1), object(3)\n",
      "memory usage: 156.2+ KB\n"
     ]
    }
   ],
   "source": [
    "df_sa3_erp_1921.info()"
   ]
  },
  {
   "cell_type": "markdown",
   "metadata": {},
   "source": [
    "No differences in GeographicCodes between mbs and SA3 datasets"
   ]
  },
  {
   "cell_type": "markdown",
   "metadata": {},
   "source": [
    "#### 2.3 Combine SA3 and MBS datasets"
   ]
  },
  {
   "cell_type": "code",
   "execution_count": 835,
   "metadata": {},
   "outputs": [
    {
     "name": "stdout",
     "output_type": "stream",
     "text": [
      "<class 'pandas.core.frame.DataFrame'>\n",
      "Int64Index: 57263 entries, 0 to 57262\n",
      "Data columns (total 18 columns):\n",
      " #   Column                                        Non-Null Count  Dtype   \n",
      "---  ------                                        --------------  -----   \n",
      " 0   Year                                          57263 non-null  object  \n",
      " 1   StateTerritory                                57263 non-null  object  \n",
      " 2   GeographicUnit                                57263 non-null  object  \n",
      " 3   GeographicCode                                57263 non-null  object  \n",
      " 4   GeographicAreaName                            57263 non-null  object  \n",
      " 5   GeographicGroup                               57263 non-null  object  \n",
      " 6   ServiceLevel                                  57263 non-null  object  \n",
      " 7   Service                                       57263 non-null  object  \n",
      " 8   DemographicGroup                              57263 non-null  object  \n",
      " 9   Medicare benefits per 100 people ($)          57263 non-null  object  \n",
      " 10  No. of patients                               57263 non-null  object  \n",
      " 11  No. of services                               57263 non-null  object  \n",
      " 12  Percentage of people who had the service (%)  57263 non-null  object  \n",
      " 13  Services per 100 people                       57263 non-null  object  \n",
      " 14  Total Medicare benefits paid ($)              57263 non-null  object  \n",
      " 15  Total provider fees ($)                       57263 non-null  object  \n",
      " 16  EstimatedResidentPopulation                   57243 non-null  Int64   \n",
      " 17  _merge                                        57263 non-null  category\n",
      "dtypes: Int64(1), category(1), object(16)\n",
      "memory usage: 8.0+ MB\n"
     ]
    }
   ],
   "source": [
    "# left merge mbs data with SA3 to retrieve corresponding ERP\n",
    "df_mbs_201921_sa3_combined = df_mbs_201921.merge(\n",
    "    df_sa3_erp_1921,\n",
    "    how=\"left\",\n",
    "    on=[\"Year\", \"GeographicCode\", \"DemographicGroup\"],\n",
    "    indicator=True,\n",
    ")\n",
    "df_mbs_201921_sa3_combined.info()"
   ]
  },
  {
   "cell_type": "code",
   "execution_count": 836,
   "metadata": {},
   "outputs": [
    {
     "data": {
      "text/plain": [
       "both          57263\n",
       "left_only         0\n",
       "right_only        0\n",
       "Name: _merge, dtype: int64"
      ]
     },
     "execution_count": 836,
     "metadata": {},
     "output_type": "execute_result"
    }
   ],
   "source": [
    "df_mbs_201921_sa3_combined[\"_merge\"].value_counts()"
   ]
  },
  {
   "cell_type": "code",
   "execution_count": 837,
   "metadata": {},
   "outputs": [
    {
     "data": {
      "text/html": [
       "<div>\n",
       "<style scoped>\n",
       "    .dataframe tbody tr th:only-of-type {\n",
       "        vertical-align: middle;\n",
       "    }\n",
       "\n",
       "    .dataframe tbody tr th {\n",
       "        vertical-align: top;\n",
       "    }\n",
       "\n",
       "    .dataframe thead th {\n",
       "        text-align: right;\n",
       "    }\n",
       "</style>\n",
       "<table border=\"1\" class=\"dataframe\">\n",
       "  <thead>\n",
       "    <tr style=\"text-align: right;\">\n",
       "      <th></th>\n",
       "      <th>Year</th>\n",
       "      <th>StateTerritory</th>\n",
       "      <th>GeographicUnit</th>\n",
       "      <th>GeographicCode</th>\n",
       "      <th>GeographicAreaName</th>\n",
       "      <th>GeographicGroup</th>\n",
       "      <th>ServiceLevel</th>\n",
       "      <th>Service</th>\n",
       "      <th>DemographicGroup</th>\n",
       "      <th>Medicare benefits per 100 people ($)</th>\n",
       "      <th>No. of patients</th>\n",
       "      <th>No. of services</th>\n",
       "      <th>Percentage of people who had the service (%)</th>\n",
       "      <th>Services per 100 people</th>\n",
       "      <th>Total Medicare benefits paid ($)</th>\n",
       "      <th>Total provider fees ($)</th>\n",
       "      <th>EstimatedResidentPopulation</th>\n",
       "      <th>_merge</th>\n",
       "    </tr>\n",
       "  </thead>\n",
       "  <tbody>\n",
       "    <tr>\n",
       "      <th>0</th>\n",
       "      <td>2019-20</td>\n",
       "      <td>ACT</td>\n",
       "      <td>SA3</td>\n",
       "      <td>80101</td>\n",
       "      <td>Belconnen</td>\n",
       "      <td>Major cities - medium SES</td>\n",
       "      <td>Level 1</td>\n",
       "      <td>Allied Health attendances (total)</td>\n",
       "      <td>0-24</td>\n",
       "      <td>3275.33</td>\n",
       "      <td>6314</td>\n",
       "      <td>14134</td>\n",
       "      <td>18.89</td>\n",
       "      <td>42.29</td>\n",
       "      <td>1094649</td>\n",
       "      <td>1612037</td>\n",
       "      <td>33421</td>\n",
       "      <td>both</td>\n",
       "    </tr>\n",
       "    <tr>\n",
       "      <th>1</th>\n",
       "      <td>2019-20</td>\n",
       "      <td>ACT</td>\n",
       "      <td>SA3</td>\n",
       "      <td>80101</td>\n",
       "      <td>Belconnen</td>\n",
       "      <td>Major cities - medium SES</td>\n",
       "      <td>Level 1</td>\n",
       "      <td>Allied Health attendances (total)</td>\n",
       "      <td>25-44</td>\n",
       "      <td>5036.77</td>\n",
       "      <td>8464</td>\n",
       "      <td>19537</td>\n",
       "      <td>27.12</td>\n",
       "      <td>62.6</td>\n",
       "      <td>1571825</td>\n",
       "      <td>2307710</td>\n",
       "      <td>31207</td>\n",
       "      <td>both</td>\n",
       "    </tr>\n",
       "    <tr>\n",
       "      <th>2</th>\n",
       "      <td>2019-20</td>\n",
       "      <td>ACT</td>\n",
       "      <td>SA3</td>\n",
       "      <td>80101</td>\n",
       "      <td>Belconnen</td>\n",
       "      <td>Major cities - medium SES</td>\n",
       "      <td>Level 1</td>\n",
       "      <td>Allied Health attendances (total)</td>\n",
       "      <td>45-64</td>\n",
       "      <td>5641.12</td>\n",
       "      <td>9429</td>\n",
       "      <td>18660</td>\n",
       "      <td>43.35</td>\n",
       "      <td>85.8</td>\n",
       "      <td>1226832</td>\n",
       "      <td>1605423</td>\n",
       "      <td>21748</td>\n",
       "      <td>both</td>\n",
       "    </tr>\n",
       "    <tr>\n",
       "      <th>3</th>\n",
       "      <td>2019-20</td>\n",
       "      <td>ACT</td>\n",
       "      <td>SA3</td>\n",
       "      <td>80101</td>\n",
       "      <td>Belconnen</td>\n",
       "      <td>Major cities - medium SES</td>\n",
       "      <td>Level 1</td>\n",
       "      <td>Allied Health attendances (total)</td>\n",
       "      <td>65+</td>\n",
       "      <td>7827.74</td>\n",
       "      <td>8973</td>\n",
       "      <td>19925</td>\n",
       "      <td>61.57</td>\n",
       "      <td>136.71</td>\n",
       "      <td>1140815</td>\n",
       "      <td>1421204</td>\n",
       "      <td>14574</td>\n",
       "      <td>both</td>\n",
       "    </tr>\n",
       "    <tr>\n",
       "      <th>4</th>\n",
       "      <td>2019-20</td>\n",
       "      <td>ACT</td>\n",
       "      <td>SA3</td>\n",
       "      <td>80101</td>\n",
       "      <td>Belconnen</td>\n",
       "      <td>Major cities - medium SES</td>\n",
       "      <td>Level 1</td>\n",
       "      <td>Allied Health attendances (total)</td>\n",
       "      <td>All persons</td>\n",
       "      <td>4986.75</td>\n",
       "      <td>33180</td>\n",
       "      <td>72256</td>\n",
       "      <td>32.87</td>\n",
       "      <td>71.58</td>\n",
       "      <td>5034121</td>\n",
       "      <td>6946375</td>\n",
       "      <td>100950</td>\n",
       "      <td>both</td>\n",
       "    </tr>\n",
       "  </tbody>\n",
       "</table>\n",
       "</div>"
      ],
      "text/plain": [
       "      Year StateTerritory GeographicUnit GeographicCode GeographicAreaName  \\\n",
       "0  2019-20            ACT            SA3          80101          Belconnen   \n",
       "1  2019-20            ACT            SA3          80101          Belconnen   \n",
       "2  2019-20            ACT            SA3          80101          Belconnen   \n",
       "3  2019-20            ACT            SA3          80101          Belconnen   \n",
       "4  2019-20            ACT            SA3          80101          Belconnen   \n",
       "\n",
       "             GeographicGroup ServiceLevel                            Service  \\\n",
       "0  Major cities - medium SES      Level 1  Allied Health attendances (total)   \n",
       "1  Major cities - medium SES      Level 1  Allied Health attendances (total)   \n",
       "2  Major cities - medium SES      Level 1  Allied Health attendances (total)   \n",
       "3  Major cities - medium SES      Level 1  Allied Health attendances (total)   \n",
       "4  Major cities - medium SES      Level 1  Allied Health attendances (total)   \n",
       "\n",
       "  DemographicGroup Medicare benefits per 100 people ($) No. of patients  \\\n",
       "0             0-24                              3275.33            6314   \n",
       "1            25-44                              5036.77            8464   \n",
       "2            45-64                              5641.12            9429   \n",
       "3              65+                              7827.74            8973   \n",
       "4      All persons                              4986.75           33180   \n",
       "\n",
       "  No. of services Percentage of people who had the service (%)  \\\n",
       "0           14134                                        18.89   \n",
       "1           19537                                        27.12   \n",
       "2           18660                                        43.35   \n",
       "3           19925                                        61.57   \n",
       "4           72256                                        32.87   \n",
       "\n",
       "  Services per 100 people Total Medicare benefits paid ($)  \\\n",
       "0                   42.29                          1094649   \n",
       "1                    62.6                          1571825   \n",
       "2                    85.8                          1226832   \n",
       "3                  136.71                          1140815   \n",
       "4                   71.58                          5034121   \n",
       "\n",
       "  Total provider fees ($)  EstimatedResidentPopulation _merge  \n",
       "0                 1612037                        33421   both  \n",
       "1                 2307710                        31207   both  \n",
       "2                 1605423                        21748   both  \n",
       "3                 1421204                        14574   both  \n",
       "4                 6946375                       100950   both  "
      ]
     },
     "execution_count": 837,
     "metadata": {},
     "output_type": "execute_result"
    }
   ],
   "source": [
    "df_mbs_201921_sa3_combined.head()"
   ]
  },
  {
   "cell_type": "code",
   "execution_count": 838,
   "metadata": {},
   "outputs": [
    {
     "name": "stdout",
     "output_type": "stream",
     "text": [
      "<class 'pandas.core.frame.DataFrame'>\n",
      "Int64Index: 57263 entries, 0 to 57262\n",
      "Data columns (total 17 columns):\n",
      " #   Column                                        Non-Null Count  Dtype \n",
      "---  ------                                        --------------  ----- \n",
      " 0   Year                                          57263 non-null  object\n",
      " 1   StateTerritory                                57263 non-null  object\n",
      " 2   GeographicUnit                                57263 non-null  object\n",
      " 3   GeographicCode                                57263 non-null  object\n",
      " 4   GeographicAreaName                            57263 non-null  object\n",
      " 5   GeographicGroup                               57263 non-null  object\n",
      " 6   ServiceLevel                                  57263 non-null  object\n",
      " 7   Service                                       57263 non-null  object\n",
      " 8   DemographicGroup                              57263 non-null  object\n",
      " 9   Medicare benefits per 100 people ($)          57263 non-null  object\n",
      " 10  No. of patients                               57263 non-null  object\n",
      " 11  No. of services                               57263 non-null  object\n",
      " 12  Percentage of people who had the service (%)  57263 non-null  object\n",
      " 13  Services per 100 people                       57263 non-null  object\n",
      " 14  Total Medicare benefits paid ($)              57263 non-null  object\n",
      " 15  Total provider fees ($)                       57263 non-null  object\n",
      " 16  Estimated resident population                 57243 non-null  Int64 \n",
      "dtypes: Int64(1), object(16)\n",
      "memory usage: 7.9+ MB\n"
     ]
    }
   ],
   "source": [
    "# renaming columns for consistency and dropping the _merge column\n",
    "df_mbs_201921_sa3_combined.rename(\n",
    "    columns={\"EstimatedResidentPopulation\": \"Estimated resident population\"},\n",
    "    inplace=True,\n",
    ")\n",
    "df_mbs_201921_sa3_combined.drop([\"_merge\"], axis=1, inplace=True)\n",
    "df_mbs_201921_sa3_combined.info()"
   ]
  },
  {
   "cell_type": "markdown",
   "metadata": {},
   "source": [
    "## 3.Combine MBS Datasets"
   ]
  },
  {
   "cell_type": "markdown",
   "metadata": {},
   "source": [
    "#### 3.1 Import 2021-22 MBS file\n",
    "\n",
    "Dataset already has corresponding Estimated Resident Population"
   ]
  },
  {
   "cell_type": "code",
   "execution_count": 839,
   "metadata": {},
   "outputs": [
    {
     "data": {
      "text/html": [
       "<div>\n",
       "<style scoped>\n",
       "    .dataframe tbody tr th:only-of-type {\n",
       "        vertical-align: middle;\n",
       "    }\n",
       "\n",
       "    .dataframe tbody tr th {\n",
       "        vertical-align: top;\n",
       "    }\n",
       "\n",
       "    .dataframe thead th {\n",
       "        text-align: right;\n",
       "    }\n",
       "</style>\n",
       "<table border=\"1\" class=\"dataframe\">\n",
       "  <thead>\n",
       "    <tr style=\"text-align: right;\">\n",
       "      <th></th>\n",
       "      <th>Year</th>\n",
       "      <th>StateTerritory</th>\n",
       "      <th>GeographicUnit</th>\n",
       "      <th>GeographicCode</th>\n",
       "      <th>GeographicAreaName</th>\n",
       "      <th>GeographicGroup</th>\n",
       "      <th>ServiceLevel</th>\n",
       "      <th>Service</th>\n",
       "      <th>DemographicGroup</th>\n",
       "      <th>Estimated resident population</th>\n",
       "      <th>Medicare benefits per 100 people ($)</th>\n",
       "      <th>No. of patients</th>\n",
       "      <th>No. of services</th>\n",
       "      <th>Percentage of people who had the service (%)</th>\n",
       "      <th>Services per 100 people</th>\n",
       "      <th>Total Medicare benefits paid ($)</th>\n",
       "      <th>Total provider fees ($)</th>\n",
       "    </tr>\n",
       "  </thead>\n",
       "  <tbody>\n",
       "    <tr>\n",
       "      <th>0</th>\n",
       "      <td>2021-22</td>\n",
       "      <td>ACT</td>\n",
       "      <td>SA3</td>\n",
       "      <td>80101</td>\n",
       "      <td>Belconnen</td>\n",
       "      <td>Major cities - medium SES</td>\n",
       "      <td>Level 1</td>\n",
       "      <td>Allied Health attendances (total)</td>\n",
       "      <td>0-24</td>\n",
       "      <td>33439</td>\n",
       "      <td>4,385.95</td>\n",
       "      <td>6,371</td>\n",
       "      <td>16,206</td>\n",
       "      <td>19.05%</td>\n",
       "      <td>48.46</td>\n",
       "      <td>$1,466,617</td>\n",
       "      <td>$2,259,631</td>\n",
       "    </tr>\n",
       "    <tr>\n",
       "      <th>1</th>\n",
       "      <td>2021-22</td>\n",
       "      <td>ACT</td>\n",
       "      <td>SA3</td>\n",
       "      <td>80101</td>\n",
       "      <td>Belconnen</td>\n",
       "      <td>Major cities - medium SES</td>\n",
       "      <td>Level 1</td>\n",
       "      <td>Allied Health attendances (total)</td>\n",
       "      <td>25-44</td>\n",
       "      <td>34495</td>\n",
       "      <td>6,177.09</td>\n",
       "      <td>8,921</td>\n",
       "      <td>23,460</td>\n",
       "      <td>25.86%</td>\n",
       "      <td>68.01</td>\n",
       "      <td>$2,130,787</td>\n",
       "      <td>$3,248,640</td>\n",
       "    </tr>\n",
       "    <tr>\n",
       "      <th>2</th>\n",
       "      <td>2021-22</td>\n",
       "      <td>ACT</td>\n",
       "      <td>SA3</td>\n",
       "      <td>80101</td>\n",
       "      <td>Belconnen</td>\n",
       "      <td>Major cities - medium SES</td>\n",
       "      <td>Level 1</td>\n",
       "      <td>Allied Health attendances (total)</td>\n",
       "      <td>45-64</td>\n",
       "      <td>22397</td>\n",
       "      <td>6,283.74</td>\n",
       "      <td>9,848</td>\n",
       "      <td>19,883</td>\n",
       "      <td>43.97%</td>\n",
       "      <td>88.78</td>\n",
       "      <td>$1,407,369</td>\n",
       "      <td>$1,933,615</td>\n",
       "    </tr>\n",
       "    <tr>\n",
       "      <th>3</th>\n",
       "      <td>2021-22</td>\n",
       "      <td>ACT</td>\n",
       "      <td>SA3</td>\n",
       "      <td>80101</td>\n",
       "      <td>Belconnen</td>\n",
       "      <td>Major cities - medium SES</td>\n",
       "      <td>Level 1</td>\n",
       "      <td>Allied Health attendances (total)</td>\n",
       "      <td>65+</td>\n",
       "      <td>15541</td>\n",
       "      <td>7,940.67</td>\n",
       "      <td>9,794</td>\n",
       "      <td>21,140</td>\n",
       "      <td>63.02%</td>\n",
       "      <td>136.03</td>\n",
       "      <td>$1,234,059</td>\n",
       "      <td>$1,594,820</td>\n",
       "    </tr>\n",
       "    <tr>\n",
       "      <th>4</th>\n",
       "      <td>2021-22</td>\n",
       "      <td>ACT</td>\n",
       "      <td>SA3</td>\n",
       "      <td>80101</td>\n",
       "      <td>Belconnen</td>\n",
       "      <td>Major cities - medium SES</td>\n",
       "      <td>Level 1</td>\n",
       "      <td>Allied Health attendances (total)</td>\n",
       "      <td>All persons</td>\n",
       "      <td>105872</td>\n",
       "      <td>5,892.81</td>\n",
       "      <td>34,933</td>\n",
       "      <td>80,690</td>\n",
       "      <td>33.00%</td>\n",
       "      <td>76.21</td>\n",
       "      <td>$6,238,832</td>\n",
       "      <td>$9,036,706</td>\n",
       "    </tr>\n",
       "    <tr>\n",
       "      <th>5</th>\n",
       "      <td>2021-22</td>\n",
       "      <td>ACT</td>\n",
       "      <td>SA3</td>\n",
       "      <td>80101</td>\n",
       "      <td>Belconnen</td>\n",
       "      <td>Major cities - medium SES</td>\n",
       "      <td>Level 1</td>\n",
       "      <td>Allied Health attendances (total)</td>\n",
       "      <td>F</td>\n",
       "      <td>53393</td>\n",
       "      <td>7,822.20</td>\n",
       "      <td>20,755</td>\n",
       "      <td>51,863</td>\n",
       "      <td>38.87%</td>\n",
       "      <td>97.13</td>\n",
       "      <td>$4,176,508</td>\n",
       "      <td>$6,107,252</td>\n",
       "    </tr>\n",
       "    <tr>\n",
       "      <th>6</th>\n",
       "      <td>2021-22</td>\n",
       "      <td>ACT</td>\n",
       "      <td>SA3</td>\n",
       "      <td>80101</td>\n",
       "      <td>Belconnen</td>\n",
       "      <td>Major cities - medium SES</td>\n",
       "      <td>Level 1</td>\n",
       "      <td>Allied Health attendances (total)</td>\n",
       "      <td>M</td>\n",
       "      <td>52479</td>\n",
       "      <td>3,929.81</td>\n",
       "      <td>14,178</td>\n",
       "      <td>28,827</td>\n",
       "      <td>27.02%</td>\n",
       "      <td>54.93</td>\n",
       "      <td>$2,062,324</td>\n",
       "      <td>$2,929,454</td>\n",
       "    </tr>\n",
       "    <tr>\n",
       "      <th>7</th>\n",
       "      <td>2021-22</td>\n",
       "      <td>ACT</td>\n",
       "      <td>SA3</td>\n",
       "      <td>80101</td>\n",
       "      <td>Belconnen</td>\n",
       "      <td>Major cities - medium SES</td>\n",
       "      <td>Level 1</td>\n",
       "      <td>Diagnostic Imaging (total)</td>\n",
       "      <td>0-24</td>\n",
       "      <td>33439</td>\n",
       "      <td>2,794.82</td>\n",
       "      <td>5,074</td>\n",
       "      <td>8,451</td>\n",
       "      <td>15.17%</td>\n",
       "      <td>25.27</td>\n",
       "      <td>$934,559</td>\n",
       "      <td>$1,165,637</td>\n",
       "    </tr>\n",
       "    <tr>\n",
       "      <th>8</th>\n",
       "      <td>2021-22</td>\n",
       "      <td>ACT</td>\n",
       "      <td>SA3</td>\n",
       "      <td>80101</td>\n",
       "      <td>Belconnen</td>\n",
       "      <td>Major cities - medium SES</td>\n",
       "      <td>Level 1</td>\n",
       "      <td>Diagnostic Imaging (total)</td>\n",
       "      <td>25-44</td>\n",
       "      <td>34495</td>\n",
       "      <td>8,519.92</td>\n",
       "      <td>9,925</td>\n",
       "      <td>21,552</td>\n",
       "      <td>28.77%</td>\n",
       "      <td>62.48</td>\n",
       "      <td>$2,938,946</td>\n",
       "      <td>$4,179,261</td>\n",
       "    </tr>\n",
       "    <tr>\n",
       "      <th>9</th>\n",
       "      <td>2021-22</td>\n",
       "      <td>ACT</td>\n",
       "      <td>SA3</td>\n",
       "      <td>80101</td>\n",
       "      <td>Belconnen</td>\n",
       "      <td>Major cities - medium SES</td>\n",
       "      <td>Level 1</td>\n",
       "      <td>Diagnostic Imaging (total)</td>\n",
       "      <td>45-64</td>\n",
       "      <td>22397</td>\n",
       "      <td>16,671.21</td>\n",
       "      <td>8,522</td>\n",
       "      <td>20,770</td>\n",
       "      <td>38.05%</td>\n",
       "      <td>92.74</td>\n",
       "      <td>$3,733,850</td>\n",
       "      <td>$4,775,628</td>\n",
       "    </tr>\n",
       "  </tbody>\n",
       "</table>\n",
       "</div>"
      ],
      "text/plain": [
       "      Year StateTerritory GeographicUnit GeographicCode GeographicAreaName  \\\n",
       "0  2021-22            ACT            SA3          80101          Belconnen   \n",
       "1  2021-22            ACT            SA3          80101          Belconnen   \n",
       "2  2021-22            ACT            SA3          80101          Belconnen   \n",
       "3  2021-22            ACT            SA3          80101          Belconnen   \n",
       "4  2021-22            ACT            SA3          80101          Belconnen   \n",
       "5  2021-22            ACT            SA3          80101          Belconnen   \n",
       "6  2021-22            ACT            SA3          80101          Belconnen   \n",
       "7  2021-22            ACT            SA3          80101          Belconnen   \n",
       "8  2021-22            ACT            SA3          80101          Belconnen   \n",
       "9  2021-22            ACT            SA3          80101          Belconnen   \n",
       "\n",
       "             GeographicGroup ServiceLevel                            Service  \\\n",
       "0  Major cities - medium SES      Level 1  Allied Health attendances (total)   \n",
       "1  Major cities - medium SES      Level 1  Allied Health attendances (total)   \n",
       "2  Major cities - medium SES      Level 1  Allied Health attendances (total)   \n",
       "3  Major cities - medium SES      Level 1  Allied Health attendances (total)   \n",
       "4  Major cities - medium SES      Level 1  Allied Health attendances (total)   \n",
       "5  Major cities - medium SES      Level 1  Allied Health attendances (total)   \n",
       "6  Major cities - medium SES      Level 1  Allied Health attendances (total)   \n",
       "7  Major cities - medium SES      Level 1         Diagnostic Imaging (total)   \n",
       "8  Major cities - medium SES      Level 1         Diagnostic Imaging (total)   \n",
       "9  Major cities - medium SES      Level 1         Diagnostic Imaging (total)   \n",
       "\n",
       "  DemographicGroup Estimated resident population  \\\n",
       "0             0-24                         33439   \n",
       "1            25-44                         34495   \n",
       "2            45-64                         22397   \n",
       "3              65+                         15541   \n",
       "4      All persons                        105872   \n",
       "5                F                         53393   \n",
       "6                M                         52479   \n",
       "7             0-24                         33439   \n",
       "8            25-44                         34495   \n",
       "9            45-64                         22397   \n",
       "\n",
       "  Medicare benefits per 100 people ($) No. of patients No. of services  \\\n",
       "0                             4,385.95           6,371          16,206   \n",
       "1                             6,177.09           8,921          23,460   \n",
       "2                             6,283.74           9,848          19,883   \n",
       "3                             7,940.67           9,794          21,140   \n",
       "4                             5,892.81          34,933          80,690   \n",
       "5                             7,822.20          20,755          51,863   \n",
       "6                             3,929.81          14,178          28,827   \n",
       "7                             2,794.82           5,074           8,451   \n",
       "8                             8,519.92           9,925          21,552   \n",
       "9                            16,671.21           8,522          20,770   \n",
       "\n",
       "  Percentage of people who had the service (%) Services per 100 people  \\\n",
       "0                                      19.05%                    48.46   \n",
       "1                                      25.86%                    68.01   \n",
       "2                                      43.97%                    88.78   \n",
       "3                                      63.02%                   136.03   \n",
       "4                                      33.00%                    76.21   \n",
       "5                                      38.87%                    97.13   \n",
       "6                                      27.02%                    54.93   \n",
       "7                                      15.17%                    25.27   \n",
       "8                                      28.77%                    62.48   \n",
       "9                                      38.05%                    92.74   \n",
       "\n",
       "  Total Medicare benefits paid ($) Total provider fees ($)  \n",
       "0                       $1,466,617              $2,259,631  \n",
       "1                       $2,130,787              $3,248,640  \n",
       "2                       $1,407,369              $1,933,615  \n",
       "3                       $1,234,059              $1,594,820  \n",
       "4                       $6,238,832              $9,036,706  \n",
       "5                       $4,176,508              $6,107,252  \n",
       "6                       $2,062,324              $2,929,454  \n",
       "7                         $934,559              $1,165,637  \n",
       "8                       $2,938,946              $4,179,261  \n",
       "9                       $3,733,850              $4,775,628  "
      ]
     },
     "execution_count": 839,
     "metadata": {},
     "output_type": "execute_result"
    }
   ],
   "source": [
    "# import the transformed mbs file and assign to a dataframe\n",
    "\n",
    "df_mbs_202122 = pd.read_csv(\n",
    "    os.path.join(path, \"clean_datasets/mbs_data/2021-22_phc_mbs.csv\"),\n",
    "    encoding=\"ISO-8859-1\",\n",
    "    index_col=[0],\n",
    ")\n",
    "df_mbs_202122.head(10)"
   ]
  },
  {
   "cell_type": "code",
   "execution_count": 840,
   "metadata": {},
   "outputs": [
    {
     "name": "stdout",
     "output_type": "stream",
     "text": [
      "<class 'pandas.core.frame.DataFrame'>\n",
      "Int64Index: 28964 entries, 0 to 28963\n",
      "Data columns (total 17 columns):\n",
      " #   Column                                        Non-Null Count  Dtype \n",
      "---  ------                                        --------------  ----- \n",
      " 0   Year                                          28964 non-null  object\n",
      " 1   StateTerritory                                28964 non-null  object\n",
      " 2   GeographicUnit                                28964 non-null  object\n",
      " 3   GeographicCode                                28964 non-null  object\n",
      " 4   GeographicAreaName                            28964 non-null  object\n",
      " 5   GeographicGroup                               28964 non-null  object\n",
      " 6   ServiceLevel                                  28964 non-null  object\n",
      " 7   Service                                       28964 non-null  object\n",
      " 8   DemographicGroup                              28964 non-null  object\n",
      " 9   Estimated resident population                 28964 non-null  object\n",
      " 10  Medicare benefits per 100 people ($)          28964 non-null  object\n",
      " 11  No. of patients                               28964 non-null  object\n",
      " 12  No. of services                               28964 non-null  object\n",
      " 13  Percentage of people who had the service (%)  28964 non-null  object\n",
      " 14  Services per 100 people                       28964 non-null  object\n",
      " 15  Total Medicare benefits paid ($)              28964 non-null  object\n",
      " 16  Total provider fees ($)                       28964 non-null  object\n",
      "dtypes: object(17)\n",
      "memory usage: 4.0+ MB\n"
     ]
    }
   ],
   "source": [
    "df_mbs_202122.info()"
   ]
  },
  {
   "cell_type": "markdown",
   "metadata": {},
   "source": [
    "##### 3.1.1 Enforcing Type on Dimension Values"
   ]
  },
  {
   "cell_type": "code",
   "execution_count": 841,
   "metadata": {},
   "outputs": [],
   "source": [
    "# For consistency, converting the colums to string\n",
    "df_mbs_202122[\"Year\"] = df_mbs_202122[\"Year\"].astype(\"str\")\n",
    "df_mbs_202122[\"GeographicCode\"] = df_mbs_202122[\"GeographicCode\"].astype(\"str\")\n",
    "df_mbs_202122[\"DemographicGroup\"] = df_mbs_202122[\"DemographicGroup\"].astype(\"str\")\n",
    "df_mbs_202122[\"StateTerritory\"] = df_mbs_202122[\"StateTerritory\"].astype(\"str\")\n",
    "df_mbs_202122[\"GeographicAreaName\"] = df_mbs_202122[\"GeographicAreaName\"].astype(\"str\")\n",
    "df_mbs_202122[\"ServiceLevel\"] = df_mbs_202122[\"ServiceLevel\"].astype(\"str\")\n",
    "df_mbs_202122[\"Service\"] = df_mbs_202122[\"Service\"].astype(\"str\")"
   ]
  },
  {
   "cell_type": "markdown",
   "metadata": {},
   "source": [
    "##### 3.2.1 Check Estimated Resident Population Consistency"
   ]
  },
  {
   "cell_type": "code",
   "execution_count": 842,
   "metadata": {},
   "outputs": [
    {
     "name": "stdout",
     "output_type": "stream",
     "text": [
      "(10, 17)\n"
     ]
    },
    {
     "data": {
      "text/html": [
       "<div>\n",
       "<style scoped>\n",
       "    .dataframe tbody tr th:only-of-type {\n",
       "        vertical-align: middle;\n",
       "    }\n",
       "\n",
       "    .dataframe tbody tr th {\n",
       "        vertical-align: top;\n",
       "    }\n",
       "\n",
       "    .dataframe thead th {\n",
       "        text-align: right;\n",
       "    }\n",
       "</style>\n",
       "<table border=\"1\" class=\"dataframe\">\n",
       "  <thead>\n",
       "    <tr style=\"text-align: right;\">\n",
       "      <th></th>\n",
       "      <th>Year</th>\n",
       "      <th>StateTerritory</th>\n",
       "      <th>GeographicUnit</th>\n",
       "      <th>GeographicCode</th>\n",
       "      <th>GeographicAreaName</th>\n",
       "      <th>GeographicGroup</th>\n",
       "      <th>ServiceLevel</th>\n",
       "      <th>Service</th>\n",
       "      <th>DemographicGroup</th>\n",
       "      <th>Estimated resident population</th>\n",
       "      <th>Medicare benefits per 100 people ($)</th>\n",
       "      <th>No. of patients</th>\n",
       "      <th>No. of services</th>\n",
       "      <th>Percentage of people who had the service (%)</th>\n",
       "      <th>Services per 100 people</th>\n",
       "      <th>Total Medicare benefits paid ($)</th>\n",
       "      <th>Total provider fees ($)</th>\n",
       "    </tr>\n",
       "  </thead>\n",
       "  <tbody>\n",
       "    <tr>\n",
       "      <th>6860</th>\n",
       "      <td>2021-22</td>\n",
       "      <td>NSW</td>\n",
       "      <td>SA3</td>\n",
       "      <td>10702</td>\n",
       "      <td>Illawarra Catchment Reserve</td>\n",
       "      <td>Ungrouped</td>\n",
       "      <td>Level 1</td>\n",
       "      <td>Allied Health attendances (total)</td>\n",
       "      <td>45-64</td>\n",
       "      <td>.</td>\n",
       "      <td>n.p.</td>\n",
       "      <td>n.p.</td>\n",
       "      <td>n.p.</td>\n",
       "      <td>n.p.</td>\n",
       "      <td>n.p.</td>\n",
       "      <td>n.p.</td>\n",
       "      <td>n.p.</td>\n",
       "    </tr>\n",
       "    <tr>\n",
       "      <th>6861</th>\n",
       "      <td>2021-22</td>\n",
       "      <td>NSW</td>\n",
       "      <td>SA3</td>\n",
       "      <td>10702</td>\n",
       "      <td>Illawarra Catchment Reserve</td>\n",
       "      <td>Ungrouped</td>\n",
       "      <td>Level 1</td>\n",
       "      <td>Allied Health attendances (total)</td>\n",
       "      <td>65+</td>\n",
       "      <td>.</td>\n",
       "      <td>n.p.</td>\n",
       "      <td>n.p.</td>\n",
       "      <td>n.p.</td>\n",
       "      <td>n.p.</td>\n",
       "      <td>n.p.</td>\n",
       "      <td>n.p.</td>\n",
       "      <td>n.p.</td>\n",
       "    </tr>\n",
       "    <tr>\n",
       "      <th>6867</th>\n",
       "      <td>2021-22</td>\n",
       "      <td>NSW</td>\n",
       "      <td>SA3</td>\n",
       "      <td>10702</td>\n",
       "      <td>Illawarra Catchment Reserve</td>\n",
       "      <td>Ungrouped</td>\n",
       "      <td>Level 1</td>\n",
       "      <td>Diagnostic Imaging (total)</td>\n",
       "      <td>45-64</td>\n",
       "      <td>.</td>\n",
       "      <td>n.p.</td>\n",
       "      <td>n.p.</td>\n",
       "      <td>n.p.</td>\n",
       "      <td>n.p.</td>\n",
       "      <td>n.p.</td>\n",
       "      <td>n.p.</td>\n",
       "      <td>n.p.</td>\n",
       "    </tr>\n",
       "    <tr>\n",
       "      <th>6868</th>\n",
       "      <td>2021-22</td>\n",
       "      <td>NSW</td>\n",
       "      <td>SA3</td>\n",
       "      <td>10702</td>\n",
       "      <td>Illawarra Catchment Reserve</td>\n",
       "      <td>Ungrouped</td>\n",
       "      <td>Level 1</td>\n",
       "      <td>Diagnostic Imaging (total)</td>\n",
       "      <td>65+</td>\n",
       "      <td>.</td>\n",
       "      <td>n.p.</td>\n",
       "      <td>n.p.</td>\n",
       "      <td>n.p.</td>\n",
       "      <td>n.p.</td>\n",
       "      <td>n.p.</td>\n",
       "      <td>n.p.</td>\n",
       "      <td>n.p.</td>\n",
       "    </tr>\n",
       "    <tr>\n",
       "      <th>6874</th>\n",
       "      <td>2021-22</td>\n",
       "      <td>NSW</td>\n",
       "      <td>SA3</td>\n",
       "      <td>10702</td>\n",
       "      <td>Illawarra Catchment Reserve</td>\n",
       "      <td>Ungrouped</td>\n",
       "      <td>Level 1</td>\n",
       "      <td>GP attendances (total)</td>\n",
       "      <td>45-64</td>\n",
       "      <td>.</td>\n",
       "      <td>n.p.</td>\n",
       "      <td>n.p.</td>\n",
       "      <td>n.p.</td>\n",
       "      <td>n.p.</td>\n",
       "      <td>n.p.</td>\n",
       "      <td>n.p.</td>\n",
       "      <td>n.p.</td>\n",
       "    </tr>\n",
       "    <tr>\n",
       "      <th>6875</th>\n",
       "      <td>2021-22</td>\n",
       "      <td>NSW</td>\n",
       "      <td>SA3</td>\n",
       "      <td>10702</td>\n",
       "      <td>Illawarra Catchment Reserve</td>\n",
       "      <td>Ungrouped</td>\n",
       "      <td>Level 1</td>\n",
       "      <td>GP attendances (total)</td>\n",
       "      <td>65+</td>\n",
       "      <td>.</td>\n",
       "      <td>n.p.</td>\n",
       "      <td>n.p.</td>\n",
       "      <td>n.p.</td>\n",
       "      <td>n.p.</td>\n",
       "      <td>n.p.</td>\n",
       "      <td>n.p.</td>\n",
       "      <td>n.p.</td>\n",
       "    </tr>\n",
       "    <tr>\n",
       "      <th>6881</th>\n",
       "      <td>2021-22</td>\n",
       "      <td>NSW</td>\n",
       "      <td>SA3</td>\n",
       "      <td>10702</td>\n",
       "      <td>Illawarra Catchment Reserve</td>\n",
       "      <td>Ungrouped</td>\n",
       "      <td>Level 1</td>\n",
       "      <td>Nursing and Aboriginal Health Workers (total)</td>\n",
       "      <td>45-64</td>\n",
       "      <td>.</td>\n",
       "      <td>n.p.</td>\n",
       "      <td>n.p.</td>\n",
       "      <td>n.p.</td>\n",
       "      <td>n.p.</td>\n",
       "      <td>n.p.</td>\n",
       "      <td>n.p.</td>\n",
       "      <td>n.p.</td>\n",
       "    </tr>\n",
       "    <tr>\n",
       "      <th>6882</th>\n",
       "      <td>2021-22</td>\n",
       "      <td>NSW</td>\n",
       "      <td>SA3</td>\n",
       "      <td>10702</td>\n",
       "      <td>Illawarra Catchment Reserve</td>\n",
       "      <td>Ungrouped</td>\n",
       "      <td>Level 1</td>\n",
       "      <td>Nursing and Aboriginal Health Workers (total)</td>\n",
       "      <td>65+</td>\n",
       "      <td>.</td>\n",
       "      <td>n.p.</td>\n",
       "      <td>n.p.</td>\n",
       "      <td>n.p.</td>\n",
       "      <td>n.p.</td>\n",
       "      <td>n.p.</td>\n",
       "      <td>n.p.</td>\n",
       "      <td>n.p.</td>\n",
       "    </tr>\n",
       "    <tr>\n",
       "      <th>6888</th>\n",
       "      <td>2021-22</td>\n",
       "      <td>NSW</td>\n",
       "      <td>SA3</td>\n",
       "      <td>10702</td>\n",
       "      <td>Illawarra Catchment Reserve</td>\n",
       "      <td>Ungrouped</td>\n",
       "      <td>Level 1</td>\n",
       "      <td>Specialist attendances (total)</td>\n",
       "      <td>45-64</td>\n",
       "      <td>.</td>\n",
       "      <td>n.p.</td>\n",
       "      <td>n.p.</td>\n",
       "      <td>n.p.</td>\n",
       "      <td>n.p.</td>\n",
       "      <td>n.p.</td>\n",
       "      <td>n.p.</td>\n",
       "      <td>n.p.</td>\n",
       "    </tr>\n",
       "    <tr>\n",
       "      <th>6889</th>\n",
       "      <td>2021-22</td>\n",
       "      <td>NSW</td>\n",
       "      <td>SA3</td>\n",
       "      <td>10702</td>\n",
       "      <td>Illawarra Catchment Reserve</td>\n",
       "      <td>Ungrouped</td>\n",
       "      <td>Level 1</td>\n",
       "      <td>Specialist attendances (total)</td>\n",
       "      <td>65+</td>\n",
       "      <td>.</td>\n",
       "      <td>n.p.</td>\n",
       "      <td>n.p.</td>\n",
       "      <td>n.p.</td>\n",
       "      <td>n.p.</td>\n",
       "      <td>n.p.</td>\n",
       "      <td>n.p.</td>\n",
       "      <td>n.p.</td>\n",
       "    </tr>\n",
       "  </tbody>\n",
       "</table>\n",
       "</div>"
      ],
      "text/plain": [
       "         Year StateTerritory GeographicUnit GeographicCode  \\\n",
       "6860  2021-22            NSW            SA3          10702   \n",
       "6861  2021-22            NSW            SA3          10702   \n",
       "6867  2021-22            NSW            SA3          10702   \n",
       "6868  2021-22            NSW            SA3          10702   \n",
       "6874  2021-22            NSW            SA3          10702   \n",
       "6875  2021-22            NSW            SA3          10702   \n",
       "6881  2021-22            NSW            SA3          10702   \n",
       "6882  2021-22            NSW            SA3          10702   \n",
       "6888  2021-22            NSW            SA3          10702   \n",
       "6889  2021-22            NSW            SA3          10702   \n",
       "\n",
       "               GeographicAreaName GeographicGroup ServiceLevel  \\\n",
       "6860  Illawarra Catchment Reserve       Ungrouped      Level 1   \n",
       "6861  Illawarra Catchment Reserve       Ungrouped      Level 1   \n",
       "6867  Illawarra Catchment Reserve       Ungrouped      Level 1   \n",
       "6868  Illawarra Catchment Reserve       Ungrouped      Level 1   \n",
       "6874  Illawarra Catchment Reserve       Ungrouped      Level 1   \n",
       "6875  Illawarra Catchment Reserve       Ungrouped      Level 1   \n",
       "6881  Illawarra Catchment Reserve       Ungrouped      Level 1   \n",
       "6882  Illawarra Catchment Reserve       Ungrouped      Level 1   \n",
       "6888  Illawarra Catchment Reserve       Ungrouped      Level 1   \n",
       "6889  Illawarra Catchment Reserve       Ungrouped      Level 1   \n",
       "\n",
       "                                            Service DemographicGroup  \\\n",
       "6860              Allied Health attendances (total)            45-64   \n",
       "6861              Allied Health attendances (total)              65+   \n",
       "6867                     Diagnostic Imaging (total)            45-64   \n",
       "6868                     Diagnostic Imaging (total)              65+   \n",
       "6874                         GP attendances (total)            45-64   \n",
       "6875                         GP attendances (total)              65+   \n",
       "6881  Nursing and Aboriginal Health Workers (total)            45-64   \n",
       "6882  Nursing and Aboriginal Health Workers (total)              65+   \n",
       "6888                 Specialist attendances (total)            45-64   \n",
       "6889                 Specialist attendances (total)              65+   \n",
       "\n",
       "     Estimated resident population Medicare benefits per 100 people ($)  \\\n",
       "6860                             .                         n.p.           \n",
       "6861                             .                         n.p.           \n",
       "6867                             .                         n.p.           \n",
       "6868                             .                         n.p.           \n",
       "6874                             .                         n.p.           \n",
       "6875                             .                         n.p.           \n",
       "6881                             .                         n.p.           \n",
       "6882                             .                         n.p.           \n",
       "6888                             .                         n.p.           \n",
       "6889                             .                         n.p.           \n",
       "\n",
       "     No. of patients No. of services  \\\n",
       "6860    n.p.            n.p.           \n",
       "6861    n.p.            n.p.           \n",
       "6867    n.p.            n.p.           \n",
       "6868    n.p.            n.p.           \n",
       "6874    n.p.            n.p.           \n",
       "6875    n.p.            n.p.           \n",
       "6881    n.p.            n.p.           \n",
       "6882    n.p.            n.p.           \n",
       "6888    n.p.            n.p.           \n",
       "6889    n.p.            n.p.           \n",
       "\n",
       "     Percentage of people who had the service (%) Services per 100 people  \\\n",
       "6860                                 n.p.                    n.p.           \n",
       "6861                                 n.p.                    n.p.           \n",
       "6867                                 n.p.                    n.p.           \n",
       "6868                                 n.p.                    n.p.           \n",
       "6874                                 n.p.                    n.p.           \n",
       "6875                                 n.p.                    n.p.           \n",
       "6881                                 n.p.                    n.p.           \n",
       "6882                                 n.p.                    n.p.           \n",
       "6888                                 n.p.                    n.p.           \n",
       "6889                                 n.p.                    n.p.           \n",
       "\n",
       "     Total Medicare benefits paid ($) Total provider fees ($)  \n",
       "6860                 n.p.                    n.p.              \n",
       "6861                 n.p.                    n.p.              \n",
       "6867                 n.p.                    n.p.              \n",
       "6868                 n.p.                    n.p.              \n",
       "6874                 n.p.                    n.p.              \n",
       "6875                 n.p.                    n.p.              \n",
       "6881                 n.p.                    n.p.              \n",
       "6882                 n.p.                    n.p.              \n",
       "6888                 n.p.                    n.p.              \n",
       "6889                 n.p.                    n.p.              "
      ]
     },
     "execution_count": 842,
     "metadata": {},
     "output_type": "execute_result"
    }
   ],
   "source": [
    "# found 10 rows that contain . Updating the row to have np.nan\n",
    "df_mbs_202122[\"Estimated resident population\"].value_counts(dropna=False)\n",
    "df_diff = df_mbs_202122[\n",
    "    df_mbs_202122[\"Estimated resident population\"].str.contains(\"\\.\")\n",
    "]\n",
    "print(df_diff.shape)\n",
    "df_diff"
   ]
  },
  {
   "cell_type": "markdown",
   "metadata": {},
   "source": [
    "Found SA3 had 4 records that were suppressed by using fullstop (.). Updating to np.nan so can be converted to int64"
   ]
  },
  {
   "cell_type": "code",
   "execution_count": 843,
   "metadata": {},
   "outputs": [],
   "source": [
    "df_mbs_202122[\"Estimated resident population\"] = pd.to_numeric(\n",
    "    df_mbs_202122[\"Estimated resident population\"], errors=\"coerce\"\n",
    ")"
   ]
  },
  {
   "cell_type": "code",
   "execution_count": 844,
   "metadata": {},
   "outputs": [],
   "source": [
    "df_mbs_202122[\"Estimated resident population\"] = (\n",
    "    df_mbs_202122[\"Estimated resident population\"].astype(\"float\").astype(\"Int64\")\n",
    ")"
   ]
  },
  {
   "cell_type": "code",
   "execution_count": 845,
   "metadata": {},
   "outputs": [
    {
     "name": "stdout",
     "output_type": "stream",
     "text": [
      "<class 'pandas.core.frame.DataFrame'>\n",
      "Int64Index: 28964 entries, 0 to 28963\n",
      "Data columns (total 17 columns):\n",
      " #   Column                                        Non-Null Count  Dtype \n",
      "---  ------                                        --------------  ----- \n",
      " 0   Year                                          28964 non-null  object\n",
      " 1   StateTerritory                                28964 non-null  object\n",
      " 2   GeographicUnit                                28964 non-null  object\n",
      " 3   GeographicCode                                28964 non-null  object\n",
      " 4   GeographicAreaName                            28964 non-null  object\n",
      " 5   GeographicGroup                               28964 non-null  object\n",
      " 6   ServiceLevel                                  28964 non-null  object\n",
      " 7   Service                                       28964 non-null  object\n",
      " 8   DemographicGroup                              28964 non-null  object\n",
      " 9   Estimated resident population                 28954 non-null  Int64 \n",
      " 10  Medicare benefits per 100 people ($)          28964 non-null  object\n",
      " 11  No. of patients                               28964 non-null  object\n",
      " 12  No. of services                               28964 non-null  object\n",
      " 13  Percentage of people who had the service (%)  28964 non-null  object\n",
      " 14  Services per 100 people                       28964 non-null  object\n",
      " 15  Total Medicare benefits paid ($)              28964 non-null  object\n",
      " 16  Total provider fees ($)                       28964 non-null  object\n",
      "dtypes: Int64(1), object(16)\n",
      "memory usage: 4.0+ MB\n"
     ]
    }
   ],
   "source": [
    "df_mbs_202122.info()"
   ]
  },
  {
   "cell_type": "markdown",
   "metadata": {},
   "source": [
    "#### 3.2.Combine MBS Datasets 2013-19, 2019-2021 and 2021-22"
   ]
  },
  {
   "cell_type": "markdown",
   "metadata": {},
   "source": [
    "Expecting 258550 rows of MBS data after vertically stacking the dataframes"
   ]
  },
  {
   "cell_type": "code",
   "execution_count": 846,
   "metadata": {},
   "outputs": [
    {
     "data": {
      "text/plain": [
       "(258535, 17)"
      ]
     },
     "execution_count": 846,
     "metadata": {},
     "output_type": "execute_result"
    }
   ],
   "source": [
    "# vertically stacking each of the dataframe to create a new dataset with years 2013-22\n",
    "df_mbs_combined_201322 = pd.concat(\n",
    "    [df_mbs_201319_sa3_combined, df_mbs_201921_sa3_combined, df_mbs_202122],\n",
    "    axis=0,\n",
    "    ignore_index=True,\n",
    ")\n",
    "df_mbs_combined_201322.shape"
   ]
  },
  {
   "cell_type": "code",
   "execution_count": 847,
   "metadata": {},
   "outputs": [
    {
     "data": {
      "text/html": [
       "<div>\n",
       "<style scoped>\n",
       "    .dataframe tbody tr th:only-of-type {\n",
       "        vertical-align: middle;\n",
       "    }\n",
       "\n",
       "    .dataframe tbody tr th {\n",
       "        vertical-align: top;\n",
       "    }\n",
       "\n",
       "    .dataframe thead th {\n",
       "        text-align: right;\n",
       "    }\n",
       "</style>\n",
       "<table border=\"1\" class=\"dataframe\">\n",
       "  <thead>\n",
       "    <tr style=\"text-align: right;\">\n",
       "      <th></th>\n",
       "      <th>Year</th>\n",
       "      <th>StateTerritory</th>\n",
       "      <th>GeographicUnit</th>\n",
       "      <th>GeographicCode</th>\n",
       "      <th>GeographicAreaName</th>\n",
       "      <th>GeographicGroup</th>\n",
       "      <th>ServiceLevel</th>\n",
       "      <th>Service</th>\n",
       "      <th>DemographicGroup</th>\n",
       "      <th>Medicare benefits per 100 people ($)</th>\n",
       "      <th>No. of patients</th>\n",
       "      <th>No. of services</th>\n",
       "      <th>Percentage of people who had the service (%)</th>\n",
       "      <th>Services per 100 people</th>\n",
       "      <th>Total Medicare benefits paid ($)</th>\n",
       "      <th>Total provider fees ($)</th>\n",
       "      <th>Estimated resident population</th>\n",
       "    </tr>\n",
       "  </thead>\n",
       "  <tbody>\n",
       "    <tr>\n",
       "      <th>258530</th>\n",
       "      <td>2021-22</td>\n",
       "      <td>WA</td>\n",
       "      <td>SA3</td>\n",
       "      <td>51104</td>\n",
       "      <td>Mid West</td>\n",
       "      <td>Remote (incl. very remote)</td>\n",
       "      <td>Level 3</td>\n",
       "      <td>Physiotherapy</td>\n",
       "      <td>All persons</td>\n",
       "      <td>240.25</td>\n",
       "      <td>922</td>\n",
       "      <td>2,485</td>\n",
       "      <td>1.61%</td>\n",
       "      <td>4.34</td>\n",
       "      <td>$137,622</td>\n",
       "      <td>$154,790</td>\n",
       "      <td>57284</td>\n",
       "    </tr>\n",
       "    <tr>\n",
       "      <th>258531</th>\n",
       "      <td>2021-22</td>\n",
       "      <td>WA</td>\n",
       "      <td>SA3</td>\n",
       "      <td>51104</td>\n",
       "      <td>Mid West</td>\n",
       "      <td>Remote (incl. very remote)</td>\n",
       "      <td>Level 3</td>\n",
       "      <td>Podiatry</td>\n",
       "      <td>All persons</td>\n",
       "      <td>469.51</td>\n",
       "      <td>1,803</td>\n",
       "      <td>4,856</td>\n",
       "      <td>3.15%</td>\n",
       "      <td>8.48</td>\n",
       "      <td>$268,951</td>\n",
       "      <td>$310,628</td>\n",
       "      <td>57284</td>\n",
       "    </tr>\n",
       "    <tr>\n",
       "      <th>258532</th>\n",
       "      <td>2021-22</td>\n",
       "      <td>WA</td>\n",
       "      <td>SA3</td>\n",
       "      <td>51104</td>\n",
       "      <td>Mid West</td>\n",
       "      <td>Remote (incl. very remote)</td>\n",
       "      <td>Level 3</td>\n",
       "      <td>Practice Nurse/Aboriginal Health Worker</td>\n",
       "      <td>All persons</td>\n",
       "      <td>233.88</td>\n",
       "      <td>5,139</td>\n",
       "      <td>8,167</td>\n",
       "      <td>8.97%</td>\n",
       "      <td>14.26</td>\n",
       "      <td>$133,975</td>\n",
       "      <td>$133,983</td>\n",
       "      <td>57284</td>\n",
       "    </tr>\n",
       "    <tr>\n",
       "      <th>258533</th>\n",
       "      <td>2021-22</td>\n",
       "      <td>WA</td>\n",
       "      <td>SA3</td>\n",
       "      <td>51104</td>\n",
       "      <td>Mid West</td>\n",
       "      <td>Remote (incl. very remote)</td>\n",
       "      <td>Level 3</td>\n",
       "      <td>Psychiatry</td>\n",
       "      <td>All persons</td>\n",
       "      <td>660.86</td>\n",
       "      <td>788</td>\n",
       "      <td>1,757</td>\n",
       "      <td>1.38%</td>\n",
       "      <td>3.07</td>\n",
       "      <td>$378,567</td>\n",
       "      <td>$567,161</td>\n",
       "      <td>57284</td>\n",
       "    </tr>\n",
       "    <tr>\n",
       "      <th>258534</th>\n",
       "      <td>2021-22</td>\n",
       "      <td>WA</td>\n",
       "      <td>SA3</td>\n",
       "      <td>51104</td>\n",
       "      <td>Mid West</td>\n",
       "      <td>Remote (incl. very remote)</td>\n",
       "      <td>Level 3</td>\n",
       "      <td>Speech Pathology</td>\n",
       "      <td>All persons</td>\n",
       "      <td>n.p.</td>\n",
       "      <td>n.p.</td>\n",
       "      <td>n.p.</td>\n",
       "      <td>n.p.</td>\n",
       "      <td>n.p.</td>\n",
       "      <td>n.p.</td>\n",
       "      <td>n.p.</td>\n",
       "      <td>57284</td>\n",
       "    </tr>\n",
       "  </tbody>\n",
       "</table>\n",
       "</div>"
      ],
      "text/plain": [
       "           Year StateTerritory GeographicUnit GeographicCode  \\\n",
       "258530  2021-22             WA            SA3          51104   \n",
       "258531  2021-22             WA            SA3          51104   \n",
       "258532  2021-22             WA            SA3          51104   \n",
       "258533  2021-22             WA            SA3          51104   \n",
       "258534  2021-22             WA            SA3          51104   \n",
       "\n",
       "       GeographicAreaName             GeographicGroup ServiceLevel  \\\n",
       "258530           Mid West  Remote (incl. very remote)      Level 3   \n",
       "258531           Mid West  Remote (incl. very remote)      Level 3   \n",
       "258532           Mid West  Remote (incl. very remote)      Level 3   \n",
       "258533           Mid West  Remote (incl. very remote)      Level 3   \n",
       "258534           Mid West  Remote (incl. very remote)      Level 3   \n",
       "\n",
       "                                        Service DemographicGroup  \\\n",
       "258530                            Physiotherapy      All persons   \n",
       "258531                                 Podiatry      All persons   \n",
       "258532  Practice Nurse/Aboriginal Health Worker      All persons   \n",
       "258533                               Psychiatry      All persons   \n",
       "258534                         Speech Pathology      All persons   \n",
       "\n",
       "       Medicare benefits per 100 people ($) No. of patients No. of services  \\\n",
       "258530                               240.25             922           2,485   \n",
       "258531                               469.51           1,803           4,856   \n",
       "258532                               233.88           5,139           8,167   \n",
       "258533                               660.86             788           1,757   \n",
       "258534                         n.p.            n.p.            n.p.           \n",
       "\n",
       "       Percentage of people who had the service (%) Services per 100 people  \\\n",
       "258530                                       1.61%                     4.34   \n",
       "258531                                       3.15%                     8.48   \n",
       "258532                                       8.97%                    14.26   \n",
       "258533                                       1.38%                     3.07   \n",
       "258534                                 n.p.                    n.p.           \n",
       "\n",
       "       Total Medicare benefits paid ($) Total provider fees ($)  \\\n",
       "258530                         $137,622                $154,790   \n",
       "258531                         $268,951                $310,628   \n",
       "258532                         $133,975                $133,983   \n",
       "258533                         $378,567                $567,161   \n",
       "258534                 n.p.                    n.p.               \n",
       "\n",
       "        Estimated resident population  \n",
       "258530                          57284  \n",
       "258531                          57284  \n",
       "258532                          57284  \n",
       "258533                          57284  \n",
       "258534                          57284  "
      ]
     },
     "execution_count": 847,
     "metadata": {},
     "output_type": "execute_result"
    }
   ],
   "source": [
    "df_mbs_combined_201322.tail(5)"
   ]
  },
  {
   "cell_type": "code",
   "execution_count": 848,
   "metadata": {},
   "outputs": [
    {
     "data": {
      "text/html": [
       "<div>\n",
       "<style scoped>\n",
       "    .dataframe tbody tr th:only-of-type {\n",
       "        vertical-align: middle;\n",
       "    }\n",
       "\n",
       "    .dataframe tbody tr th {\n",
       "        vertical-align: top;\n",
       "    }\n",
       "\n",
       "    .dataframe thead th {\n",
       "        text-align: right;\n",
       "    }\n",
       "</style>\n",
       "<table border=\"1\" class=\"dataframe\">\n",
       "  <thead>\n",
       "    <tr style=\"text-align: right;\">\n",
       "      <th></th>\n",
       "      <th>Year</th>\n",
       "      <th>StateTerritory</th>\n",
       "      <th>GeographicUnit</th>\n",
       "      <th>GeographicCode</th>\n",
       "      <th>GeographicAreaName</th>\n",
       "      <th>GeographicGroup</th>\n",
       "      <th>ServiceLevel</th>\n",
       "      <th>Service</th>\n",
       "      <th>DemographicGroup</th>\n",
       "      <th>Medicare benefits per 100 people ($)</th>\n",
       "      <th>No. of patients</th>\n",
       "      <th>No. of services</th>\n",
       "      <th>Percentage of people who had the service (%)</th>\n",
       "      <th>Services per 100 people</th>\n",
       "      <th>Total Medicare benefits paid ($)</th>\n",
       "      <th>Total provider fees ($)</th>\n",
       "      <th>Estimated resident population</th>\n",
       "    </tr>\n",
       "  </thead>\n",
       "  <tbody>\n",
       "    <tr>\n",
       "      <th>0</th>\n",
       "      <td>2013-14</td>\n",
       "      <td>ACT</td>\n",
       "      <td>SA3</td>\n",
       "      <td>80101</td>\n",
       "      <td>Belconnen</td>\n",
       "      <td>Major cities - medium SES</td>\n",
       "      <td>Level 1</td>\n",
       "      <td>Allied Health attendances (total)</td>\n",
       "      <td>0-24</td>\n",
       "      <td>2576.0</td>\n",
       "      <td>5624.0</td>\n",
       "      <td>10879.0</td>\n",
       "      <td>17.27</td>\n",
       "      <td>33.41</td>\n",
       "      <td>838549.0</td>\n",
       "      <td>1026474.0</td>\n",
       "      <td>32558</td>\n",
       "    </tr>\n",
       "    <tr>\n",
       "      <th>1</th>\n",
       "      <td>2013-14</td>\n",
       "      <td>ACT</td>\n",
       "      <td>SA3</td>\n",
       "      <td>80101</td>\n",
       "      <td>Belconnen</td>\n",
       "      <td>Major cities - medium SES</td>\n",
       "      <td>Level 1</td>\n",
       "      <td>Allied Health attendances (total)</td>\n",
       "      <td>25-44</td>\n",
       "      <td>4004.0</td>\n",
       "      <td>7714.0</td>\n",
       "      <td>15870.0</td>\n",
       "      <td>24.75</td>\n",
       "      <td>50.93</td>\n",
       "      <td>1247656.0</td>\n",
       "      <td>1600846.0</td>\n",
       "      <td>31163</td>\n",
       "    </tr>\n",
       "    <tr>\n",
       "      <th>2</th>\n",
       "      <td>2013-14</td>\n",
       "      <td>ACT</td>\n",
       "      <td>SA3</td>\n",
       "      <td>80101</td>\n",
       "      <td>Belconnen</td>\n",
       "      <td>Major cities - medium SES</td>\n",
       "      <td>Level 1</td>\n",
       "      <td>Allied Health attendances (total)</td>\n",
       "      <td>45-64</td>\n",
       "      <td>4672.0</td>\n",
       "      <td>8998.0</td>\n",
       "      <td>15754.0</td>\n",
       "      <td>41.32</td>\n",
       "      <td>72.35</td>\n",
       "      <td>1017264.0</td>\n",
       "      <td>1197133.0</td>\n",
       "      <td>21774</td>\n",
       "    </tr>\n",
       "    <tr>\n",
       "      <th>3</th>\n",
       "      <td>2013-14</td>\n",
       "      <td>ACT</td>\n",
       "      <td>SA3</td>\n",
       "      <td>80101</td>\n",
       "      <td>Belconnen</td>\n",
       "      <td>Major cities - medium SES</td>\n",
       "      <td>Level 1</td>\n",
       "      <td>Allied Health attendances (total)</td>\n",
       "      <td>65+</td>\n",
       "      <td>5819.0</td>\n",
       "      <td>6397.0</td>\n",
       "      <td>12316.0</td>\n",
       "      <td>55.07</td>\n",
       "      <td>106.01</td>\n",
       "      <td>675946.0</td>\n",
       "      <td>761837.0</td>\n",
       "      <td>11617</td>\n",
       "    </tr>\n",
       "    <tr>\n",
       "      <th>4</th>\n",
       "      <td>2013-14</td>\n",
       "      <td>ACT</td>\n",
       "      <td>SA3</td>\n",
       "      <td>80101</td>\n",
       "      <td>Belconnen</td>\n",
       "      <td>Major cities - medium SES</td>\n",
       "      <td>Level 1</td>\n",
       "      <td>Allied Health attendances (total)</td>\n",
       "      <td>All persons</td>\n",
       "      <td>3892.0</td>\n",
       "      <td>28733.0</td>\n",
       "      <td>54818.0</td>\n",
       "      <td>29.59</td>\n",
       "      <td>56.45</td>\n",
       "      <td>3779415.0</td>\n",
       "      <td>4586290.0</td>\n",
       "      <td>97112</td>\n",
       "    </tr>\n",
       "  </tbody>\n",
       "</table>\n",
       "</div>"
      ],
      "text/plain": [
       "      Year StateTerritory GeographicUnit GeographicCode GeographicAreaName  \\\n",
       "0  2013-14            ACT            SA3          80101          Belconnen   \n",
       "1  2013-14            ACT            SA3          80101          Belconnen   \n",
       "2  2013-14            ACT            SA3          80101          Belconnen   \n",
       "3  2013-14            ACT            SA3          80101          Belconnen   \n",
       "4  2013-14            ACT            SA3          80101          Belconnen   \n",
       "\n",
       "             GeographicGroup ServiceLevel                            Service  \\\n",
       "0  Major cities - medium SES      Level 1  Allied Health attendances (total)   \n",
       "1  Major cities - medium SES      Level 1  Allied Health attendances (total)   \n",
       "2  Major cities - medium SES      Level 1  Allied Health attendances (total)   \n",
       "3  Major cities - medium SES      Level 1  Allied Health attendances (total)   \n",
       "4  Major cities - medium SES      Level 1  Allied Health attendances (total)   \n",
       "\n",
       "  DemographicGroup Medicare benefits per 100 people ($) No. of patients  \\\n",
       "0             0-24                               2576.0          5624.0   \n",
       "1            25-44                               4004.0          7714.0   \n",
       "2            45-64                               4672.0          8998.0   \n",
       "3              65+                               5819.0          6397.0   \n",
       "4      All persons                               3892.0         28733.0   \n",
       "\n",
       "  No. of services Percentage of people who had the service (%)  \\\n",
       "0         10879.0                                        17.27   \n",
       "1         15870.0                                        24.75   \n",
       "2         15754.0                                        41.32   \n",
       "3         12316.0                                        55.07   \n",
       "4         54818.0                                        29.59   \n",
       "\n",
       "  Services per 100 people Total Medicare benefits paid ($)  \\\n",
       "0                   33.41                         838549.0   \n",
       "1                   50.93                        1247656.0   \n",
       "2                   72.35                        1017264.0   \n",
       "3                  106.01                         675946.0   \n",
       "4                   56.45                        3779415.0   \n",
       "\n",
       "  Total provider fees ($)  Estimated resident population  \n",
       "0               1026474.0                          32558  \n",
       "1               1600846.0                          31163  \n",
       "2               1197133.0                          21774  \n",
       "3                761837.0                          11617  \n",
       "4               4586290.0                          97112  "
      ]
     },
     "execution_count": 848,
     "metadata": {},
     "output_type": "execute_result"
    }
   ],
   "source": [
    "df_mbs_combined_201322.head(5)"
   ]
  },
  {
   "cell_type": "markdown",
   "metadata": {},
   "source": [
    "## 4.Data Cleaning"
   ]
  },
  {
   "cell_type": "code",
   "execution_count": 849,
   "metadata": {},
   "outputs": [
    {
     "name": "stdout",
     "output_type": "stream",
     "text": [
      "<class 'pandas.core.frame.DataFrame'>\n",
      "RangeIndex: 258535 entries, 0 to 258534\n",
      "Data columns (total 17 columns):\n",
      " #   Column                                        Non-Null Count   Dtype \n",
      "---  ------                                        --------------   ----- \n",
      " 0   Year                                          258535 non-null  object\n",
      " 1   StateTerritory                                258535 non-null  object\n",
      " 2   GeographicUnit                                258535 non-null  object\n",
      " 3   GeographicCode                                258535 non-null  object\n",
      " 4   GeographicAreaName                            258535 non-null  object\n",
      " 5   GeographicGroup                               258535 non-null  object\n",
      " 6   ServiceLevel                                  258535 non-null  object\n",
      " 7   Service                                       258535 non-null  object\n",
      " 8   DemographicGroup                              258535 non-null  object\n",
      " 9   Medicare benefits per 100 people ($)          258535 non-null  object\n",
      " 10  No. of patients                               258535 non-null  object\n",
      " 11  No. of services                               258535 non-null  object\n",
      " 12  Percentage of people who had the service (%)  258535 non-null  object\n",
      " 13  Services per 100 people                       258535 non-null  object\n",
      " 14  Total Medicare benefits paid ($)              258535 non-null  object\n",
      " 15  Total provider fees ($)                       258535 non-null  object\n",
      " 16  Estimated resident population                 258505 non-null  Int64 \n",
      "dtypes: Int64(1), object(16)\n",
      "memory usage: 33.8+ MB\n"
     ]
    }
   ],
   "source": [
    "df_mbs_combined_201322.info()"
   ]
  },
  {
   "cell_type": "markdown",
   "metadata": {},
   "source": [
    "##### 3.3.1 Dimensions Values"
   ]
  },
  {
   "cell_type": "code",
   "execution_count": 850,
   "metadata": {},
   "outputs": [
    {
     "data": {
      "text/plain": [
       "2021-22    28964\n",
       "2013-14    28718\n",
       "2014-15    28718\n",
       "2015-16    28718\n",
       "2016-17    28718\n",
       "2017-18    28718\n",
       "2018-19    28718\n",
       "2020-21    28639\n",
       "2019-20    28624\n",
       "Name: Year, dtype: int64"
      ]
     },
     "execution_count": 850,
     "metadata": {},
     "output_type": "execute_result"
    }
   ],
   "source": [
    "# checking for unique values of Year to identify any unusual or blank years\n",
    "df_mbs_combined_201322[\"Year\"].value_counts(dropna=False)"
   ]
  },
  {
   "cell_type": "markdown",
   "metadata": {},
   "source": [
    "Differences in number of records per year relates to new SA3 levels being introducted"
   ]
  },
  {
   "cell_type": "code",
   "execution_count": 851,
   "metadata": {},
   "outputs": [
    {
     "data": {
      "text/plain": [
       "NSW                  68503\n",
       "Qld                  61334\n",
       "Vic                  49367\n",
       "WA                   25414\n",
       "SA                   20941\n",
       "Tas                  11210\n",
       "ACT                   7480\n",
       "NT                    6721\n",
       "National-SA3Group     4488\n",
       "Other Territories     2827\n",
       "National               250\n",
       "Name: StateTerritory, dtype: int64"
      ]
     },
     "execution_count": 851,
     "metadata": {},
     "output_type": "execute_result"
    }
   ],
   "source": [
    "df_mbs_combined_201322[\"StateTerritory\"].value_counts(dropna=False)"
   ]
  },
  {
   "cell_type": "markdown",
   "metadata": {},
   "source": [
    "No blanks found. Missing values was identified and prepoulated with 'National-SA3Group' before pivoting the tables."
   ]
  },
  {
   "cell_type": "code",
   "execution_count": 852,
   "metadata": {},
   "outputs": [
    {
     "data": {
      "text/plain": [
       "SA3    258285\n",
       "NAT       250\n",
       "Name: GeographicUnit, dtype: int64"
      ]
     },
     "execution_count": 852,
     "metadata": {},
     "output_type": "execute_result"
    }
   ],
   "source": [
    "# checking if GeographicUnit is value and relevance\n",
    "df_mbs_combined_201322[\"GeographicUnit\"].value_counts(dropna=False)"
   ]
  },
  {
   "cell_type": "code",
   "execution_count": 853,
   "metadata": {},
   "outputs": [
    {
     "data": {
      "text/plain": [
       "GeographicUnit  GeographicCode\n",
       "SA3             30302             748\n",
       "                31901             748\n",
       "                31202             748\n",
       "                31201             748\n",
       "                31106             748\n",
       "                                 ... \n",
       "                90101             691\n",
       "                10803             691\n",
       "                90102             668\n",
       "                12402             498\n",
       "NAT             001NAT            250\n",
       "Length: 347, dtype: int64"
      ]
     },
     "execution_count": 853,
     "metadata": {},
     "output_type": "execute_result"
    }
   ],
   "source": [
    "# investigationg 'NAT' to check if GeographicUnit can be dropped\n",
    "df_mbs_combined_201322[[\"GeographicUnit\", \"GeographicCode\"]].value_counts(dropna=False)"
   ]
  },
  {
   "cell_type": "markdown",
   "metadata": {},
   "source": [
    "GeographicUnit column is not required. National number can be identified using GeographicCode=001NAT or StateTerritory = National. The column will be dropped"
   ]
  },
  {
   "cell_type": "code",
   "execution_count": 854,
   "metadata": {},
   "outputs": [
    {
     "data": {
      "text/plain": [
       "Belconnen                     748\n",
       "Brighton                      748\n",
       "Limestone Coast               748\n",
       "Fleurieu - Kangaroo Island    748\n",
       "Outback - North and East      748\n",
       "                             ... \n",
       "Lord Howe Island              691\n",
       "Christmas Island              691\n",
       "Cocos (Keeling) Islands       668\n",
       "Blue Mountains - South        498\n",
       "National                      250\n",
       "Name: GeographicAreaName, Length: 347, dtype: int64"
      ]
     },
     "execution_count": 854,
     "metadata": {},
     "output_type": "execute_result"
    }
   ],
   "source": [
    "# to view the full list of area names to ensure there are no blanks\n",
    "geographicAreaName_list = df_mbs_combined_201322[\"GeographicAreaName\"].value_counts(\n",
    "    dropna=False\n",
    ")\n",
    "geographicAreaName_list"
   ]
  },
  {
   "cell_type": "markdown",
   "metadata": {},
   "source": [
    "No missing values found for GeographicAreaName"
   ]
  },
  {
   "cell_type": "code",
   "execution_count": 855,
   "metadata": {},
   "outputs": [
    {
     "data": {
      "text/plain": [
       "Major cities - medium SES     70305\n",
       "Inner regional                62083\n",
       "Major cities - higher SES     37399\n",
       "Major cities - lower SES      36652\n",
       "Outer regional                32897\n",
       "Remote (incl. very remote)    17703\n",
       "Ungrouped                      1246\n",
       "National                        250\n",
       "Name: GeographicGroup, dtype: int64"
      ]
     },
     "execution_count": 855,
     "metadata": {},
     "output_type": "execute_result"
    }
   ],
   "source": [
    "df_mbs_combined_201322[\"GeographicGroup\"].value_counts(dropna=False)"
   ]
  },
  {
   "cell_type": "code",
   "execution_count": 856,
   "metadata": {},
   "outputs": [
    {
     "data": {
      "text/plain": [
       "GeographicAreaName           Year   \n",
       "Illawarra Catchment Reserve  2021-22    84\n",
       "Blue Mountains - South       2013-14    83\n",
       "                             2014-15    83\n",
       "                             2015-16    83\n",
       "                             2016-17    83\n",
       "                             2017-18    83\n",
       "                             2018-19    83\n",
       "Illawarra Catchment Reserve  2013-14    83\n",
       "                             2014-15    83\n",
       "                             2015-16    83\n",
       "                             2016-17    83\n",
       "                             2017-18    83\n",
       "                             2018-19    83\n",
       "                             2019-20    83\n",
       "                             2020-21    83\n",
       "dtype: int64"
      ]
     },
     "execution_count": 856,
     "metadata": {},
     "output_type": "execute_result"
    }
   ],
   "source": [
    "# Investigating 'ungrouped' areas.\n",
    "gg_ungrouped = df_mbs_combined_201322[\n",
    "    df_mbs_combined_201322[\"GeographicGroup\"] == \"Ungrouped\"\n",
    "]\n",
    "gg_ungrouped[[\"GeographicAreaName\", \"Year\"]].value_counts(dropna=False)"
   ]
  },
  {
   "cell_type": "markdown",
   "metadata": {},
   "source": [
    "No missing values in GeographicGroup. There 2 geographic areas that are not assigned SA3 Group. These areas ('Illawarra Catchment Reserve' and 'Blue Mountains - South') have less than 10 people. Its does not fall under any definiations of SA3 Groups"
   ]
  },
  {
   "cell_type": "code",
   "execution_count": 857,
   "metadata": {},
   "outputs": [
    {
     "data": {
      "text/plain": [
       "Level 3    124642\n",
       "Level 1    108990\n",
       "Level 2     24903\n",
       "Name: ServiceLevel, dtype: int64"
      ]
     },
     "execution_count": 857,
     "metadata": {},
     "output_type": "execute_result"
    }
   ],
   "source": [
    "df_mbs_combined_201322[\"ServiceLevel\"].value_counts(dropna=False)"
   ]
  },
  {
   "cell_type": "markdown",
   "metadata": {},
   "source": [
    "No misisng GeographicGroup. Level values are as expected"
   ]
  },
  {
   "cell_type": "code",
   "execution_count": 858,
   "metadata": {},
   "outputs": [
    {
     "data": {
      "text/plain": [
       "Allied Health attendances (total)                                21798\n",
       "GP attendances (total)                                           21798\n",
       "Nursing and Aboriginal Health Workers (total)                    21798\n",
       "Specialist attendances (total)                                   21798\n",
       "Diagnostic Imaging (total)                                       21798\n",
       "GP After-hours (non-urgent)                                       3114\n",
       "Practice Nurse/Aboriginal Health Worker                           3114\n",
       "Other Non-referred Medical Practitioner attendances               3114\n",
       "GP Standard (Level B)                                             3114\n",
       "GP Short (Level A)                                                3114\n",
       "GP Prolonged (Level D)                                            3114\n",
       "GP Mental Health                                                  3114\n",
       "GP Long (Level C)                                                 3114\n",
       "GP Chronic Disease Management Plan                                3114\n",
       "GP subtotal - After-hours                                         3114\n",
       "Allied Health subtotal - Mental Health Care                       3114\n",
       "Allied Health subtotal - Optometry                                3114\n",
       "GP subtotal - Enhanced Primary Care                               3114\n",
       "GP subtotal - Other                                               3114\n",
       "GP Health Assessment                                              3113\n",
       "Clinical Psychologist                                             3113\n",
       "Other Psychologist                                                3113\n",
       "GP After-hours (urgent)                                           3113\n",
       "Allied Health subtotal - Other                                    3112\n",
       "Allied Health subtotal - Physical Health Care                     3112\n",
       "Podiatry                                                          3111\n",
       "Physiotherapy                                                     3111\n",
       "Nurse Practitioners                                               3111\n",
       "Psychiatry                                                        3111\n",
       "GP subtotal - PIP                                                 3109\n",
       "Diabetes Mellitus Annual Cycle of Care PIP                        3109\n",
       "Medication Management Review (domiciliary)                        3108\n",
       "Dietetics                                                         3108\n",
       "GP Prolonged - Imminent danger of death                           3108\n",
       "Chiropractic Services                                             3107\n",
       "Exercise Physiology                                               3107\n",
       "Other Allied Mental Health                                        3106\n",
       "Medication Management Review (residential)                        3106\n",
       "Midwifery                                                         3106\n",
       "GP Multidisciplinary Case Conference                              3106\n",
       "Other Allied Health                                               3105\n",
       "Cervical Smear PIP                                                3105\n",
       "GP Pregnancy Support Counselling                                  3105\n",
       "Osteopathy                                                        3104\n",
       "Asthma Cycle of Care PIP                                          3103\n",
       "Diabetes Education                                                3103\n",
       "GP Acupuncture                                                    3102\n",
       "Speech Pathology                                                  3100\n",
       "Occupational Therapy                                              3100\n",
       "GP Telehealth (patient-end support)                               3097\n",
       "Audiology                                                         3096\n",
       "Early Intervention Services for Children                          3093\n",
       "GP Focussed Psychological Strategies and Family Group Therapy     3091\n",
       "Other GP Services                                                  345\n",
       "Name: Service, dtype: int64"
      ]
     },
     "execution_count": 858,
     "metadata": {},
     "output_type": "execute_result"
    }
   ],
   "source": [
    "df_mbs_combined_201322[\"Service\"].value_counts(dropna=False)"
   ]
  },
  {
   "cell_type": "markdown",
   "metadata": {},
   "source": [
    "No missing values in Services"
   ]
  },
  {
   "cell_type": "code",
   "execution_count": 859,
   "metadata": {},
   "outputs": [
    {
     "data": {
      "text/plain": [
       "All persons    165115\n",
       "0-24            15570\n",
       "25-44           15570\n",
       "45-64           15570\n",
       "65+             15570\n",
       "Females         10380\n",
       "Males           10380\n",
       "F                5190\n",
       "M                5190\n",
       "Name: DemographicGroup, dtype: int64"
      ]
     },
     "execution_count": 859,
     "metadata": {},
     "output_type": "execute_result"
    }
   ],
   "source": [
    "df_mbs_combined_201322[\"DemographicGroup\"].value_counts(dropna=False)"
   ]
  },
  {
   "cell_type": "markdown",
   "metadata": {},
   "source": [
    "No missing Demographic Group values. Datasets 2013-19 have gender as 'Females' and 'Males'. Datasets 2019-21 and 2021-22 have gender set as 'F' and 'M'. To standardize for analaysis, converting the 'F' to 'Females' and 'M' to 'Males'"
   ]
  },
  {
   "cell_type": "code",
   "execution_count": 860,
   "metadata": {},
   "outputs": [
    {
     "data": {
      "text/plain": [
       "All persons    165115\n",
       "0-24            15570\n",
       "25-44           15570\n",
       "45-64           15570\n",
       "65+             15570\n",
       "Females         15570\n",
       "Males           15570\n",
       "Name: DemographicGroup, dtype: int64"
      ]
     },
     "execution_count": 860,
     "metadata": {},
     "output_type": "execute_result"
    }
   ],
   "source": [
    "# replacing the M to Males and F to Females to make gender values consistent in the DemographicGroup column.\n",
    "df_mbs_combined_201322[\"DemographicGroup\"] = df_mbs_combined_201322[\n",
    "    \"DemographicGroup\"\n",
    "].replace({\"M\": \"Males\", \"F\": \"Females\"})\n",
    "df_mbs_combined_201322[\"DemographicGroup\"].value_counts()"
   ]
  },
  {
   "cell_type": "markdown",
   "metadata": {},
   "source": [
    "##### 3.3.2 Measure Values"
   ]
  },
  {
   "cell_type": "markdown",
   "metadata": {},
   "source": [
    "Measure values have Not Published data. To handle not publish data, function is created to set them has NaN so panda functions can recognise them as unavailable"
   ]
  },
  {
   "cell_type": "code",
   "execution_count": 861,
   "metadata": {},
   "outputs": [],
   "source": [
    "# setting up function to convert any non published values (n.p or n.p.) to NaN for analysis. Not published values are suppressed or blank values\n",
    "def set_np_to_NaN(dataframe, column_name):\n",
    "    # replacing the n.p with np values first.\n",
    "    dataframe.loc[\n",
    "        dataframe[column_name].str.startswith(\"n.p\", na=False), column_name\n",
    "    ] = \"np\"\n",
    "\n",
    "    # replacing np with np.nan\n",
    "    dataframe[column_name] = dataframe[column_name].replace(\"np\", np.nan)\n",
    "    return dataframe"
   ]
  },
  {
   "cell_type": "code",
   "execution_count": 862,
   "metadata": {},
   "outputs": [
    {
     "data": {
      "text/plain": [
       "n.p             18362\n",
       "n.p.             3545\n",
       "n.p.             2327\n",
       "10.0              831\n",
       "14.0              831\n",
       "                ...  \n",
       "12066.44            1\n",
       "13151.04            1\n",
       "10850.78            1\n",
       "3270.35             1\n",
       "660.86              1\n",
       "Name: Medicare benefits per 100 people ($), Length: 94833, dtype: int64"
      ]
     },
     "execution_count": 862,
     "metadata": {},
     "output_type": "execute_result"
    }
   ],
   "source": [
    "df_mbs_combined_201322[\"Medicare benefits per 100 people ($)\"].value_counts(\n",
    "    dropna=False\n",
    ")"
   ]
  },
  {
   "cell_type": "markdown",
   "metadata": {},
   "source": [
    "There is total of 24,234 (9.37%) not published or blank values. To standarsize it, different variations of n.p will be updated to nan so other panda functions dectect and skip the row."
   ]
  },
  {
   "cell_type": "code",
   "execution_count": 863,
   "metadata": {},
   "outputs": [],
   "source": [
    "# investigating what years / locations are affected by n.p values and if consistent year on year.\n",
    "df_mbs_combined_201322[\"Medicare benefits per 100 people ($)\"] = df_mbs_combined_201322[\n",
    "    \"Medicare benefits per 100 people ($)\"\n",
    "].astype(\"str\")\n",
    "np_values = df_mbs_combined_201322[\n",
    "    df_mbs_combined_201322[\"Medicare benefits per 100 people ($)\"].str.startswith(\"n.p\")\n",
    "]\n",
    "\n",
    "# dataframe counting np rows by year and geographic areas\n",
    "year_gg_np_values = np_values[[\"Year\", \"GeographicAreaName\"]].value_counts(dropna=False)"
   ]
  },
  {
   "cell_type": "code",
   "execution_count": 864,
   "metadata": {},
   "outputs": [
    {
     "data": {
      "text/plain": [
       "NaN         24234\n",
       "10.0          831\n",
       "14.0          831\n",
       "16.0          809\n",
       "15.0          807\n",
       "            ...  \n",
       "12066.44        1\n",
       "13151.04        1\n",
       "10850.78        1\n",
       "3270.35         1\n",
       "660.86          1\n",
       "Name: Medicare benefits per 100 people ($), Length: 94831, dtype: int64"
      ]
     },
     "execution_count": 864,
     "metadata": {},
     "output_type": "execute_result"
    }
   ],
   "source": [
    "# replacing the n.p with NaN.\n",
    "df_mbs_combined_201322 = set_np_to_NaN(\n",
    "    df_mbs_combined_201322, \"Medicare benefits per 100 people ($)\"\n",
    ")\n",
    "df_mbs_combined_201322[\"Medicare benefits per 100 people ($)\"].value_counts(\n",
    "    dropna=False\n",
    ")"
   ]
  },
  {
   "cell_type": "code",
   "execution_count": 865,
   "metadata": {},
   "outputs": [],
   "source": [
    "# casting the value to be float. Removing $ and , before casting\n",
    "df_mbs_combined_201322[\"Medicare benefits per 100 people ($)\"] = (\n",
    "    df_mbs_combined_201322[\"Medicare benefits per 100 people ($)\"]\n",
    "    .str.strip()\n",
    "    .str.replace(\",\", \"\")\n",
    "    .astype(\"float\")\n",
    ")"
   ]
  },
  {
   "cell_type": "code",
   "execution_count": 866,
   "metadata": {},
   "outputs": [
    {
     "data": {
      "text/plain": [
       "dtype('float64')"
      ]
     },
     "execution_count": 866,
     "metadata": {},
     "output_type": "execute_result"
    }
   ],
   "source": [
    "df_mbs_combined_201322[\"Medicare benefits per 100 people ($)\"].dtype"
   ]
  },
  {
   "cell_type": "code",
   "execution_count": 867,
   "metadata": {},
   "outputs": [
    {
     "data": {
      "text/plain": [
       "count    234301.000000\n",
       "mean       6546.570367\n",
       "std       11229.591164\n",
       "min           0.000000\n",
       "25%          97.000000\n",
       "50%        1146.110000\n",
       "75%        7662.810000\n",
       "max      110280.550000\n",
       "Name: Medicare benefits per 100 people ($), dtype: float64"
      ]
     },
     "execution_count": 867,
     "metadata": {},
     "output_type": "execute_result"
    }
   ],
   "source": [
    "df_mbs_combined_201322[\"Medicare benefits per 100 people ($)\"].describe()"
   ]
  },
  {
   "cell_type": "code",
   "execution_count": 868,
   "metadata": {},
   "outputs": [
    {
     "data": {
      "text/plain": [
       "NaN        24234\n",
       "10.00        833\n",
       "14.00        832\n",
       "16.00        813\n",
       "15.00        810\n",
       "           ...  \n",
       "5849.47        1\n",
       "1139.59        1\n",
       "876.39         1\n",
       "311.01         1\n",
       "660.86         1\n",
       "Name: Medicare benefits per 100 people ($), Length: 94134, dtype: int64"
      ]
     },
     "execution_count": 868,
     "metadata": {},
     "output_type": "execute_result"
    }
   ],
   "source": [
    "df_mbs_combined_201322[\"Medicare benefits per 100 people ($)\"].value_counts(\n",
    "    dropna=False\n",
    ")"
   ]
  },
  {
   "cell_type": "code",
   "execution_count": 869,
   "metadata": {},
   "outputs": [
    {
     "data": {
      "text/plain": [
       "n.p             18362\n",
       "n.p.             3545\n",
       "n.p.             2327\n",
       "0.0               331\n",
       "21.0              250\n",
       "                ...  \n",
       "25929.0             1\n",
       "24667.0             1\n",
       "22864.0             1\n",
       "36211.0             1\n",
       "       5,139        1\n",
       "Name: No. of patients, Length: 69679, dtype: int64"
      ]
     },
     "execution_count": 869,
     "metadata": {},
     "output_type": "execute_result"
    }
   ],
   "source": [
    "df_mbs_combined_201322[\"No. of patients\"].value_counts(dropna=False)"
   ]
  },
  {
   "cell_type": "markdown",
   "metadata": {},
   "source": [
    "There is total of 24,234 (9.37%) not published or blank values. To standarsize it, different variations of n.p will be updated to NaN so other panda functions dectect and skip the row."
   ]
  },
  {
   "cell_type": "code",
   "execution_count": 870,
   "metadata": {},
   "outputs": [
    {
     "data": {
      "text/plain": [
       "NaN             24234\n",
       "0.0               331\n",
       "21.0              250\n",
       "24.0              248\n",
       "26.0              237\n",
       "                ...  \n",
       "12798.0             1\n",
       "25929.0             1\n",
       "24667.0             1\n",
       "22864.0             1\n",
       "       5,139        1\n",
       "Name: No. of patients, Length: 69677, dtype: int64"
      ]
     },
     "execution_count": 870,
     "metadata": {},
     "output_type": "execute_result"
    }
   ],
   "source": [
    "# replacing the n.p with NaN values first.\n",
    "df_mbs_combined_201322 = set_np_to_NaN(df_mbs_combined_201322, \"No. of patients\")\n",
    "df_mbs_combined_201322[\"No. of patients\"].value_counts(dropna=False)"
   ]
  },
  {
   "cell_type": "code",
   "execution_count": 871,
   "metadata": {},
   "outputs": [],
   "source": [
    "# casting the value to be float. Removing $ and , before casting\n",
    "df_mbs_combined_201322[\"No. of patients\"] = (\n",
    "    df_mbs_combined_201322[\"No. of patients\"]\n",
    "    .str.strip()\n",
    "    .str.replace(\",\", \"\")\n",
    "    .astype(\"float\")\n",
    ")"
   ]
  },
  {
   "cell_type": "code",
   "execution_count": 872,
   "metadata": {},
   "outputs": [
    {
     "data": {
      "text/plain": [
       "count    2.343010e+05\n",
       "mean     2.172532e+04\n",
       "std      2.288474e+05\n",
       "min      0.000000e+00\n",
       "25%      5.210000e+02\n",
       "50%      3.290000e+03\n",
       "75%      1.110100e+04\n",
       "max      2.309965e+07\n",
       "Name: No. of patients, dtype: float64"
      ]
     },
     "execution_count": 872,
     "metadata": {},
     "output_type": "execute_result"
    }
   ],
   "source": [
    "df_mbs_combined_201322[\"No. of patients\"].describe()"
   ]
  },
  {
   "cell_type": "code",
   "execution_count": 873,
   "metadata": {},
   "outputs": [],
   "source": [
    "# casting it to be integer as decimal points are not required for whole patient\n",
    "df_mbs_combined_201322[\"No. of patients\"] = df_mbs_combined_201322[\n",
    "    \"No. of patients\"\n",
    "].astype(\"Int32\")"
   ]
  },
  {
   "cell_type": "code",
   "execution_count": 874,
   "metadata": {},
   "outputs": [
    {
     "data": {
      "text/plain": [
       "Year                                             object\n",
       "StateTerritory                                   object\n",
       "GeographicUnit                                   object\n",
       "GeographicCode                                   object\n",
       "GeographicAreaName                               object\n",
       "GeographicGroup                                  object\n",
       "ServiceLevel                                     object\n",
       "Service                                          object\n",
       "DemographicGroup                                 object\n",
       "Medicare benefits per 100 people ($)            float64\n",
       "No. of patients                                   Int32\n",
       "No. of services                                  object\n",
       "Percentage of people who had the service (%)     object\n",
       "Services per 100 people                          object\n",
       "Total Medicare benefits paid ($)                 object\n",
       "Total provider fees ($)                          object\n",
       "Estimated resident population                     Int64\n",
       "dtype: object"
      ]
     },
     "execution_count": 874,
     "metadata": {},
     "output_type": "execute_result"
    }
   ],
   "source": [
    "df_mbs_combined_201322.dtypes"
   ]
  },
  {
   "cell_type": "code",
   "execution_count": 875,
   "metadata": {},
   "outputs": [
    {
     "data": {
      "text/plain": [
       "n.p             18362\n",
       "n.p.             3545\n",
       "n.p.             2327\n",
       "0.0               331\n",
       "21.0              169\n",
       "                ...  \n",
       "103721.0            1\n",
       "25973.0             1\n",
       "36077.0             1\n",
       "14880.0             1\n",
       "       8,167        1\n",
       "Name: No. of services, Length: 105043, dtype: int64"
      ]
     },
     "execution_count": 875,
     "metadata": {},
     "output_type": "execute_result"
    }
   ],
   "source": [
    "df_mbs_combined_201322[\"No. of services\"].value_counts(dropna=False)"
   ]
  },
  {
   "cell_type": "markdown",
   "metadata": {},
   "source": [
    "There is total of 24,234 (9.37%) not published or blank values. To standarsize it, different variations of n.p will be updated to NaN so other panda functions dectect and skip the row."
   ]
  },
  {
   "cell_type": "code",
   "execution_count": 876,
   "metadata": {},
   "outputs": [
    {
     "data": {
      "text/plain": [
       "NaN             24234\n",
       "0.0               331\n",
       "21.0              169\n",
       "28.0              167\n",
       "26.0              163\n",
       "                ...  \n",
       "103721.0            1\n",
       "25973.0             1\n",
       "36077.0             1\n",
       "14880.0             1\n",
       "       8,167        1\n",
       "Name: No. of services, Length: 105041, dtype: int64"
      ]
     },
     "execution_count": 876,
     "metadata": {},
     "output_type": "execute_result"
    }
   ],
   "source": [
    "df_mbs_combined_201322 = set_np_to_NaN(df_mbs_combined_201322, \"No. of services\")\n",
    "df_mbs_combined_201322[\"No. of services\"].value_counts(dropna=False)"
   ]
  },
  {
   "cell_type": "code",
   "execution_count": 877,
   "metadata": {},
   "outputs": [],
   "source": [
    "# casting the value to be float. Removing spances and , first\n",
    "df_mbs_combined_201322[\"No. of services\"] = (\n",
    "    df_mbs_combined_201322[\"No. of services\"]\n",
    "    .str.strip()\n",
    "    .str.replace(\",\", \"\")\n",
    "    .astype(\"float\")\n",
    ")"
   ]
  },
  {
   "cell_type": "code",
   "execution_count": 878,
   "metadata": {},
   "outputs": [
    {
     "data": {
      "text/plain": [
       "count    2.343010e+05\n",
       "mean     9.341582e+04\n",
       "std      1.353283e+06\n",
       "min     -1.020000e+02\n",
       "25%      1.063000e+03\n",
       "50%      7.721000e+03\n",
       "75%      3.079400e+04\n",
       "max      1.886940e+08\n",
       "Name: No. of services, dtype: float64"
      ]
     },
     "execution_count": 878,
     "metadata": {},
     "output_type": "execute_result"
    }
   ],
   "source": [
    "df_mbs_combined_201322[\"No. of services\"].describe()"
   ]
  },
  {
   "cell_type": "code",
   "execution_count": 879,
   "metadata": {},
   "outputs": [],
   "source": [
    "# casting it to be integer as decimal points are not required to represent services.\n",
    "df_mbs_combined_201322[\"No. of services\"] = df_mbs_combined_201322[\n",
    "    \"No. of services\"\n",
    "].astype(\"Int64\")"
   ]
  },
  {
   "cell_type": "code",
   "execution_count": 880,
   "metadata": {},
   "outputs": [
    {
     "name": "stdout",
     "output_type": "stream",
     "text": [
      "<class 'pandas.core.frame.DataFrame'>\n",
      "RangeIndex: 258535 entries, 0 to 258534\n",
      "Data columns (total 17 columns):\n",
      " #   Column                                        Non-Null Count   Dtype  \n",
      "---  ------                                        --------------   -----  \n",
      " 0   Year                                          258535 non-null  object \n",
      " 1   StateTerritory                                258535 non-null  object \n",
      " 2   GeographicUnit                                258535 non-null  object \n",
      " 3   GeographicCode                                258535 non-null  object \n",
      " 4   GeographicAreaName                            258535 non-null  object \n",
      " 5   GeographicGroup                               258535 non-null  object \n",
      " 6   ServiceLevel                                  258535 non-null  object \n",
      " 7   Service                                       258535 non-null  object \n",
      " 8   DemographicGroup                              258535 non-null  object \n",
      " 9   Medicare benefits per 100 people ($)          234301 non-null  float64\n",
      " 10  No. of patients                               234301 non-null  Int32  \n",
      " 11  No. of services                               234301 non-null  Int64  \n",
      " 12  Percentage of people who had the service (%)  258535 non-null  object \n",
      " 13  Services per 100 people                       258535 non-null  object \n",
      " 14  Total Medicare benefits paid ($)              258535 non-null  object \n",
      " 15  Total provider fees ($)                       258535 non-null  object \n",
      " 16  Estimated resident population                 258505 non-null  Int64  \n",
      "dtypes: Int32(1), Int64(2), float64(1), object(13)\n",
      "memory usage: 33.3+ MB\n"
     ]
    }
   ],
   "source": [
    "df_mbs_combined_201322.info()"
   ]
  },
  {
   "cell_type": "code",
   "execution_count": 881,
   "metadata": {},
   "outputs": [
    {
     "data": {
      "text/plain": [
       "n.p             18362\n",
       "n.p.             3545\n",
       "n.p.             2327\n",
       "0.04             1702\n",
       "0.06             1679\n",
       "                ...  \n",
       "     63.44%         1\n",
       "     95.57%         1\n",
       "     86.29%         1\n",
       "     92.19%         1\n",
       "     72.62%         1\n",
       "Name: Percentage of people who had the service (%), Length: 16953, dtype: int64"
      ]
     },
     "execution_count": 881,
     "metadata": {},
     "output_type": "execute_result"
    }
   ],
   "source": [
    "df_mbs_combined_201322[\"Percentage of people who had the service (%)\"].value_counts(\n",
    "    dropna=False\n",
    ")"
   ]
  },
  {
   "cell_type": "code",
   "execution_count": 882,
   "metadata": {},
   "outputs": [
    {
     "data": {
      "text/plain": [
       "NaN             24234\n",
       "0.04             1702\n",
       "0.06             1679\n",
       "0.05             1651\n",
       "0.03             1549\n",
       "                ...  \n",
       "     42.08%         1\n",
       "     61.97%         1\n",
       "     16.93%         1\n",
       "     95.74%         1\n",
       "     72.62%         1\n",
       "Name: Percentage of people who had the service (%), Length: 16951, dtype: int64"
      ]
     },
     "execution_count": 882,
     "metadata": {},
     "output_type": "execute_result"
    }
   ],
   "source": [
    "df_mbs_combined_201322 = set_np_to_NaN(\n",
    "    df_mbs_combined_201322, \"Percentage of people who had the service (%)\"\n",
    ")\n",
    "df_mbs_combined_201322[\"Percentage of people who had the service (%)\"].value_counts(\n",
    "    dropna=False\n",
    ")"
   ]
  },
  {
   "cell_type": "code",
   "execution_count": 883,
   "metadata": {},
   "outputs": [],
   "source": [
    "# casting the value to be float. Removing spances and , first\n",
    "df_mbs_combined_201322[\"Percentage of people who had the service (%)\"] = (\n",
    "    df_mbs_combined_201322[\"Percentage of people who had the service (%)\"]\n",
    "    .str.strip()\n",
    "    .str.replace(\"%\", \"\")\n",
    "    .astype(\"float16\")\n",
    ")"
   ]
  },
  {
   "cell_type": "code",
   "execution_count": 884,
   "metadata": {},
   "outputs": [
    {
     "data": {
      "text/plain": [
       "count    234301.000000\n",
       "mean               NaN\n",
       "std           0.000000\n",
       "min           0.000000\n",
       "25%           1.110352\n",
       "50%           8.992188\n",
       "75%          35.687500\n",
       "max         100.000000\n",
       "Name: Percentage of people who had the service (%), dtype: float64"
      ]
     },
     "execution_count": 884,
     "metadata": {},
     "output_type": "execute_result"
    }
   ],
   "source": [
    "df_mbs_combined_201322[\"Percentage of people who had the service (%)\"].describe()"
   ]
  },
  {
   "cell_type": "code",
   "execution_count": 885,
   "metadata": {},
   "outputs": [
    {
     "data": {
      "text/plain": [
       "n.p             18362\n",
       "n.p.             3545\n",
       "n.p.             2327\n",
       "0.06             1152\n",
       "0.04             1135\n",
       "                ...  \n",
       "481.51              1\n",
       "57.61               1\n",
       "334.92              1\n",
       "484.65              1\n",
       "471.04              1\n",
       "Name: Services per 100 people, Length: 43007, dtype: int64"
      ]
     },
     "execution_count": 885,
     "metadata": {},
     "output_type": "execute_result"
    }
   ],
   "source": [
    "df_mbs_combined_201322[\"Services per 100 people\"].value_counts(dropna=False)"
   ]
  },
  {
   "cell_type": "code",
   "execution_count": 886,
   "metadata": {},
   "outputs": [
    {
     "data": {
      "text/plain": [
       "NaN       24234\n",
       "0.06       1152\n",
       "0.04       1135\n",
       "0.05       1084\n",
       "0.07       1033\n",
       "          ...  \n",
       "264.68        1\n",
       "387.41        1\n",
       "510.33        1\n",
       "449.4         1\n",
       "471.04        1\n",
       "Name: Services per 100 people, Length: 43005, dtype: int64"
      ]
     },
     "execution_count": 886,
     "metadata": {},
     "output_type": "execute_result"
    }
   ],
   "source": [
    "df_mbs_combined_201322 = set_np_to_NaN(\n",
    "    df_mbs_combined_201322, \"Services per 100 people\"\n",
    ")\n",
    "df_mbs_combined_201322[\"Services per 100 people\"].value_counts(dropna=False)"
   ]
  },
  {
   "cell_type": "code",
   "execution_count": 887,
   "metadata": {},
   "outputs": [],
   "source": [
    "# casting the value to be float. Removing spances and , first\n",
    "df_mbs_combined_201322[\"Services per 100 people\"] = (\n",
    "    df_mbs_combined_201322[\"Services per 100 people\"]\n",
    "    .str.strip()\n",
    "    .str.replace(\",\", \"\")\n",
    "    .astype(\"float\")\n",
    ")"
   ]
  },
  {
   "cell_type": "code",
   "execution_count": 888,
   "metadata": {},
   "outputs": [
    {
     "data": {
      "text/plain": [
       "dtype('float64')"
      ]
     },
     "execution_count": 888,
     "metadata": {},
     "output_type": "execute_result"
    }
   ],
   "source": [
    "df_mbs_combined_201322[\"Services per 100 people\"].dtype"
   ]
  },
  {
   "cell_type": "code",
   "execution_count": 889,
   "metadata": {},
   "outputs": [
    {
     "data": {
      "text/plain": [
       "count    234301.00000\n",
       "mean        104.48140\n",
       "std         208.22682\n",
       "min          -0.34000\n",
       "25%           2.17000\n",
       "50%          19.43000\n",
       "75%          91.07000\n",
       "max        2041.20000\n",
       "Name: Services per 100 people, dtype: float64"
      ]
     },
     "execution_count": 889,
     "metadata": {},
     "output_type": "execute_result"
    }
   ],
   "source": [
    "df_mbs_combined_201322[\"Services per 100 people\"].describe()"
   ]
  },
  {
   "cell_type": "code",
   "execution_count": 905,
   "metadata": {},
   "outputs": [
    {
     "data": {
      "text/html": [
       "<div>\n",
       "<style scoped>\n",
       "    .dataframe tbody tr th:only-of-type {\n",
       "        vertical-align: middle;\n",
       "    }\n",
       "\n",
       "    .dataframe tbody tr th {\n",
       "        vertical-align: top;\n",
       "    }\n",
       "\n",
       "    .dataframe thead th {\n",
       "        text-align: right;\n",
       "    }\n",
       "</style>\n",
       "<table border=\"1\" class=\"dataframe\">\n",
       "  <thead>\n",
       "    <tr style=\"text-align: right;\">\n",
       "      <th></th>\n",
       "      <th>Year</th>\n",
       "      <th>StateTerritory</th>\n",
       "      <th>GeographicCode</th>\n",
       "      <th>GeographicAreaName</th>\n",
       "      <th>GeographicGroup</th>\n",
       "      <th>ServiceLevel</th>\n",
       "      <th>Service</th>\n",
       "      <th>DemographicGroup</th>\n",
       "      <th>Medicare benefits per 100 people ($)</th>\n",
       "      <th>No. of patients</th>\n",
       "      <th>No. of services</th>\n",
       "      <th>Percentage of people who had the service (%)</th>\n",
       "      <th>Services per 100 people</th>\n",
       "      <th>Total Medicare benefits paid ($)</th>\n",
       "      <th>Total provider fees ($)</th>\n",
       "      <th>Estimated resident population</th>\n",
       "    </tr>\n",
       "  </thead>\n",
       "  <tbody>\n",
       "    <tr>\n",
       "      <th>159089</th>\n",
       "      <td>2018-19</td>\n",
       "      <td>Qld</td>\n",
       "      <td>31502</td>\n",
       "      <td>Outback - North</td>\n",
       "      <td>Remote (incl. very remote)</td>\n",
       "      <td>Level 3</td>\n",
       "      <td>GP Multidisciplinary Case Conference</td>\n",
       "      <td>All persons</td>\n",
       "      <td>5.0</td>\n",
       "      <td>183</td>\n",
       "      <td>-102</td>\n",
       "      <td>0.609863</td>\n",
       "      <td>-0.34</td>\n",
       "      <td>1548.0</td>\n",
       "      <td>1586.0</td>\n",
       "      <td>30139</td>\n",
       "    </tr>\n",
       "  </tbody>\n",
       "</table>\n",
       "</div>"
      ],
      "text/plain": [
       "           Year StateTerritory GeographicCode GeographicAreaName  \\\n",
       "159089  2018-19            Qld          31502    Outback - North   \n",
       "\n",
       "                   GeographicGroup ServiceLevel  \\\n",
       "159089  Remote (incl. very remote)      Level 3   \n",
       "\n",
       "                                     Service DemographicGroup  \\\n",
       "159089  GP Multidisciplinary Case Conference      All persons   \n",
       "\n",
       "        Medicare benefits per 100 people ($)  No. of patients  \\\n",
       "159089                                   5.0              183   \n",
       "\n",
       "        No. of services  Percentage of people who had the service (%)  \\\n",
       "159089             -102                                      0.609863   \n",
       "\n",
       "        Services per 100 people  Total Medicare benefits paid ($)  \\\n",
       "159089                    -0.34                            1548.0   \n",
       "\n",
       "        Total provider fees ($)  Estimated resident population  \n",
       "159089                   1586.0                          30139  "
      ]
     },
     "execution_count": 905,
     "metadata": {},
     "output_type": "execute_result"
    }
   ],
   "source": [
    "df_mbs_combined_201322[df_mbs_combined_201322[\"Services per 100 people\"] < 0]"
   ]
  },
  {
   "cell_type": "code",
   "execution_count": 890,
   "metadata": {},
   "outputs": [
    {
     "data": {
      "text/plain": [
       "n.p                 18362\n",
       "n.p.                 3545\n",
       "n.p.                 2327\n",
       "0.0                   331\n",
       "6471.0                  8\n",
       "                    ...  \n",
       "510815.0                1\n",
       "1246134.0               1\n",
       "167406.0                1\n",
       "202074.0                1\n",
       "        $378,567        1\n",
       "Name: Total Medicare benefits paid ($), Length: 214386, dtype: int64"
      ]
     },
     "execution_count": 890,
     "metadata": {},
     "output_type": "execute_result"
    }
   ],
   "source": [
    "df_mbs_combined_201322[\"Total Medicare benefits paid ($)\"].value_counts(dropna=False)"
   ]
  },
  {
   "cell_type": "code",
   "execution_count": 891,
   "metadata": {},
   "outputs": [
    {
     "data": {
      "text/plain": [
       "NaN                 24234\n",
       "0.0                   331\n",
       "6471.0                  8\n",
       "8569.0                  7\n",
       "2480.0                  7\n",
       "                    ...  \n",
       "43812.0                 1\n",
       "510815.0                1\n",
       "1246134.0               1\n",
       "167406.0                1\n",
       "        $378,567        1\n",
       "Name: Total Medicare benefits paid ($), Length: 214384, dtype: int64"
      ]
     },
     "execution_count": 891,
     "metadata": {},
     "output_type": "execute_result"
    }
   ],
   "source": [
    "df_mbs_combined_201322 = set_np_to_NaN(\n",
    "    df_mbs_combined_201322, \"Total Medicare benefits paid ($)\"\n",
    ")\n",
    "df_mbs_combined_201322[\"Total Medicare benefits paid ($)\"].value_counts(dropna=False)"
   ]
  },
  {
   "cell_type": "code",
   "execution_count": 892,
   "metadata": {},
   "outputs": [],
   "source": [
    "# casting the value to be float. Removing spaces, comma (,) and $ before casting\n",
    "df_mbs_combined_201322[\"Total Medicare benefits paid ($)\"] = (\n",
    "    df_mbs_combined_201322[\"Total Medicare benefits paid ($)\"]\n",
    "    .str.strip()\n",
    "    .str.replace(\",\", \"\")\n",
    "    .str.replace(\"[$,]\", \"\", regex=True)\n",
    "    .astype(\"float\")\n",
    ")"
   ]
  },
  {
   "cell_type": "code",
   "execution_count": 893,
   "metadata": {},
   "outputs": [
    {
     "data": {
      "text/plain": [
       "dtype('float64')"
      ]
     },
     "execution_count": 893,
     "metadata": {},
     "output_type": "execute_result"
    }
   ],
   "source": [
    "df_mbs_combined_201322[\"Total Medicare benefits paid ($)\"].dtype"
   ]
  },
  {
   "cell_type": "code",
   "execution_count": 894,
   "metadata": {},
   "outputs": [
    {
     "data": {
      "text/plain": [
       "count    2.343010e+05\n",
       "mean     5.642181e+06\n",
       "std      6.963072e+07\n",
       "min      0.000000e+00\n",
       "25%      4.743900e+04\n",
       "50%      5.376540e+05\n",
       "75%      2.486454e+06\n",
       "max      9.082284e+09\n",
       "Name: Total Medicare benefits paid ($), dtype: float64"
      ]
     },
     "execution_count": 894,
     "metadata": {},
     "output_type": "execute_result"
    }
   ],
   "source": [
    "df_mbs_combined_201322[\"Total Medicare benefits paid ($)\"].describe()"
   ]
  },
  {
   "cell_type": "code",
   "execution_count": 895,
   "metadata": {},
   "outputs": [
    {
     "data": {
      "text/plain": [
       "n.p                 18362\n",
       "n.p.                 3545\n",
       "n.p.                 2327\n",
       "0.0                   331\n",
       "21744.0                 8\n",
       "                    ...  \n",
       "1397507.0               1\n",
       "6808915.0               1\n",
       "3922965.0               1\n",
       "2885950.0               1\n",
       "        $567,161        1\n",
       "Name: Total provider fees ($), Length: 216251, dtype: int64"
      ]
     },
     "execution_count": 895,
     "metadata": {},
     "output_type": "execute_result"
    }
   ],
   "source": [
    "df_mbs_combined_201322[\"Total provider fees ($)\"].value_counts(dropna=False)"
   ]
  },
  {
   "cell_type": "code",
   "execution_count": 896,
   "metadata": {},
   "outputs": [
    {
     "data": {
      "text/plain": [
       "NaN                 24234\n",
       "0.0                   331\n",
       "21744.0                 8\n",
       "15853.0                 7\n",
       "10991.0                 7\n",
       "                    ...  \n",
       "1397507.0               1\n",
       "6808915.0               1\n",
       "3922965.0               1\n",
       "2885950.0               1\n",
       "        $567,161        1\n",
       "Name: Total provider fees ($), Length: 216249, dtype: int64"
      ]
     },
     "execution_count": 896,
     "metadata": {},
     "output_type": "execute_result"
    }
   ],
   "source": [
    "df_mbs_combined_201322 = set_np_to_NaN(\n",
    "    df_mbs_combined_201322, \"Total provider fees ($)\"\n",
    ")\n",
    "df_mbs_combined_201322[\"Total provider fees ($)\"].value_counts(dropna=False)"
   ]
  },
  {
   "cell_type": "code",
   "execution_count": 897,
   "metadata": {},
   "outputs": [],
   "source": [
    "# casting the value to be float. Removing spaces, comma (,) and $ before casting\n",
    "df_mbs_combined_201322[\"Total provider fees ($)\"] = (\n",
    "    df_mbs_combined_201322[\"Total provider fees ($)\"]\n",
    "    .str.strip()\n",
    "    .str.replace(\",\", \"\")\n",
    "    .str.replace(\"[$,]\", \"\", regex=True)\n",
    "    .astype(\"float\")\n",
    ")"
   ]
  },
  {
   "cell_type": "code",
   "execution_count": 898,
   "metadata": {},
   "outputs": [
    {
     "data": {
      "text/plain": [
       "dtype('float64')"
      ]
     },
     "execution_count": 898,
     "metadata": {},
     "output_type": "execute_result"
    }
   ],
   "source": [
    "df_mbs_combined_201322[\"Total provider fees ($)\"].dtype"
   ]
  },
  {
   "cell_type": "code",
   "execution_count": 899,
   "metadata": {},
   "outputs": [
    {
     "data": {
      "text/plain": [
       "count    2.343010e+05\n",
       "mean     6.530087e+06\n",
       "std      7.848583e+07\n",
       "min      0.000000e+00\n",
       "25%      5.389700e+04\n",
       "50%      6.216280e+05\n",
       "75%      3.009783e+06\n",
       "max      1.000562e+10\n",
       "Name: Total provider fees ($), dtype: float64"
      ]
     },
     "execution_count": 899,
     "metadata": {},
     "output_type": "execute_result"
    }
   ],
   "source": [
    "df_mbs_combined_201322[\"Total provider fees ($)\"].describe()"
   ]
  },
  {
   "cell_type": "code",
   "execution_count": 900,
   "metadata": {},
   "outputs": [
    {
     "name": "stdout",
     "output_type": "stream",
     "text": [
      "<class 'pandas.core.frame.DataFrame'>\n",
      "RangeIndex: 258535 entries, 0 to 258534\n",
      "Data columns (total 17 columns):\n",
      " #   Column                                        Non-Null Count   Dtype  \n",
      "---  ------                                        --------------   -----  \n",
      " 0   Year                                          258535 non-null  object \n",
      " 1   StateTerritory                                258535 non-null  object \n",
      " 2   GeographicUnit                                258535 non-null  object \n",
      " 3   GeographicCode                                258535 non-null  object \n",
      " 4   GeographicAreaName                            258535 non-null  object \n",
      " 5   GeographicGroup                               258535 non-null  object \n",
      " 6   ServiceLevel                                  258535 non-null  object \n",
      " 7   Service                                       258535 non-null  object \n",
      " 8   DemographicGroup                              258535 non-null  object \n",
      " 9   Medicare benefits per 100 people ($)          234301 non-null  float64\n",
      " 10  No. of patients                               234301 non-null  Int32  \n",
      " 11  No. of services                               234301 non-null  Int64  \n",
      " 12  Percentage of people who had the service (%)  234301 non-null  float16\n",
      " 13  Services per 100 people                       234301 non-null  float64\n",
      " 14  Total Medicare benefits paid ($)              234301 non-null  float64\n",
      " 15  Total provider fees ($)                       234301 non-null  float64\n",
      " 16  Estimated resident population                 258505 non-null  Int64  \n",
      "dtypes: Int32(1), Int64(2), float16(1), float64(4), object(9)\n",
      "memory usage: 31.8+ MB\n"
     ]
    }
   ],
   "source": [
    "df_mbs_combined_201322.info()"
   ]
  },
  {
   "cell_type": "code",
   "execution_count": 901,
   "metadata": {},
   "outputs": [
    {
     "data": {
      "text/plain": [
       "5        445\n",
       "0        314\n",
       "4        204\n",
       "59201    160\n",
       "1        120\n",
       "        ... \n",
       "60579      5\n",
       "22484      5\n",
       "17623      5\n",
       "10921      5\n",
       "28992      5\n",
       "Name: Estimated resident population, Length: 18284, dtype: Int64"
      ]
     },
     "execution_count": 901,
     "metadata": {},
     "output_type": "execute_result"
    }
   ],
   "source": [
    "df_mbs_combined_201322[\"Estimated resident population\"].value_counts(dropna=False)"
   ]
  },
  {
   "cell_type": "code",
   "execution_count": 902,
   "metadata": {},
   "outputs": [
    {
     "data": {
      "text/plain": [
       "count         258505.0\n",
       "mean     126692.421748\n",
       "std      835320.657884\n",
       "min                0.0\n",
       "25%            20080.0\n",
       "50%            43450.0\n",
       "75%            77425.0\n",
       "max         25697298.0\n",
       "Name: Estimated resident population, dtype: Float64"
      ]
     },
     "execution_count": 902,
     "metadata": {},
     "output_type": "execute_result"
    }
   ],
   "source": [
    "df_mbs_combined_201322[\"Estimated resident population\"].describe()"
   ]
  },
  {
   "cell_type": "markdown",
   "metadata": {},
   "source": [
    "##### 3.3.3 Drop Unwanted Columns"
   ]
  },
  {
   "cell_type": "code",
   "execution_count": 903,
   "metadata": {},
   "outputs": [],
   "source": [
    "df_mbs_combined_201322.drop([\"GeographicUnit\"], axis=1, inplace=True)"
   ]
  },
  {
   "cell_type": "code",
   "execution_count": 904,
   "metadata": {},
   "outputs": [
    {
     "name": "stdout",
     "output_type": "stream",
     "text": [
      "<class 'pandas.core.frame.DataFrame'>\n",
      "RangeIndex: 258535 entries, 0 to 258534\n",
      "Data columns (total 16 columns):\n",
      " #   Column                                        Non-Null Count   Dtype  \n",
      "---  ------                                        --------------   -----  \n",
      " 0   Year                                          258535 non-null  object \n",
      " 1   StateTerritory                                258535 non-null  object \n",
      " 2   GeographicCode                                258535 non-null  object \n",
      " 3   GeographicAreaName                            258535 non-null  object \n",
      " 4   GeographicGroup                               258535 non-null  object \n",
      " 5   ServiceLevel                                  258535 non-null  object \n",
      " 6   Service                                       258535 non-null  object \n",
      " 7   DemographicGroup                              258535 non-null  object \n",
      " 8   Medicare benefits per 100 people ($)          234301 non-null  float64\n",
      " 9   No. of patients                               234301 non-null  Int32  \n",
      " 10  No. of services                               234301 non-null  Int64  \n",
      " 11  Percentage of people who had the service (%)  234301 non-null  float16\n",
      " 12  Services per 100 people                       234301 non-null  float64\n",
      " 13  Total Medicare benefits paid ($)              234301 non-null  float64\n",
      " 14  Total provider fees ($)                       234301 non-null  float64\n",
      " 15  Estimated resident population                 258505 non-null  Int64  \n",
      "dtypes: Int32(1), Int64(2), float16(1), float64(4), object(8)\n",
      "memory usage: 29.8+ MB\n"
     ]
    }
   ],
   "source": [
    "df_mbs_combined_201322.info()"
   ]
  },
  {
   "cell_type": "markdown",
   "metadata": {},
   "source": [
    "## 5. Data Standardization"
   ]
  },
  {
   "cell_type": "markdown",
   "metadata": {},
   "source": [
    "#### 5.1 Year: Convert from Financial to Calendar Year "
   ]
  },
  {
   "cell_type": "code",
   "execution_count": 906,
   "metadata": {},
   "outputs": [
    {
     "data": {
      "text/plain": [
       "2021-22    28964\n",
       "2013-14    28718\n",
       "2014-15    28718\n",
       "2015-16    28718\n",
       "2016-17    28718\n",
       "2017-18    28718\n",
       "2018-19    28718\n",
       "2020-21    28639\n",
       "2019-20    28624\n",
       "Name: Year, dtype: int64"
      ]
     },
     "execution_count": 906,
     "metadata": {},
     "output_type": "execute_result"
    }
   ],
   "source": [
    "df_mbs_combined_201322[\"Year\"].value_counts()"
   ]
  },
  {
   "cell_type": "code",
   "execution_count": null,
   "metadata": {},
   "outputs": [],
   "source": [
    "year_replacement = {\n",
    "    \"2021-22\": \"2022\",\n",
    "    \"2020-21\": \"2021\",\n",
    "    \"2019-20\": \"2020\",\n",
    "    \"2018-19\": \"2019\",\n",
    "    \"2017-18\": \"2018\",\n",
    "    \"2016-17\": \"2017\",\n",
    "    \"2015-16\": \"2016\",\n",
    "    \"2014-15\": \"2015\",\n",
    "    \"2013-14\": \"2014\",\n",
    "}"
   ]
  }
 ],
 "metadata": {
  "kernelspec": {
   "display_name": "base",
   "language": "python",
   "name": "python3"
  },
  "language_info": {
   "codemirror_mode": {
    "name": "ipython",
    "version": 3
   },
   "file_extension": ".py",
   "mimetype": "text/x-python",
   "name": "python",
   "nbconvert_exporter": "python",
   "pygments_lexer": "ipython3",
   "version": "3.11.5"
  }
 },
 "nbformat": 4,
 "nbformat_minor": 2
}
